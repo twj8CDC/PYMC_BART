{
 "cells": [
  {
   "cell_type": "markdown",
   "metadata": {
    "application/vnd.databricks.v1+cell": {
     "cellMetadata": {},
     "inputWidgets": {},
     "nuid": "3376e3bd-80fa-468d-94e9-450722f6cf05",
     "showTitle": false,
     "title": ""
    }
   },
   "source": [
    "# Objective\n",
    "Evaluate interpretation and evaluation of hazard ratios/hazard rates with bart vs cox"
   ]
  },
  {
   "cell_type": "code",
   "execution_count": 0,
   "metadata": {
    "application/vnd.databricks.v1+cell": {
     "cellMetadata": {},
     "inputWidgets": {},
     "nuid": "55e1ad43-0e93-4ddd-97b0-887164da1be2",
     "showTitle": false,
     "title": ""
    }
   },
   "outputs": [],
   "source": [
    "import sksurv as sks\n",
    "import sksurv.preprocessing\n",
    "import sksurv.metrics\n",
    "import sksurv.datasets\n",
    "import sksurv.linear_model\n",
    "import sksurv.ensemble\n",
    "\n",
    "from pathlib import Path\n",
    "import arviz as az\n",
    "import matplotlib.pyplot as plt\n",
    "import numpy as np\n",
    "import pandas as pd\n",
    "import numpy as np\n",
    "import sklearn as skl\n",
    "import scipy.stats as sp\n",
    "\n",
    "import pymc as pm\n",
    "import pymc_bart as pmb\n",
    "import pandas as pd\n",
    "\n",
    "import importlib\n",
    "import mlflow as ml\n",
    "import simsurv_func as ssf\n",
    "import subprocess"
   ]
  },
  {
   "cell_type": "code",
   "execution_count": 0,
   "metadata": {
    "application/vnd.databricks.v1+cell": {
     "cellMetadata": {},
     "inputWidgets": {},
     "nuid": "10bad653-7c27-4e6f-b573-32ff203b578c",
     "showTitle": false,
     "title": ""
    }
   },
   "outputs": [],
   "source": [
    "OUTPUTS = \"outputs\"\n",
    "ALPHA = 1\n",
    "LAMBDA = \"np.exp(2 + 0.4*x_mat[:,0])\"\n",
    "TRAIN_CSV = \"outputs/train.csv\"\n",
    "RBART_CSV = \"outputs/rbart_surv.csv\"\n",
    "N = 100\n",
    "# T = 30\n",
    "X_VARS = 1\n",
    "CENS_SCALE = 5 # 40\n",
    "CENS_IND = True\n",
    "\n",
    "sv_mat, x_mat, lmbda, a, tlat, cens, t_event, status, T = ssf.sim_surv(\n",
    "                N=N, \n",
    "                # T=T,\n",
    "                x_vars=X_VARS,\n",
    "                a = ALPHA,\n",
    "                lambda_f = LAMBDA,\n",
    "                cens_scale=CENS_SCALE,\n",
    "                cens_ind = True,\n",
    "                err_ind = False)\n",
    "\n",
    "\n",
    "x_out, x_idx, x_cnt = ssf.get_x_info(x_mat)\n",
    "event_calc, cens_calc = ssf.get_status_perc(status)\n",
    "t_mean, t_max = ssf.get_event_time_metric(t_event)\n",
    "train = ssf.get_train_matrix(x_mat, t_event, status)\n",
    "title = \"actual_survival\"\n",
    "ssf.plot_sv(x_mat, sv_mat, T, title=title, save = False, show=True, dir=OUTPUTS)\n",
    "\n",
    "print(f\"cens_calc: {cens_calc} \\\n",
    "    \\nt_mean: {t_mean} \\\n",
    "    \\nt_max: {t_max}\")"
   ]
  },
  {
   "cell_type": "code",
   "execution_count": 0,
   "metadata": {
    "application/vnd.databricks.v1+cell": {
     "cellMetadata": {},
     "inputWidgets": {},
     "nuid": "bab299ef-a1d2-4ddd-9c80-f3d92a6641e4",
     "showTitle": false,
     "title": ""
    }
   },
   "outputs": [],
   "source": [
    "# exp model\n",
    "\n",
    "t = np.arange(1,25,1)\n",
    "\n",
    "x = np.array([0])\n",
    "a = 1\n",
    "B = 1.2\n",
    "lmbda = np.exp(0.1+ x[0] * B)\n",
    "lmbda = .2\n",
    "\n",
    "\n",
    "# hz = np.power(lmbda,a) * a * np.power(t, a-1) \n",
    "# hz\n",
    "ht = np.outer(lmbda, a * np.power(np.outer(lmbda, t), a-1))\n",
    "\n",
    "st = np.exp(np.power(-1 * lmbda * t, a))\n",
    "ft = ht * st\n",
    "ft"
   ]
  },
  {
   "cell_type": "code",
   "execution_count": 0,
   "metadata": {
    "application/vnd.databricks.v1+cell": {
     "cellMetadata": {},
     "inputWidgets": {},
     "nuid": "345a61c9-404f-4ff9-bcab-6b756edd5628",
     "showTitle": false,
     "title": ""
    }
   },
   "outputs": [],
   "source": [
    "plt.plot(t, ft[0])\n",
    "plt.plot(t, ht[0])\n",
    "# t.shape\n",
    "# ft.shape"
   ]
  },
  {
   "cell_type": "code",
   "execution_count": 0,
   "metadata": {
    "application/vnd.databricks.v1+cell": {
     "cellMetadata": {},
     "inputWidgets": {},
     "nuid": "8291bd5a-a5fc-47a3-99fb-0f27d1c9e189",
     "showTitle": false,
     "title": ""
    }
   },
   "outputs": [],
   "source": [
    "# pm.__version__\n",
    "pmb.__version__"
   ]
  }
 ],
 "metadata": {
  "application/vnd.databricks.v1+notebook": {
   "dashboards": [],
   "language": "python",
   "notebookMetadata": {},
   "notebookName": "eval_0",
   "widgets": {}
  },
  "kernelspec": {
   "display_name": "Python 3.10.6 64-bit",
   "language": "python",
   "name": "python3"
  },
  "language_info": {
   "codemirror_mode": {
    "name": "ipython",
    "version": 3
   },
   "file_extension": ".py",
   "mimetype": "text/x-python",
   "name": "python",
   "nbconvert_exporter": "python",
   "pygments_lexer": "ipython3",
   "version": "3.10.6"
  },
  "orig_nbformat": 4,
  "vscode": {
   "interpreter": {
    "hash": "916dbcbb3f70747c44a77c7bcd40155683ae19c65e1c03b4aa3499c5328201f1"
   }
  }
 },
 "nbformat": 4,
 "nbformat_minor": 0
}

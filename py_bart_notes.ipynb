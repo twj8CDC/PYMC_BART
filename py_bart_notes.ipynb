{
 "cells": [
  {
   "cell_type": "markdown",
   "metadata": {},
   "source": [
    "1. create a cgbart function\n",
    "2. args:\n",
    "    - type  (2: pbart)\n",
    "    - n     obs in train\n",
    "    - p     dimension of x train\n",
    "    - np    obs in test data\n",
    "    - x     x train data (transposed p*n)\n",
    "    - y     y train data (n*1)\n",
    "    - xp    x test\n",
    "    - m     number trees\n",
    "    - nc    cut poitns\n",
    "    - nd    number draws\n",
    "    - burn  burn-in draws skipped\n",
    "    - thin  thinning\n",
    "    - power\n",
    "    - base\n",
    "    - Offset    calculated offset\n",
    "    - tau\n",
    "    - nu\n",
    "    - lambda\n",
    "    - sigest\n",
    "    - w\n",
    "    - dart  true/false\n",
    "    - theta\n",
    "    - omega\n",
    "    - grp\n",
    "    - a     sparsity prior\n",
    "    - b     sprasity prior\n",
    "    - rho   sparsity prior\n",
    "    - aug   catagorical strategy\n",
    "    - printevery\n",
    "    - Xinfo\n",
    "3. Instantiate outputs\n",
    "    - some are for tracking \n",
    "    - sdraw, trdraw, tedraw are the actual return datasets\n",
    "\n",
    "4. Create randome number generator\n",
    "    - gen\n",
    "5. Create bart/heterbart\n",
    "    - bm(m)\n",
    "        - with number of trees m\n",
    "6. Create a string stream to save trees\n",
    "    - set precision of tree to 10\n",
    "\n",
    "7. Print all the intiating info\n"
   ]
  }
 ],
 "metadata": {
  "kernelspec": {
   "display_name": "Python 3.10.6 64-bit",
   "language": "python",
   "name": "python3"
  },
  "language_info": {
   "name": "python",
   "version": "3.10.6"
  },
  "orig_nbformat": 4,
  "vscode": {
   "interpreter": {
    "hash": "916dbcbb3f70747c44a77c7bcd40155683ae19c65e1c03b4aa3499c5328201f1"
   }
  }
 },
 "nbformat": 4,
 "nbformat_minor": 2
}

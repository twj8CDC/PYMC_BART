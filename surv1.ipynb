{
 "cells": [
  {
   "cell_type": "markdown",
   "metadata": {
    "application/vnd.databricks.v1+cell": {
     "cellMetadata": {},
     "inputWidgets": {},
     "nuid": "5df6a409-2542-42b9-b7d3-03681035bb62",
     "showTitle": false,
     "title": ""
    }
   },
   "source": [
    "# Survival Analyses \n",
    "Comparison of using scikit-surv and pymc-BART\n",
    "\n",
    "Objectives:\n",
    "- Comparison of model using scikit-surv cph, randomForest and pymc-BART\n",
    "- Use the same validation metrics for each model\n",
    "- Test on multiple datasets\n",
    "- Extend to R-BART\n"
   ]
  },
  {
   "cell_type": "markdown",
   "metadata": {
    "application/vnd.databricks.v1+cell": {
     "cellMetadata": {},
     "inputWidgets": {},
     "nuid": "a733bd10-79d3-46a4-a3e5-d8789592b3c4",
     "showTitle": false,
     "title": ""
    }
   },
   "source": [
    "## Imports"
   ]
  },
  {
   "cell_type": "code",
   "execution_count": 0,
   "metadata": {
    "application/vnd.databricks.v1+cell": {
     "cellMetadata": {},
     "inputWidgets": {},
     "nuid": "447cf78a-c93b-4bd4-8d10-0f6bb615dd4e",
     "showTitle": false,
     "title": ""
    }
   },
   "outputs": [],
   "source": [
    "import sksurv as sks\n",
    "import sksurv.preprocessing\n",
    "import sksurv.metrics\n",
    "import sksurv.datasets\n",
    "\n",
    "from pathlib import Path\n",
    "import arviz as az\n",
    "import matplotlib.pyplot as plt\n",
    "import numpy as np\n",
    "import pandas as pd\n",
    "import pymc as pm\n",
    "import pymc_bart as pmb\n",
    "import pandas as pd\n",
    "import importlib\n",
    "import numpy as np\n",
    "import sklearn as skl\n",
    "import scipy.stats as sp"
   ]
  },
  {
   "cell_type": "code",
   "execution_count": 0,
   "metadata": {
    "application/vnd.databricks.v1+cell": {
     "cellMetadata": {},
     "inputWidgets": {},
     "nuid": "ee2b8cfe-79d0-480b-95fd-89e0e28a812c",
     "showTitle": false,
     "title": ""
    }
   },
   "outputs": [],
   "source": [
    "from sklearn import set_config\n",
    "set_config(display=\"text\")"
   ]
  },
  {
   "cell_type": "markdown",
   "metadata": {
    "application/vnd.databricks.v1+cell": {
     "cellMetadata": {},
     "inputWidgets": {},
     "nuid": "da100c0d-b5a8-475b-b269-b9af61cc4c3e",
     "showTitle": false,
     "title": ""
    }
   },
   "source": [
    "## Dataset"
   ]
  },
  {
   "cell_type": "code",
   "execution_count": 0,
   "metadata": {
    "application/vnd.databricks.v1+cell": {
     "cellMetadata": {},
     "inputWidgets": {},
     "nuid": "c7a69c12-ea4e-46ff-899c-fc55c1afb513",
     "showTitle": false,
     "title": ""
    }
   },
   "outputs": [],
   "source": [
    "# get lung dataset\n",
    "data_x, data_y = sks.datasets.load_veterans_lung_cancer()\n",
    "print(data_x)\n",
    "print(data_y)\n"
   ]
  },
  {
   "cell_type": "code",
   "execution_count": 0,
   "metadata": {
    "application/vnd.databricks.v1+cell": {
     "cellMetadata": {},
     "inputWidgets": {},
     "nuid": "28153cbe-244d-4b5d-8785-a58cdaf4f705",
     "showTitle": false,
     "title": ""
    }
   },
   "outputs": [],
   "source": [
    "# onehotencode the data_x\n",
    "data_x_n = sks.preprocessing.OneHotEncoder().fit_transform(data_x)\n",
    "data_x_n.head()"
   ]
  },
  {
   "cell_type": "markdown",
   "metadata": {
    "application/vnd.databricks.v1+cell": {
     "cellMetadata": {},
     "inputWidgets": {},
     "nuid": "7cd910ec-2be0-4a22-8de5-b5c716003ef2",
     "showTitle": false,
     "title": ""
    }
   },
   "source": [
    "## COX Model"
   ]
  },
  {
   "cell_type": "code",
   "execution_count": 0,
   "metadata": {
    "application/vnd.databricks.v1+cell": {
     "cellMetadata": {},
     "inputWidgets": {},
     "nuid": "a91dcd92-1122-44de-bd80-c24d44b9640e",
     "showTitle": false,
     "title": ""
    }
   },
   "outputs": [],
   "source": [
    "# load and fit cox model\n",
    "cph = sks.linear_model.CoxPHSurvivalAnalysis()\n",
    "cph.fit(data_x_n, data_y)"
   ]
  },
  {
   "cell_type": "code",
   "execution_count": 0,
   "metadata": {
    "application/vnd.databricks.v1+cell": {
     "cellMetadata": {},
     "inputWidgets": {},
     "nuid": "97d51f40-7fb4-4314-bd4a-e40a8bbb2de9",
     "showTitle": false,
     "title": ""
    }
   },
   "outputs": [],
   "source": [
    "# show the coef\n",
    "pd.Series(cph.coef_, index = data_x_n.columns)"
   ]
  },
  {
   "cell_type": "code",
   "execution_count": 0,
   "metadata": {
    "application/vnd.databricks.v1+cell": {
     "cellMetadata": {},
     "inputWidgets": {},
     "nuid": "8a407c6b-a887-4db8-a671-c1afa39fe113",
     "showTitle": false,
     "title": ""
    }
   },
   "outputs": [],
   "source": [
    "# create predictions for synthetic patients (over the variable combinations of celltype and treatment)\n",
    "# Prediction matrix for all combinations of treatment, celltype with age 65, karnofsky=60, months from diagnosis=1 and prior therapy 0 held constant\n",
    "x_new = pd.DataFrame.from_dict(\n",
    "    {\n",
    "        1: [65,0,0,1,60,1,0,1],\n",
    "        2: [65,0,0,1,60,1,0,0],\n",
    "        3: [65,0,1,0,60,1,0,0],\n",
    "        4: [65,0,1,0,60,1,0,1]\n",
    "    },\n",
    "    columns=data_x_n.columns,\n",
    "    orient = \"index\"\n",
    ")\n",
    "x_new"
   ]
  },
  {
   "cell_type": "code",
   "execution_count": 0,
   "metadata": {
    "application/vnd.databricks.v1+cell": {
     "cellMetadata": {},
     "inputWidgets": {},
     "nuid": "a2046b21-9441-4f36-99eb-5dcb48c1fbcf",
     "showTitle": false,
     "title": ""
    }
   },
   "outputs": [],
   "source": [
    "# get predictions\n",
    "# predictions are returned as an array with step functions\n",
    "pred_surv = cph.predict_survival_function(x_new)\n",
    "pred_surv"
   ]
  },
  {
   "cell_type": "code",
   "execution_count": 0,
   "metadata": {
    "application/vnd.databricks.v1+cell": {
     "cellMetadata": {},
     "inputWidgets": {},
     "nuid": "64d26868-80e5-43ac-ad2d-87a8106b7017",
     "showTitle": false,
     "title": ""
    }
   },
   "outputs": [],
   "source": [
    "# plot \n",
    "time_points = np.arange(1,1000)\n",
    "for i, surv_func in enumerate(pred_surv):\n",
    "    plt.step(time_points, surv_func(time_points), where=\"post\", label=f\"Sample {i + 1}\")\n",
    "plt.ylabel(\"est. Surv\")\n",
    "plt.xlabel(\"time\")\n",
    "plt.legend(loc=\"best\")"
   ]
  },
  {
   "cell_type": "markdown",
   "metadata": {
    "application/vnd.databricks.v1+cell": {
     "cellMetadata": {},
     "inputWidgets": {},
     "nuid": "bc1d7b1f-2db8-4829-b6f4-f313404a4d0f",
     "showTitle": false,
     "title": ""
    }
   },
   "source": [
    "NOTE: this is only for the combination of cell type and test, conditional on the specified other covariates"
   ]
  },
  {
   "cell_type": "code",
   "execution_count": 0,
   "metadata": {
    "application/vnd.databricks.v1+cell": {
     "cellMetadata": {},
     "inputWidgets": {},
     "nuid": "8f47670f-1ea6-4e65-b4fe-daa88788e7e1",
     "showTitle": false,
     "title": ""
    }
   },
   "outputs": [],
   "source": [
    "# get risk scores\n",
    "cph_risk = cph.predict_survival_function(data_x_n, return_array=True)\n",
    "cph_surv_mean = np.mean(cph_risk, axis=0)\n",
    "cph_surv_mean"
   ]
  },
  {
   "cell_type": "code",
   "execution_count": 0,
   "metadata": {
    "application/vnd.databricks.v1+cell": {
     "cellMetadata": {},
     "inputWidgets": {},
     "nuid": "680d6437-0a6d-44b4-a422-bd32abf81cf8",
     "showTitle": false,
     "title": ""
    }
   },
   "outputs": [],
   "source": [
    "plt.step(np.unique(data_y[\"Survival_in_days\"]), cph_surv_mean)"
   ]
  },
  {
   "cell_type": "markdown",
   "metadata": {
    "application/vnd.databricks.v1+cell": {
     "cellMetadata": {},
     "inputWidgets": {},
     "nuid": "d0514028-c487-4821-be1c-bceb63196477",
     "showTitle": false,
     "title": ""
    }
   },
   "source": [
    "## Metrics\n",
    "- Harrell's C-index\n",
    "    - biased upwards with increasing censoring\n",
    "- Uno C-index\n",
    "    - uses ipcw and helps reduce upward bias with increased censoring\n",
    "    - When dataset is large and censoring is large then using the concordance ipcw will be more stable\n",
    "- Time-dependent ROC\n",
    "    - ROC compares the false postive rate (1-specificity) against the true positive rate(sensitivity\n",
    "    - consider cumulative cases and dynamic controls at time t\n",
    "        - cumulative cases are individuals who experience event prior to or at time t (t_i <= t)\n",
    "        - dynamic controls are individuals with t_i > t\n",
    "    - determins how well a model can identify patients who fail by time t or (t_i < t) from subjects who fail after time t (t_i > t)\n",
    "    - useful if one is predicting occurence of event in a period up to time t, rather than just at one specific time point t\n",
    "        eg\n",
    "        ```\n",
    "        t ----t1----t2----t3-----t4   \n",
    "        1 --e--|-----|-----|------| \n",
    "        2 -----|-e---|-----|------|\n",
    "        3 -----|-e---|-----|------| \n",
    "        4 -----|-----|-----|---e--|\n",
    "        ```\n",
    "        at t2, pats 1,2,3 are cumulative cases and 4 is a dynamic control\n",
    "    \n",
    "    - requires that test data time range is within the observed range of the training data\n",
    "    - the last time point to evaluate the ROC must allow some patients to be censored after the timepoint P(c > t) > 0\n",
    "    * see the custom auc function for more details\n",
    "- Brier Score (Time-Dependent)\n",
    "         "
   ]
  },
  {
   "cell_type": "markdown",
   "metadata": {
    "application/vnd.databricks.v1+cell": {
     "cellMetadata": {},
     "inputWidgets": {},
     "nuid": "53573cae-d402-4ee1-985d-e3187e51bfaa",
     "showTitle": false,
     "title": ""
    }
   },
   "source": [
    "### AUC\n",
    "sksurv AUC\n",
    "\n",
    "- will need to implement the time-dependent risk scores"
   ]
  },
  {
   "cell_type": "code",
   "execution_count": 0,
   "metadata": {
    "application/vnd.databricks.v1+cell": {
     "cellMetadata": {},
     "inputWidgets": {},
     "nuid": "578bf8f7-83e8-4f34-a75c-6d526d251d1a",
     "showTitle": false,
     "title": ""
    }
   },
   "outputs": [],
   "source": [
    "\n",
    "times = np.percentile(data_y[\"Survival_in_days\"], np.linspace(5,81,15))\n",
    "scores = np.array(data_x_n[\"Age_in_years\"])\n",
    "cph_auc, cph_auc_mean = sks.metrics.cumulative_dynamic_auc(data_y, data_y, cph_risk, times)\n",
    "\n",
    "print(cph_auc)\n",
    "plt.plot(times, cph_auc)\n",
    "plt.axhline(cph_auc_mean, linestyle=\"--\")\n",
    "\n",
    "# data_x_n"
   ]
  },
  {
   "cell_type": "markdown",
   "metadata": {
    "application/vnd.databricks.v1+cell": {
     "cellMetadata": {},
     "inputWidgets": {},
     "nuid": "f2b4c3cf-298c-4c99-90d1-77c6b48aff5a",
     "showTitle": false,
     "title": ""
    }
   },
   "source": [
    "### IPCW\n",
    "IPCW is just 1/surv() calculated from the km estimator. \n",
    "\n",
    "Easy as fit the km.estimator, get the survival estimates, replace any 0 with infinity and finally inverse with 1/surv\n",
    "\n",
    "\n",
    "\n",
    "- Required for custom AUC, it is incoporated in the sksurv AUC\n",
    "\n",
    "- There are two main paths to access the ipcw in sksurv\n",
    "    - direct with ipc_weights \n",
    "    - class censoringDistributionEstimator\n",
    "\n",
    "- ipc_weights is a little more direct and light-weight\n",
    "\n",
    "- A custom implementation might be useful for further understanding\n",
    "\n",
    "\n"
   ]
  },
  {
   "cell_type": "code",
   "execution_count": 0,
   "metadata": {
    "application/vnd.databricks.v1+cell": {
     "cellMetadata": {},
     "inputWidgets": {},
     "nuid": "f7969164-4dba-41cf-b146-dbe9e30a4069",
     "showTitle": false,
     "title": ""
    }
   },
   "outputs": [],
   "source": [
    "import sksurv.nonparametric\n",
    "\n",
    "# direct\n",
    "ipwc = sks.nonparametric.ipc_weights(data_y[\"Status\"], data_y[\"Survival_in_days\"])\n",
    "print(ipwc)\n",
    "\n",
    "# class\n",
    "cde = sks.nonparametric.CensoringDistributionEstimator()\n",
    "cde.fit(data_y)\n",
    "ipcw2 = cde.predict_ipcw(data_y)\n",
    "print(ipcw2)"
   ]
  },
  {
   "cell_type": "markdown",
   "metadata": {
    "application/vnd.databricks.v1+cell": {
     "cellMetadata": {},
     "inputWidgets": {},
     "nuid": "514f56ad-2759-4395-a045-5dcc0aae641a",
     "showTitle": false,
     "title": ""
    }
   },
   "source": [
    "### AUC Custom\n",
    "- Requires\n",
    "    - ipcw of training data\n",
    "    - time range to calculate on (must not extend to the max censoring date)\n",
    "    - a risk score (i think this can be either a time dependent or independent risk score)\n",
    "    - the original times data"
   ]
  },
  {
   "cell_type": "code",
   "execution_count": 0,
   "metadata": {
    "application/vnd.databricks.v1+cell": {
     "cellMetadata": {},
     "inputWidgets": {},
     "nuid": "d7168cb0-4021-4ac9-9d81-29702ca245e1",
     "showTitle": false,
     "title": ""
    }
   },
   "outputs": [],
   "source": [
    "\n",
    "\n",
    "# auc_num1 = 0\n",
    "def get_auc(event, time, hz, w):\n",
    "    t_out = np.zeros(shape=time.shape)\n",
    "    for ti in range(0,len(time)):\n",
    "        #set time\n",
    "        t = time[ti]\n",
    "        # print(\"t\", t)\n",
    "\n",
    "        # get numerator\n",
    "        auc_num = 0\n",
    "        pat_rng = range(0, len(hz))\n",
    "        # sum over patients: sum_rank_ipcw\n",
    "        # where sum_rank_ipcw: rank_indicator * ipcw weight\n",
    "        # where rank_indicator: 1 if the other patient has event after time, current patient has event before/at time and other patients hazard is < current patients\n",
    "            # eg. if time is T = 10, current patient event is 5 and hz is 3, and other patients events are 15,20,1; hz 0,1,4\n",
    "            # then for current patient iterations we would see\n",
    "                # iter | ot_pat > t | cur_pat <= t | hz(ot_pat) <= hz(cur_pat) | indicator | weight | out | cumsum\n",
    "                # 1    | 1          | 1            | 1                         | 1         | 1.3    | 1.3 |  1.3\n",
    "                # 2    | 1          | 1            | 1                         | 1         | 1.3    | 1.3 |  2.6\n",
    "                # 3    | 0          | 1            | 0                         | 0         | 1.3    | 0   |  2.6 ***\n",
    "        # The cumsum for each patient will be added together to form the numerator\n",
    "        for i in pat_rng:\n",
    "            auc_num1 = 0\n",
    "            for j in pat_rng:\n",
    "                # 1 if iter pat time > t\n",
    "                i1 = 1 if event[j] > t else 0\n",
    "                # 1 if hold pat time <= t\n",
    "                i2 = 1 if event[i] <= t else 0\n",
    "                # 1 if hz iter pat <= hz hold pat\n",
    "                i3 = 1 if hz[j] <= hz[i] else 0\n",
    "                # if iter pat is > t, hold pat <= t and iter pat hz <= hz hold pat then all are 1 and you adjust by the ipcw \n",
    "                auc_num1 += i1 * i2 * w[i] * i3 \n",
    "            # print(\"auc_num1\", auc_num1)\n",
    "            auc_num += auc_num1\n",
    "\n",
    "        # denom\n",
    "        # the denom is the cumsum I(pat_time > t) * cumsum I(pat_time <= t * wi)\n",
    "        auc_denom = 0\n",
    "        den_i1 = 0\n",
    "        for i in pat_rng:\n",
    "            i1 = 1 if event[i] > t else 0\n",
    "            den_i1 += i1\n",
    "\n",
    "        den_i2 = 0\n",
    "        for i in pat_rng:\n",
    "            i1 = 1 if event[i] <= t else 0\n",
    "            # added in w to the equation\n",
    "            den_i2 += i1 * w[i]\n",
    "\n",
    "        # eval auc\n",
    "        # the auc final calc for each timepoint is then ratio of number correctly classified over number expected\n",
    "        auc = auc_num / (den_i1 * den_i2)\n",
    "        t_out[ti] = auc\n",
    "\n",
    "    return t_out\n",
    "\n"
   ]
  },
  {
   "cell_type": "code",
   "execution_count": 0,
   "metadata": {
    "application/vnd.databricks.v1+cell": {
     "cellMetadata": {},
     "inputWidgets": {},
     "nuid": "ad25d7e6-8fab-460a-bedb-4f7b6c4801ac",
     "showTitle": false,
     "title": ""
    }
   },
   "outputs": [],
   "source": [
    "# Implementation\n",
    "# Requires\n",
    "    # ipcw of training data\n",
    "    # time range to calculate on (must not extend to the max censoring date)\n",
    "    # a risk score (i think this can be either a time dependent or independent risk score)\n",
    "    # the original times data\n",
    "\n",
    "# get ipcw\n",
    "ipcw = sks.nonparametric.ipc_weights(data_y[\"Status\"], data_y[\"Survival_in_days\"])\n",
    "\n",
    "# get times to quantify\n",
    "times_cph = np.percentile(data_y[\"Survival_in_days\"], np.linspace(5,81, 15))\n",
    "\n",
    "# get auc\n",
    "auc_cust = get_auc(event = data_y[\"Survival_in_days\"], time = times_cph, hz = cph_risk, w = ipcw)"
   ]
  },
  {
   "cell_type": "code",
   "execution_count": 0,
   "metadata": {
    "application/vnd.databricks.v1+cell": {
     "cellMetadata": {},
     "inputWidgets": {},
     "nuid": "d9c9c308-cbcb-4511-8e7d-ae97f2b2e9aa",
     "showTitle": false,
     "title": ""
    }
   },
   "outputs": [],
   "source": [
    "# plot auc\n",
    "plt.plot(times_cph, auc_cust)"
   ]
  },
  {
   "cell_type": "code",
   "execution_count": 0,
   "metadata": {
    "application/vnd.databricks.v1+cell": {
     "cellMetadata": {},
     "inputWidgets": {},
     "nuid": "d6d7372e-a9b1-4a25-a420-3d434efc6a2b",
     "showTitle": false,
     "title": ""
    }
   },
   "outputs": [],
   "source": [
    "# compare the cust auc and the sksurv auc\n",
    "print(auc_cust)\n",
    "print(cph_auc)\n",
    "# Looks like it works correctly!"
   ]
  },
  {
   "cell_type": "markdown",
   "metadata": {
    "application/vnd.databricks.v1+cell": {
     "cellMetadata": {},
     "inputWidgets": {},
     "nuid": "5a597d0a-7da2-4405-8796-0e0bd98aa996",
     "showTitle": false,
     "title": ""
    }
   },
   "source": [
    "### C-Index\n",
    "\n",
    "It would be worth working out these details in a custom function"
   ]
  },
  {
   "cell_type": "code",
   "execution_count": 0,
   "metadata": {
    "application/vnd.databricks.v1+cell": {
     "cellMetadata": {},
     "inputWidgets": {},
     "nuid": "69cac012-a970-4ebe-a97c-ba3f6d1a35f0",
     "showTitle": false,
     "title": ""
    }
   },
   "outputs": [],
   "source": [
    "# get c-index of the trained model on the training dataset\n",
    "\n",
    "# prediction on train\n",
    "pred_cph = ecph.predict(data_x_n)\n",
    "\n",
    "# harrells c-index\n",
    "h_cindex_cph = sks.metrics.concordance_index_censored(data_y[\"Status\"], data_y[\"Survival_in_days\"], pred_cph)\n",
    "print(\"harrels c-index\", h_cindex_cph[0])\n",
    "\n",
    "# uno ipcw c-index\n",
    "ipcw_cindex_cph = sks.metrics.concordance_index_ipcw(data_y, data_y, pred_cph)\n",
    "print(\"ipcw c-index\", ipcw_cindex_cph[0])\n"
   ]
  },
  {
   "cell_type": "code",
   "execution_count": 0,
   "metadata": {
    "application/vnd.databricks.v1+cell": {
     "cellMetadata": {},
     "inputWidgets": {},
     "nuid": "88209df4-aba3-4fed-a0ab-fa25e34a801e",
     "showTitle": false,
     "title": ""
    }
   },
   "outputs": [],
   "source": [
    "# # c-index custom\n",
    "# def c_index(event_indicator, event_time, estimate):\n",
    "#     order = np.argsort(event_Time)\n",
    "\n",
    "#     condordant = 0\n",
    "#     discordant = 0\n",
    "#     tied_risk = 0\n",
    "#     numerator = 0.0\n",
    "#     denominator = 0.0\n",
    "#     for ind, mask, tied_time in _iter_comparable(event_indicator, event_time, order):\n",
    "#         est_i = estimate[order[ind]]\n",
    "#         event_i = event_indicator[order[ind]]\n",
    "#         w_i = weights[order[ind]]\n",
    "\n",
    "#         est = estimate[order[mask]]\n",
    "\n",
    "#         assert event_i, f\"got censored sample at index {order[ind]}, but expected uncensored\"\n",
    "\n",
    "#         ties = np.absolute(est - est_i) <= tied_tol\n",
    "#         n_ties = ties.sum()\n",
    "#         # an event should have a higher score\n",
    "#         con = est < est_i\n",
    "#         n_con = con[~ties].sum()\n",
    "\n",
    "#         numerator += w_i * n_con + 0.5 * w_i * n_ties\n",
    "#         denominator += w_i * mask.sum()\n",
    "\n",
    "#         tied_risk += n_ties\n",
    "#         concordant += n_con\n",
    "#         discordant += est.size - n_con - n_ties\n",
    "\n",
    "#     if tied_time is None:\n",
    "#         raise NoComparablePairException(\"Data has no comparable pairs, cannot estimate concordance index.\")\n",
    "\n",
    "#     cindex = numerator / denominator\n",
    "#     return cindex, concordant, discordant, tied_risk, tied_time\n"
   ]
  },
  {
   "cell_type": "markdown",
   "metadata": {
    "application/vnd.databricks.v1+cell": {
     "cellMetadata": {},
     "inputWidgets": {},
     "nuid": "5d31ebfd-d7c1-44d6-a350-bd16d6c2b53e",
     "showTitle": false,
     "title": ""
    }
   },
   "source": [
    "### Brier Score (time-dependent)\n",
    "\n",
    "- MSE for right censored data\n",
    "- Depends on the survival probability and ipcw"
   ]
  },
  {
   "cell_type": "code",
   "execution_count": 0,
   "metadata": {
    "application/vnd.databricks.v1+cell": {
     "cellMetadata": {},
     "inputWidgets": {},
     "nuid": "1fd90f2c-a6e9-4d8b-930e-6ff6c413a4a6",
     "showTitle": false,
     "title": ""
    }
   },
   "outputs": [],
   "source": [
    "# Brier score\n",
    "\n",
    "# get inputs\n",
    "y_times = data_y[\"Survival_in_days\"]\n",
    "times = np.percentile(y_times, np.linspace(10,90,10))\n",
    "print(times)\n",
    "\n",
    "cph_surv = ecph.predict_survival_function(data_x_n)\n",
    "cph_surv1 = np.stack([fn(times) for fn in cph_surv])\n",
    "\n",
    "sks_cph_brier = sks.metrics.brier_score(data_y, data_y, cph_surv1, times)\n",
    "sks_cph_brier\n"
   ]
  },
  {
   "cell_type": "markdown",
   "metadata": {
    "application/vnd.databricks.v1+cell": {
     "cellMetadata": {},
     "inputWidgets": {},
     "nuid": "410aea1f-3d1a-4557-9423-a430cb9fe76d",
     "showTitle": false,
     "title": ""
    }
   },
   "source": [
    "### Custom Brier"
   ]
  },
  {
   "cell_type": "code",
   "execution_count": 0,
   "metadata": {
    "application/vnd.databricks.v1+cell": {
     "cellMetadata": {},
     "inputWidgets": {},
     "nuid": "babfb540-44fc-4917-9276-b2be9b9675c2",
     "showTitle": false,
     "title": ""
    }
   },
   "outputs": [],
   "source": [
    "# custom brier\n",
    "\n",
    "def get_brier(y_time, delta, times, surv, ipcw, kipcw, ig = False, ar_out = False):\n",
    "    t_out = np.zeros(times.shape)\n",
    "    n = len(y_time)\n",
    "\n",
    "    for ti, t in enumerate(times):\n",
    "        # t = times[ti]\n",
    "        score = 0\n",
    "        for i in range(0, len(y_time)):\n",
    "            sv = surv[i](t)\n",
    "            \n",
    "            i1 = 1 if y_time[i] <= t and delta[i] == 1 else 0 \n",
    "            surv_ipcw1 = pow((0 - sv), 2)/ipcw[i] \n",
    "\n",
    "            i2 = 1 if y_time[i] > t else 0\n",
    "            surv_ipcw2 = pow((1 - sv), 2)/kipcw[ti]\n",
    "\n",
    "            score += (i1 * surv_ipcw1) + (i2 * surv_ipcw2)\n",
    "        t_out[ti] = score/n\n",
    "    \n",
    "    if ig == False:\n",
    "        return t_out\n",
    "    else:\n",
    "        ig_brier = np.trapz(t_out, times)/(times[-1]-times[0])\n",
    "        if ar_out:\n",
    "            return ig_brier, t_out\n",
    "        else:\n",
    "            return ig_brier\n"
   ]
  },
  {
   "cell_type": "code",
   "execution_count": 0,
   "metadata": {
    "application/vnd.databricks.v1+cell": {
     "cellMetadata": {},
     "inputWidgets": {},
     "nuid": "239bcefe-dd32-4f1e-bbb1-4db6928b406e",
     "showTitle": false,
     "title": ""
    }
   },
   "outputs": [],
   "source": [
    "# get inputs\n",
    "y_times = data_y[\"Survival_in_days\"]\n",
    "delta = data_y[\"Status\"]\n",
    "cph_surv = ecph.predict_survival_function(data_x_n)\n",
    "\n",
    "# get times\n",
    "times = np.percentile(y_times, np.linspace(10,90,10))\n",
    "\n",
    "# get the ipcw\n",
    "cde = sks.nonparametric.CensoringDistributionEstimator()\n",
    "cde.fit(data_y)\n",
    "\n",
    "# get the ipcw for patients\n",
    "# ipcw1 = cde.predict_ipcw(data_y)\n",
    "ipcw1 = cde.predict_proba(data_y[\"Survival_in_days\"])\n",
    "ipcw1[ipcw1 ==0] = np.inf\n",
    "\n",
    "\n",
    "# get the ipcw for times\n",
    "ipcw2 = cde.predict_proba(times)\n",
    "ipcw2[ipcw2 == 0] = np.inf\n",
    "kipcw = ipcw2\n",
    "\n",
    "cus_cph_brier = get_brier(y_times, delta, times, cph_surv, ipcw1, kipcw)\n",
    "\n",
    "print(times)\n",
    "print(cus_cph_brier)\n",
    "print(sks_cph_brier[0])\n",
    "print(sks_cph_brier[1])\n",
    "\n"
   ]
  },
  {
   "cell_type": "code",
   "execution_count": 0,
   "metadata": {
    "application/vnd.databricks.v1+cell": {
     "cellMetadata": {},
     "inputWidgets": {},
     "nuid": "d5b5015c-fa35-4501-90b0-cdb1d5930ce2",
     "showTitle": false,
     "title": ""
    }
   },
   "outputs": [],
   "source": [
    "ig1 = get_brier(y_times, delta, times, cph_surv, ipcw1, kipcw, ig=True)\n",
    "\n",
    "ig2 = sks.metrics.integrated_brier_score(data_y, data_y, cph_surv1, times)\n",
    "print(ig1, ig2)"
   ]
  },
  {
   "cell_type": "markdown",
   "metadata": {
    "application/vnd.databricks.v1+cell": {
     "cellMetadata": {},
     "inputWidgets": {},
     "nuid": "c306bf37-3c37-4015-8f49-4810ad144bbc",
     "showTitle": false,
     "title": ""
    }
   },
   "source": [
    "#### Using the kaplain meier estimator as baseline\n",
    "You need to build the step funciton as seen below\n",
    "\n",
    "ig_brier is a bit higher on the insample scoring"
   ]
  },
  {
   "cell_type": "code",
   "execution_count": 0,
   "metadata": {
    "application/vnd.databricks.v1+cell": {
     "cellMetadata": {},
     "inputWidgets": {},
     "nuid": "883e8543-3084-43a5-b374-26aa8da9b0eb",
     "showTitle": false,
     "title": ""
    }
   },
   "outputs": [],
   "source": [
    "km_surv = sks.functions.StepFunction(*sks.nonparametric.kaplan_meier_estimator(delta, y_times, conf_type=None))\n",
    "km_surv = np.tile(km_surv, (len(y_times)))\n",
    "# cph_surv.shape\n",
    "# km_surv.shape\n",
    "\n",
    "get_brier(y_times, delta, times, km_surv, ipcw1, kipcw, ig=True, ar_out=True)"
   ]
  },
  {
   "cell_type": "markdown",
   "metadata": {
    "application/vnd.databricks.v1+cell": {
     "cellMetadata": {},
     "inputWidgets": {},
     "nuid": "b6122ced-68c1-419d-a52f-adabf041e61a",
     "showTitle": false,
     "title": ""
    }
   },
   "source": [
    "Success with the brier score custom implementaiton."
   ]
  },
  {
   "cell_type": "markdown",
   "metadata": {
    "application/vnd.databricks.v1+cell": {
     "cellMetadata": {},
     "inputWidgets": {},
     "nuid": "0ce4144b-6f90-4d29-b814-38f1f86bfe04",
     "showTitle": false,
     "title": ""
    }
   },
   "source": [
    "## BART-pymc\n",
    "Run BART on the the dataset used in the cox"
   ]
  },
  {
   "cell_type": "code",
   "execution_count": 0,
   "metadata": {
    "application/vnd.databricks.v1+cell": {
     "cellMetadata": {},
     "inputWidgets": {},
     "nuid": "de5d5603-fe82-41bf-bbba-a87dbb89c400",
     "showTitle": false,
     "title": ""
    }
   },
   "outputs": [],
   "source": [
    "data_x, data_y = sks.datasets.load_veterans_lung_cancer()\n",
    "# print(data_x)\n",
    "# print(data_y)\n",
    "data_x_n = sks.preprocessing.OneHotEncoder().fit_transform(data_x)\n",
    "\n",
    "# full_dtst = pd.concat([pd.DataFrame(data_y), data_x_n], axis=1) \n",
    "# full_dtst.to_csv(\"vet_lung_canc.csv\")"
   ]
  },
  {
   "cell_type": "markdown",
   "metadata": {
    "application/vnd.databricks.v1+cell": {
     "cellMetadata": {},
     "inputWidgets": {},
     "nuid": "6b252d82-3469-4df0-9ce4-b71cd1ef8e81",
     "showTitle": false,
     "title": ""
    }
   },
   "source": [
    "### Preprocessing\n",
    "Data needs to be in a long format"
   ]
  },
  {
   "cell_type": "code",
   "execution_count": 0,
   "metadata": {
    "application/vnd.databricks.v1+cell": {
     "cellMetadata": {},
     "inputWidgets": {},
     "nuid": "71d6874f-3cb9-4275-806a-fa1b5e3e74e6",
     "showTitle": false,
     "title": ""
    }
   },
   "outputs": [],
   "source": [
    "def surv_pre_train(data_x_n, data_y, X_TIME=True):\n",
    "    # set up times\n",
    "    t_sort = np.append([0], np.unique(data_y[\"Survival_in_days\"]))\n",
    "    t_ind = np.arange(0,t_sort.shape[0])\n",
    "    t_dict = dict(zip(t_sort, t_ind))\n",
    "\n",
    "    # set up delta\n",
    "    delta = np.array(data_y[\"Status\"], dtype = \"int\")\n",
    "    \n",
    "    t_out = []\n",
    "    pat_x_out = []\n",
    "    delta_out = []\n",
    "    for idx, t in enumerate(data_y[\"Survival_in_days\"]):\n",
    "        # get the pat_time and use to get the array of times for the patient\n",
    "        p_t_ind = t_dict[t]\n",
    "        p_t_set = t_sort[0:p_t_ind+1]\n",
    "        t_out.append(p_t_set)\n",
    "        \n",
    "        size = p_t_set.shape[0]\n",
    "        # get patient array\n",
    "        pat_x = np.tile(data_x_n.iloc[idx].to_numpy(), (size, 1))\n",
    "        pat_x_out.append(pat_x)\n",
    "\n",
    "        # get delta\n",
    "        pat_delta = delta[idx]\n",
    "        delta_set = np.zeros(shape=size, dtype=int)\n",
    "        delta_set[-1] = pat_delta\n",
    "        delta_out.append(delta_set)\n",
    "    \n",
    "    \n",
    "    t_out, delta_out, pat_x_out = np.concatenate(t_out), np.concatenate(delta_out), np.concatenate(pat_x_out)\n",
    "    if X_TIME:\n",
    "        pat_x_out = np.array([np.concatenate([np.array([t_out[idx]]), i]) for idx, i in enumerate(pat_x_out)])\n",
    "    return t_out, delta_out, pat_x_out\n",
    "\n",
    "def surv_pre_train2(data_x_n, data_y, X_TIME=True):\n",
    "    # set up times\n",
    "    # t_sort = np.append([0], np.unique(data_y[\"Survival_in_days\"]))\n",
    "    t_sort = np.unique(data_y[\"Survival_in_days\"])\n",
    "    t_ind = np.arange(0,t_sort.shape[0])\n",
    "    t_dict = dict(zip(t_sort, t_ind))\n",
    "\n",
    "    # set up delta\n",
    "    delta = np.array(data_y[\"Status\"], dtype = \"int\")\n",
    "    \n",
    "    t_out = []\n",
    "    pat_x_out = []\n",
    "    delta_out = []\n",
    "    for idx, t in enumerate(data_y[\"Survival_in_days\"]):\n",
    "        # get the pat_time and use to get the array of times for the patient\n",
    "        p_t_ind = t_dict[t]\n",
    "        p_t_set = t_sort[0:p_t_ind+1]\n",
    "        t_out.append(p_t_set)\n",
    "        \n",
    "        size = p_t_set.shape[0]\n",
    "        # get patient array\n",
    "        pat_x = np.tile(data_x_n.iloc[idx].to_numpy(), (size, 1))\n",
    "        pat_x_out.append(pat_x)\n",
    "\n",
    "        # get delta\n",
    "        pat_delta = delta[idx]\n",
    "        delta_set = np.zeros(shape=size, dtype=int)\n",
    "        delta_set[-1] = pat_delta\n",
    "        delta_out.append(delta_set)\n",
    "    \n",
    "    \n",
    "    t_out, delta_out, pat_x_out = np.concatenate(t_out), np.concatenate(delta_out), np.concatenate(pat_x_out)\n",
    "    if X_TIME:\n",
    "        pat_x_out = np.array([np.concatenate([np.array([t_out[idx]]), i]) for idx, i in enumerate(pat_x_out)])\n",
    "    return t_out, delta_out, pat_x_out"
   ]
  },
  {
   "cell_type": "code",
   "execution_count": 0,
   "metadata": {
    "application/vnd.databricks.v1+cell": {
     "cellMetadata": {},
     "inputWidgets": {},
     "nuid": "c0efd8a1-a466-4cdc-b3f2-caa097b3daa5",
     "showTitle": false,
     "title": ""
    }
   },
   "outputs": [],
   "source": [
    "def surv_pre_test(data_x_n, data_y, X_TIME=True):\n",
    "    t_sort = np.append([0], np.unique(data_y[\"Survival_in_days\"]))\n",
    "    t_out = []\n",
    "    pat_x_out = []\n",
    "    for idx, t in enumerate(data_y[\"Survival_in_days\"]):\n",
    "        # get the pat_time and use to get the array of times for the patient\n",
    "        p_t_set = t_sort\n",
    "        t_out.append(p_t_set)\n",
    "        \n",
    "        size = p_t_set.shape[0]\n",
    "        # get patient array\n",
    "        pat_x = np.tile(data_x_n.iloc[idx].to_numpy(), (size, 1))\n",
    "        pat_x_out.append(pat_x)\n",
    "    \n",
    "    t_out, pat_x_out = np.concatenate(t_out),  np.concatenate(pat_x_out)\n",
    "    if X_TIME:\n",
    "        pat_x_out = np.array([np.concatenate([np.array([t_out[idx]]), i]) for idx, i in enumerate(pat_x_out)])\n",
    "    return t_out, pat_x_out\n",
    "    \n",
    "def surv_pre_test2(data_x_n, data_y, X_TIME=True):\n",
    "    # t_sort = np.append([0], np.unique(data_y[\"Survival_in_days\"]))\n",
    "    t_sort = np.unique(data_y[\"Survival_in_days\"])\n",
    "    t_out = []\n",
    "    pat_x_out = []\n",
    "    for idx, t in enumerate(data_y[\"Survival_in_days\"]):\n",
    "        # get the pat_time and use to get the array of times for the patient\n",
    "        p_t_set = t_sort\n",
    "        t_out.append(p_t_set)\n",
    "        \n",
    "        size = p_t_set.shape[0]\n",
    "        # get patient array\n",
    "        pat_x = np.tile(data_x_n.iloc[idx].to_numpy(), (size, 1))\n",
    "        pat_x_out.append(pat_x)\n",
    "    \n",
    "    t_out, pat_x_out = np.concatenate(t_out),  np.concatenate(pat_x_out)\n",
    "    if X_TIME:\n",
    "        pat_x_out = np.array([np.concatenate([np.array([t_out[idx]]), i]) for idx, i in enumerate(pat_x_out)])\n",
    "    return t_out, pat_x_out"
   ]
  },
  {
   "cell_type": "code",
   "execution_count": 0,
   "metadata": {
    "application/vnd.databricks.v1+cell": {
     "cellMetadata": {},
     "inputWidgets": {},
     "nuid": "8b11afff-d890-44c2-8691-e3ef66cdd7bb",
     "showTitle": false,
     "title": ""
    }
   },
   "outputs": [],
   "source": [
    "# # get train dataset\n",
    "# t1, delta1, trainx1 = surv_pre_train(data_x_n=data_x_n, data_y=data_y)\n",
    "\n",
    "# # get test dataset\n",
    "# t_test, testx = surv_pre_test(data_x_n=data_x_n, data_y=data_y)\n",
    "\n",
    "# get train dataset 2\n",
    "t2, delta2, trainx2 = surv_pre_train2(data_x_n=data_x_n, data_y=data_y)\n",
    "\n",
    "# get test dataset 2\n",
    "t_test2, testx2 = surv_pre_test2(data_x_n=data_x_n, data_y=data_y)"
   ]
  },
  {
   "cell_type": "code",
   "execution_count": 0,
   "metadata": {
    "application/vnd.databricks.v1+cell": {
     "cellMetadata": {},
     "inputWidgets": {},
     "nuid": "4d838280-f4db-4b00-abd0-0833c1530826",
     "showTitle": false,
     "title": ""
    }
   },
   "outputs": [],
   "source": [
    "# # check\n",
    "# print(t1.shape)\n",
    "# print(delta1.shape)\n",
    "# print(trainx1.shape)\n",
    "# print(testx.shape)\n",
    "# print(t_test.shape)\n",
    "\n",
    "# check pre2\n",
    "print(t2.shape)\n",
    "print(delta2.shape)\n",
    "print(trainx2.shape)\n",
    "print(testx2.shape)\n",
    "print(t_test2.shape)"
   ]
  },
  {
   "cell_type": "markdown",
   "metadata": {
    "application/vnd.databricks.v1+cell": {
     "cellMetadata": {},
     "inputWidgets": {},
     "nuid": "6a63d3ef-cf13-4f46-be1d-2d1e70c4ac34",
     "showTitle": false,
     "title": ""
    }
   },
   "source": [
    "Preprocessing is successful.\n",
    "It is comparable to BART::surv.pre.bart with the minor addition of having added the 0 day into the data, where in BART::surv.pre.bart I belevie the 0 day is added in the model"
   ]
  },
  {
   "cell_type": "markdown",
   "metadata": {
    "application/vnd.databricks.v1+cell": {
     "cellMetadata": {},
     "inputWidgets": {},
     "nuid": "652b9342-36fa-4e3a-bd20-149a55f425dc",
     "showTitle": false,
     "title": ""
    }
   },
   "source": [
    "## Models"
   ]
  },
  {
   "cell_type": "markdown",
   "metadata": {
    "application/vnd.databricks.v1+cell": {
     "cellMetadata": {},
     "inputWidgets": {},
     "nuid": "e5cbc8f6-92eb-4e9b-91eb-778b3d1ac07f",
     "showTitle": false,
     "title": ""
    }
   },
   "source": [
    "### BART1 Model\n",
    "With 0 day padding"
   ]
  },
  {
   "cell_type": "code",
   "execution_count": 0,
   "metadata": {
    "application/vnd.databricks.v1+cell": {
     "cellMetadata": {},
     "inputWidgets": {},
     "nuid": "2405dad9-5ee3-4a21-8b02-f256324d5e27",
     "showTitle": false,
     "title": ""
    }
   },
   "outputs": [],
   "source": [
    "with pm.Model() as bart1:\n",
    "    x_data = pm.MutableData(\"x\", trainx1)\n",
    "    # y_data = pm.MutableData(\"y\", delta1)\n",
    "    \n",
    "    z = pmb.BART(\"z\", X = x_data, Y = delta1)\n",
    "    mu = pm.Deterministic(\"mu\", pm.math.invprobit(z))\n",
    "    y_pred = pm.Bernoulli(\"y_pred\", p=mu, observed=delta1, shape=x_data.shape[0])\n",
    "    smp1 = pm.sample(random_seed=2)\n"
   ]
  },
  {
   "cell_type": "code",
   "execution_count": 0,
   "metadata": {
    "application/vnd.databricks.v1+cell": {
     "cellMetadata": {},
     "inputWidgets": {},
     "nuid": "b15451ce-5709-46ad-8584-3e001ce7089c",
     "showTitle": false,
     "title": ""
    }
   },
   "outputs": [],
   "source": [
    "with bart1:\n",
    "    pm.set_data({\"x\":testx})\n",
    "    pp1 = pm.sample_posterior_predictive(smp1, var_names= [\"y_pred\", \"z\", \"mu\"])"
   ]
  },
  {
   "cell_type": "code",
   "execution_count": 0,
   "metadata": {
    "application/vnd.databricks.v1+cell": {
     "cellMetadata": {},
     "inputWidgets": {},
     "nuid": "09b78145-4bd4-4d7d-bbfb-eedfa3d6e823",
     "showTitle": false,
     "title": ""
    }
   },
   "outputs": [],
   "source": [
    "# get the predicted mean\n",
    "def get_pred_mean(pp1, t_test):\n",
    "    # get the pp\n",
    "    # np.mean(pp1.posterior_predictive[\"mu\"][3][:,1])\n",
    "    rr1 = pp1.posterior_predictive[\"mu\"].mean((\"draw\", \"chain\")).values\n",
    "    # print(rr1.shape)\n",
    "    # print(pp1.posterior_predictive[\"mu\"].mean((\"chain\", \"draw\")))\n",
    "\n",
    "    K = np.unique(t_test).shape[0]\n",
    "    N = int(t_test.shape[0]/K)\n",
    "    rr2 = np.cumprod(1-rr1.reshape((N,K)), axis=1)\n",
    "    rr2_mean = np.mean(rr2, axis=0)\n",
    "\n",
    "    return rr2_mean"
   ]
  },
  {
   "cell_type": "code",
   "execution_count": 0,
   "metadata": {
    "application/vnd.databricks.v1+cell": {
     "cellMetadata": {},
     "inputWidgets": {},
     "nuid": "8069ff2d-3e20-4ed2-a403-5e2d2107a4dd",
     "showTitle": false,
     "title": ""
    }
   },
   "outputs": [],
   "source": [
    "bart_1_rr = get_pred_mean(pp1, t_test=t_test)\n",
    "bart_1_rr"
   ]
  },
  {
   "cell_type": "code",
   "execution_count": 0,
   "metadata": {
    "application/vnd.databricks.v1+cell": {
     "cellMetadata": {},
     "inputWidgets": {},
     "nuid": "8ceb206d-5a09-48fb-ab42-5ba0e42abffd",
     "showTitle": false,
     "title": ""
    }
   },
   "outputs": [],
   "source": [
    "ax = plt.step(np.unique(t_test), bart_1_rr)"
   ]
  },
  {
   "cell_type": "markdown",
   "metadata": {
    "application/vnd.databricks.v1+cell": {
     "cellMetadata": {},
     "inputWidgets": {},
     "nuid": "6566dcc1-e384-4dee-928e-9914da5b78c7",
     "showTitle": false,
     "title": ""
    }
   },
   "source": [
    "### BART2 Model\n",
    "No 0 day padding"
   ]
  },
  {
   "cell_type": "code",
   "execution_count": 0,
   "metadata": {
    "application/vnd.databricks.v1+cell": {
     "cellMetadata": {},
     "inputWidgets": {},
     "nuid": "013f419f-4006-4957-b74f-8af286220adc",
     "showTitle": false,
     "title": ""
    }
   },
   "outputs": [],
   "source": [
    "with pm.Model() as bart2:\n",
    "    x_data = pm.MutableData(\"x\", trainx2)\n",
    "    # y_data = pm.MutableData(\"y\", delta1)\n",
    "    \n",
    "    z = pmb.BART(\"z\", X = x_data, Y = delta2)\n",
    "    mu = pm.Deterministic(\"mu\", pm.math.invprobit(z))\n",
    "    y_pred = pm.Bernoulli(\"y_pred\", p=mu, observed=delta2, shape=x_data.shape[0])\n",
    "    smp2 = pm.sample(random_seed=2)\n"
   ]
  },
  {
   "cell_type": "code",
   "execution_count": 0,
   "metadata": {
    "application/vnd.databricks.v1+cell": {
     "cellMetadata": {},
     "inputWidgets": {},
     "nuid": "c2fb13c2-cdac-4687-8624-23c9cf6e7f9f",
     "showTitle": false,
     "title": ""
    }
   },
   "outputs": [],
   "source": [
    "# Get test results\n",
    "with bart2:\n",
    "    pm.set_data({\"x\":testx2})\n",
    "    pp2 = pm.sample_posterior_predictive(smp2, var_names= [\"y_pred\", \"z\", \"mu\"])"
   ]
  },
  {
   "cell_type": "code",
   "execution_count": 0,
   "metadata": {
    "application/vnd.databricks.v1+cell": {
     "cellMetadata": {},
     "inputWidgets": {},
     "nuid": "ee3b13dc-ef7e-4043-bb6b-041615053b21",
     "showTitle": false,
     "title": ""
    }
   },
   "outputs": [],
   "source": [
    "# look at first patient\n",
    "np.mean(pp2.posterior_predictive[\"z\"].values[0], 0)[0:101]"
   ]
  },
  {
   "cell_type": "code",
   "execution_count": 0,
   "metadata": {
    "application/vnd.databricks.v1+cell": {
     "cellMetadata": {},
     "inputWidgets": {},
     "nuid": "2e7ebd2e-7fb5-4120-b65e-517ab26b222d",
     "showTitle": false,
     "title": ""
    }
   },
   "outputs": [],
   "source": [
    "b2_surv = 1- pp2.posterior_predictive[\"mu\"].values"
   ]
  },
  {
   "cell_type": "code",
   "execution_count": 0,
   "metadata": {
    "application/vnd.databricks.v1+cell": {
     "cellMetadata": {},
     "inputWidgets": {},
     "nuid": "6ab1d179-4f54-4894-bfbb-c300e4ead2d1",
     "showTitle": false,
     "title": ""
    }
   },
   "outputs": [],
   "source": [
    "pp2.posterior_predictive[\"z\"]"
   ]
  },
  {
   "cell_type": "code",
   "execution_count": 0,
   "metadata": {
    "application/vnd.databricks.v1+cell": {
     "cellMetadata": {},
     "inputWidgets": {},
     "nuid": "d7703561-d597-4407-a738-0cfb55e947d9",
     "showTitle": false,
     "title": ""
    }
   },
   "outputs": [],
   "source": [
    "b2_survm = np.matrix(b2_surv.reshape((4000,13837)))\n",
    "KK = 101\n",
    "NN = 137\n",
    "\n",
    "for h in range(0,NN):\n",
    "    for j in range(1,KK):\n",
    "        # print(j)\n",
    "        l = KK*h +j\n",
    "        # print(l)\n",
    "    # break\n",
    "        b2_survm[:, l] = np.array(b2_survm[:, l-1]) * np.array(b2_survm[:,l])\n",
    "\n",
    "# b2_survm[:,1] = np.array(b2_survm[:,1]) * np.array(b2_survm[:,2])\n",
    "b2_survm"
   ]
  },
  {
   "cell_type": "code",
   "execution_count": 0,
   "metadata": {
    "application/vnd.databricks.v1+cell": {
     "cellMetadata": {},
     "inputWidgets": {},
     "nuid": "f7f1beee-b73f-4f31-8b83-495097c50735",
     "showTitle": false,
     "title": ""
    }
   },
   "outputs": [],
   "source": [
    "b2_surv_mean2 = np.mean(b2_survm, axis=0).reshape((NN,KK))\n",
    "b2_surv_mean3 = np.array(np.mean(b2_surv_mean2, axis=0)).reshape((KK))\n",
    "b2_surv_mean3"
   ]
  },
  {
   "cell_type": "code",
   "execution_count": 0,
   "metadata": {
    "application/vnd.databricks.v1+cell": {
     "cellMetadata": {},
     "inputWidgets": {},
     "nuid": "9533b5b3-9be3-4003-b588-fb23134c822f",
     "showTitle": false,
     "title": ""
    }
   },
   "outputs": [],
   "source": [
    "b2_surv_mean2[0]"
   ]
  },
  {
   "cell_type": "code",
   "execution_count": 0,
   "metadata": {
    "application/vnd.databricks.v1+cell": {
     "cellMetadata": {},
     "inputWidgets": {},
     "nuid": "9a75cdeb-c009-4fe5-b919-d2a3e7f56aec",
     "showTitle": false,
     "title": ""
    }
   },
   "outputs": [],
   "source": [
    "bart_2_rr = get_pred_mean(pp2, t_test2)\n",
    "bart_2_rr.shape"
   ]
  },
  {
   "cell_type": "code",
   "execution_count": 0,
   "metadata": {
    "application/vnd.databricks.v1+cell": {
     "cellMetadata": {},
     "inputWidgets": {},
     "nuid": "aaab2c0b-96ef-48d3-9d91-71f939fe3a0b",
     "showTitle": false,
     "title": ""
    }
   },
   "outputs": [],
   "source": [
    "plt.step(np.unique(t_test2), bart_2_rr)\n",
    "plt.step(np.unique(t_test2), b2_surv_mean3)"
   ]
  },
  {
   "cell_type": "markdown",
   "metadata": {
    "application/vnd.databricks.v1+cell": {
     "cellMetadata": {},
     "inputWidgets": {},
     "nuid": "0ef6424f-5651-46e1-ad95-027a965f517b",
     "showTitle": false,
     "title": ""
    }
   },
   "source": [
    "### BART3 Model\n",
    "add in the offset"
   ]
  },
  {
   "cell_type": "code",
   "execution_count": 0,
   "metadata": {
    "application/vnd.databricks.v1+cell": {
     "cellMetadata": {},
     "inputWidgets": {},
     "nuid": "9cbb4fdf-06e8-4210-a7bc-6a9c37e9228d",
     "showTitle": false,
     "title": ""
    }
   },
   "outputs": [],
   "source": [
    "import scipy.stats as sp\n",
    "# sp.qnorm(np.mean(delta2))\n",
    "off = sp.norm.ppf(np.mean(delta2))\n",
    "off"
   ]
  },
  {
   "cell_type": "code",
   "execution_count": 0,
   "metadata": {
    "application/vnd.databricks.v1+cell": {
     "cellMetadata": {},
     "inputWidgets": {},
     "nuid": "d67ca959-826f-4b34-ba7c-2b46109ab3dd",
     "showTitle": false,
     "title": ""
    }
   },
   "outputs": [],
   "source": [
    "with pm.Model() as bart3:\n",
    "    x_data = pm.MutableData(\"x\", trainx2)\n",
    "    # y_data = pm.MutableData(\"y\", delta1)\n",
    "    \n",
    "    f = pmb.BART(\"f\", X = x_data, Y = delta2, m=100)\n",
    "    z = pm.Deterministic(\"z\", f + off)\n",
    "\n",
    "    mu = pm.Deterministic(\"mu\", pm.math.invprobit(z))\n",
    "    y_pred = pm.Bernoulli(\"y_pred\", p=(mu), observed=delta2, shape=x_data.shape[0])\n",
    "    smp3 = pm.sample(random_seed=2, draws=100)"
   ]
  },
  {
   "cell_type": "code",
   "execution_count": 0,
   "metadata": {
    "application/vnd.databricks.v1+cell": {
     "cellMetadata": {},
     "inputWidgets": {},
     "nuid": "59d91d69-c2be-4069-9968-0fc266d42fbd",
     "showTitle": false,
     "title": ""
    }
   },
   "outputs": [],
   "source": [
    "smp3"
   ]
  },
  {
   "cell_type": "code",
   "execution_count": 0,
   "metadata": {
    "application/vnd.databricks.v1+cell": {
     "cellMetadata": {},
     "inputWidgets": {},
     "nuid": "9e70e44d-5f3c-4cb2-a88b-2193bfa53425",
     "showTitle": false,
     "title": ""
    }
   },
   "outputs": [],
   "source": [
    "with bart3:\n",
    "    pm.set_data({\"x\":testx2})\n",
    "    pp3 = pm.sample_posterior_predictive(smp3, var_names= [\"y_pred\", \"f\", \"z\", \"mu\"])"
   ]
  },
  {
   "cell_type": "code",
   "execution_count": 0,
   "metadata": {
    "application/vnd.databricks.v1+cell": {
     "cellMetadata": {},
     "inputWidgets": {},
     "nuid": "f47efa80-3c3a-4a64-9a41-b2d99852bf99",
     "showTitle": false,
     "title": ""
    }
   },
   "outputs": [],
   "source": [
    "pp3"
   ]
  },
  {
   "cell_type": "code",
   "execution_count": 0,
   "metadata": {
    "application/vnd.databricks.v1+cell": {
     "cellMetadata": {},
     "inputWidgets": {},
     "nuid": "65a68556-d045-443e-a042-66ed02cf4cee",
     "showTitle": false,
     "title": ""
    }
   },
   "outputs": [],
   "source": [
    "def get_surv(posterior, KK, NN):\n",
    "    shp = posterior.posterior_predictive[\"mu\"].shape\n",
    "    rows = shp[0]*shp[1]\n",
    "    cols = shp[2]\n",
    "\n",
    "    surv = 1-posterior.posterior_predictive[\"mu\"].values\n",
    "    survm = np.matrix(surv.reshape((rows, cols)))\n",
    "   \n",
    "    for h in range(0,NN):\n",
    "        for j in range(1,KK):\n",
    "            l = KK*h +j\n",
    "            survm[:, l] = np.array(survm[:, l-1]) * np.array(survm[:,l])\n",
    "\n",
    "    surv_mean = np.mean(survm, axis=0).reshape((NN,KK))\n",
    "    surv_mean = np.array(np.mean(surv_mean, axis=0)).reshape(KK)\n",
    "    return surv_mean\n"
   ]
  },
  {
   "cell_type": "code",
   "execution_count": 0,
   "metadata": {
    "application/vnd.databricks.v1+cell": {
     "cellMetadata": {},
     "inputWidgets": {},
     "nuid": "d92c5775-d068-4f83-91c8-d72f727d51a6",
     "showTitle": false,
     "title": ""
    }
   },
   "outputs": [],
   "source": [
    "b3_surv = get_surv(posterior=pp3, KK=101, NN=137)\n",
    "b3_surv"
   ]
  },
  {
   "cell_type": "code",
   "execution_count": 0,
   "metadata": {
    "application/vnd.databricks.v1+cell": {
     "cellMetadata": {},
     "inputWidgets": {},
     "nuid": "64867e6c-8182-4645-8486-b8dda70b631a",
     "showTitle": false,
     "title": ""
    }
   },
   "outputs": [],
   "source": [
    "# b3_surv_mean = np.mean(b3_survm, axis=0).reshape((NN,KK))\n",
    "# b3_surv_mean2 = np.array(np.mean(b3_surv_mean, axis=0)).reshape(KK)\n",
    "# b3_surv_mean2"
   ]
  },
  {
   "cell_type": "code",
   "execution_count": 0,
   "metadata": {
    "application/vnd.databricks.v1+cell": {
     "cellMetadata": {},
     "inputWidgets": {},
     "nuid": "4f21052b-2e86-441e-b6f2-bba94a0b5f37",
     "showTitle": false,
     "title": ""
    }
   },
   "outputs": [],
   "source": [
    "plt.step(np.unique(t_test2), b3_surv)"
   ]
  },
  {
   "cell_type": "markdown",
   "metadata": {
    "application/vnd.databricks.v1+cell": {
     "cellMetadata": {},
     "inputWidgets": {},
     "nuid": "7d01150d-4e43-4a42-bac7-ddf663e526ae",
     "showTitle": false,
     "title": ""
    }
   },
   "source": [
    "### Model BART 4"
   ]
  },
  {
   "cell_type": "code",
   "execution_count": 0,
   "metadata": {
    "application/vnd.databricks.v1+cell": {
     "cellMetadata": {},
     "inputWidgets": {},
     "nuid": "402be61a-6321-4f38-9fbc-b9ed11c324f7",
     "showTitle": false,
     "title": ""
    }
   },
   "outputs": [],
   "source": [
    "# trainx2.shape\n",
    "# delta2.shape\n",
    "# times2 = np.unique(trainx2[:,0], return_index=True, return_counts=True)\n",
    "# freq = times2[2]\n",
    "# freq\n",
    "\n",
    "# try conditioning y to the z\n",
    "# delta2\n",
    "\n",
    "def get_z(delta):\n",
    "    z = np.zeros(shape=delta.shape)\n",
    "    for idx, i in enumerate(delta):\n",
    "        # print(i)\n",
    "        if i == 1:\n",
    "            z[idx] = sp.truncnorm.rvs(0, np.Inf, size = 1)\n",
    "        else:\n",
    "            z[idx] = sp.truncnorm.rvs(np.NINF, 0, size = 1)\n",
    "    return z\n",
    "\n",
    "\n",
    "\n",
    "zdelt = get_z(delta2)\n",
    "# print(zdelt[delta2==1])\n",
    "# print(delta2[delta2==1])"
   ]
  },
  {
   "cell_type": "code",
   "execution_count": 0,
   "metadata": {
    "application/vnd.databricks.v1+cell": {
     "cellMetadata": {},
     "inputWidgets": {},
     "nuid": "61081efd-972f-449a-b5c3-33446ff264fb",
     "showTitle": false,
     "title": ""
    }
   },
   "outputs": [],
   "source": [
    "# try with binomial\n",
    "with pm.Model() as bart4:\n",
    "    x_data = pm.MutableData(\"x\", trainx2)\n",
    "    # y_data = pm.MutableData(\"y\", delta1)\n",
    "    \n",
    "    # f = pmb.BART(\"f\", X = x_data, Y = zdelt, m=50)\n",
    "    f = pmb.BART(\"f\", X = x_data, Y = delta2, m=50)\n",
    "    z = pm.Deterministic(\"z\", f + off)\n",
    "\n",
    "    mu = pm.Deterministic(\"mu\", pm.math.invprobit(z))\n",
    "    # y_pred = pm.Binomial(\"y_pred\", p = mu, observed = delta2)\n",
    "    y_pred = pm.Bernoulli(\"y_pred\", p=(mu), observed=delta2, shape=x_data.shape[0])\n",
    "    smp4 = pm.sample(random_seed=2, draws=1000)\n"
   ]
  },
  {
   "cell_type": "code",
   "execution_count": 0,
   "metadata": {
    "application/vnd.databricks.v1+cell": {
     "cellMetadata": {},
     "inputWidgets": {},
     "nuid": "3a67565d-ebdd-4219-836e-382d9e5334e9",
     "showTitle": false,
     "title": ""
    }
   },
   "outputs": [],
   "source": [
    "smp4"
   ]
  },
  {
   "cell_type": "code",
   "execution_count": 0,
   "metadata": {
    "application/vnd.databricks.v1+cell": {
     "cellMetadata": {},
     "inputWidgets": {},
     "nuid": "888285e2-35c0-41c8-98f1-041d8508a58e",
     "showTitle": false,
     "title": ""
    }
   },
   "outputs": [],
   "source": [
    "with bart4:\n",
    "    pm.set_data({\"x\":testx2})\n",
    "    pp4 = pm.sample_posterior_predictive(smp4, var_names= [\"y_pred\", \"f\", \"z\", \"mu\"])"
   ]
  },
  {
   "cell_type": "code",
   "execution_count": 0,
   "metadata": {
    "application/vnd.databricks.v1+cell": {
     "cellMetadata": {},
     "inputWidgets": {},
     "nuid": "f55d2674-686c-4e33-88f6-88a89dd4b6d2",
     "showTitle": false,
     "title": ""
    }
   },
   "outputs": [],
   "source": [
    "pp4"
   ]
  },
  {
   "cell_type": "code",
   "execution_count": 0,
   "metadata": {
    "application/vnd.databricks.v1+cell": {
     "cellMetadata": {},
     "inputWidgets": {},
     "nuid": "639516b2-3d64-43f6-8b84-6185807bcd7a",
     "showTitle": false,
     "title": ""
    }
   },
   "outputs": [],
   "source": [
    "b4_surv = get_surv(posterior=pp4, KK=101, NN=137)"
   ]
  },
  {
   "cell_type": "code",
   "execution_count": 0,
   "metadata": {
    "application/vnd.databricks.v1+cell": {
     "cellMetadata": {},
     "inputWidgets": {},
     "nuid": "6e1a81ab-5079-4b53-8212-16524f2eee73",
     "showTitle": false,
     "title": ""
    }
   },
   "outputs": [],
   "source": [
    "b4_surv"
   ]
  },
  {
   "cell_type": "code",
   "execution_count": 0,
   "metadata": {
    "application/vnd.databricks.v1+cell": {
     "cellMetadata": {},
     "inputWidgets": {},
     "nuid": "352e0d78-06bc-4639-8ae7-c3378bb940d4",
     "showTitle": false,
     "title": ""
    }
   },
   "outputs": [],
   "source": [
    "plt.step(np.unique(t_test2), b3_surv)\n",
    "plt.step(np.unique(t_test2), b4_surv)"
   ]
  },
  {
   "cell_type": "code",
   "execution_count": 0,
   "metadata": {
    "application/vnd.databricks.v1+cell": {
     "cellMetadata": {},
     "inputWidgets": {},
     "nuid": "9e22fd57-3a9d-4afa-a2da-37d9eda68867",
     "showTitle": false,
     "title": ""
    }
   },
   "outputs": [],
   "source": [
    "# with pm.Model() as bart4:\n",
    "#     x_data = pm.MutableData(\"x\", trainx2)\n",
    "#     # y_data = pm.MutableData(\"y\", delta1)\n",
    "    \n",
    "#     z = pmb.BART(\"z\", X = x_data, Y = delta2)\n",
    "\n",
    "#     mu = pm.Deterministic(\"mu\", pm.math.invprobit(z + off))\n",
    "#     # y_pred = pm.Bernoulli(\"y_pred\", p=(mu), observed=delta2, shape=x_data.shape[0])\n",
    "#     smp4 = pm.sample(random_seed=2, sample=100)"
   ]
  },
  {
   "cell_type": "markdown",
   "metadata": {
    "application/vnd.databricks.v1+cell": {
     "cellMetadata": {},
     "inputWidgets": {},
     "nuid": "5cd1a76f-d166-457d-8e4b-aff264c2dd64",
     "showTitle": false,
     "title": ""
    }
   },
   "source": [
    "## Random Forest"
   ]
  },
  {
   "cell_type": "code",
   "execution_count": 0,
   "metadata": {
    "application/vnd.databricks.v1+cell": {
     "cellMetadata": {},
     "inputWidgets": {},
     "nuid": "eb60b3c3-3cdf-4348-9359-13fd2853d381",
     "showTitle": false,
     "title": ""
    }
   },
   "outputs": [],
   "source": [
    "import sksurv.ensemble"
   ]
  },
  {
   "cell_type": "code",
   "execution_count": 0,
   "metadata": {
    "application/vnd.databricks.v1+cell": {
     "cellMetadata": {},
     "inputWidgets": {},
     "nuid": "9c0bb562-e074-4de1-9747-71ea4968e52c",
     "showTitle": false,
     "title": ""
    }
   },
   "outputs": [],
   "source": [
    "# set up random forest\n",
    "rsf = sks.ensemble.RandomSurvivalForest(\n",
    "    n_estimators=1000, min_samples_split=10, min_samples_leaf=15, n_jobs=-1, random_state=20\n",
    ")\n",
    "rsf.fit(data_x_n, data_y)"
   ]
  },
  {
   "cell_type": "code",
   "execution_count": 0,
   "metadata": {
    "application/vnd.databricks.v1+cell": {
     "cellMetadata": {},
     "inputWidgets": {},
     "nuid": "4f82ea0e-a41f-4934-accc-88c47e9f9d3b",
     "showTitle": false,
     "title": ""
    }
   },
   "outputs": [],
   "source": [
    "rsf.score(data_x_n, data_y)"
   ]
  },
  {
   "cell_type": "code",
   "execution_count": 0,
   "metadata": {
    "application/vnd.databricks.v1+cell": {
     "cellMetadata": {},
     "inputWidgets": {},
     "nuid": "28c39d31-c8e8-42c5-842a-65462e312ebf",
     "showTitle": false,
     "title": ""
    }
   },
   "outputs": [],
   "source": [
    "rsf_surv1 = rsf.predict_survival_function(data_x_n, return_array=True)"
   ]
  },
  {
   "cell_type": "code",
   "execution_count": 0,
   "metadata": {
    "application/vnd.databricks.v1+cell": {
     "cellMetadata": {},
     "inputWidgets": {},
     "nuid": "8fa85f23-575f-40c5-934a-47a78f27d547",
     "showTitle": false,
     "title": ""
    }
   },
   "outputs": [],
   "source": [
    "rsf_surv_mean = np.mean(rsf_surv1,axis=0)\n",
    "rsf_surv_mean"
   ]
  },
  {
   "cell_type": "code",
   "execution_count": 0,
   "metadata": {
    "application/vnd.databricks.v1+cell": {
     "cellMetadata": {},
     "inputWidgets": {},
     "nuid": "93db8a12-5a08-40e8-8fa2-1e410ff86473",
     "showTitle": false,
     "title": ""
    }
   },
   "outputs": [],
   "source": [
    "plt.step(np.unique(data_y[\"Survival_in_days\"]), rsf_surv_mean, )"
   ]
  },
  {
   "cell_type": "markdown",
   "metadata": {
    "application/vnd.databricks.v1+cell": {
     "cellMetadata": {},
     "inputWidgets": {},
     "nuid": "02b73c8b-d96b-4ae1-ac48-83eb02eacdac",
     "showTitle": false,
     "title": ""
    }
   },
   "source": [
    "## Plot a few different models\n"
   ]
  },
  {
   "cell_type": "code",
   "execution_count": 0,
   "metadata": {
    "application/vnd.databricks.v1+cell": {
     "cellMetadata": {},
     "inputWidgets": {},
     "nuid": "d6123b0f-bd5d-419c-a186-84c6bade0e6b",
     "showTitle": false,
     "title": ""
    }
   },
   "outputs": [],
   "source": [
    "kpm = sks.nonparametric.kaplan_meier_estimator(data_y[\"Status\"], data_y[\"Survival_in_days\"])"
   ]
  },
  {
   "cell_type": "code",
   "execution_count": 0,
   "metadata": {
    "application/vnd.databricks.v1+cell": {
     "cellMetadata": {},
     "inputWidgets": {},
     "nuid": "d8c28d7c-d868-4265-882f-addf79b65107",
     "showTitle": false,
     "title": ""
    }
   },
   "outputs": [],
   "source": [
    "# get the rbart\n",
    "rbart_mean = pd.read_csv(\"rbart_lung_mean.csv\")\n",
    "rbart_mean "
   ]
  },
  {
   "cell_type": "code",
   "execution_count": 0,
   "metadata": {
    "application/vnd.databricks.v1+cell": {
     "cellMetadata": {},
     "inputWidgets": {},
     "nuid": "8f80c28b-42b2-4d4b-9804-4fc4dd85be20",
     "showTitle": false,
     "title": ""
    }
   },
   "outputs": [],
   "source": [
    "# plt.step(np.unique(t_test), bart_1_rr, label=\"bart\")\n",
    "# plt.step(np.unique(t_test2), bart_2_rr, label=\"bart2\")\n",
    "# plt.step(np.unique(t_test2), b2_surv_mean3, label=\"bart3\")\n",
    "plt.step(np.unique(t_test2), b3_surv, label=\"bart3\")\n",
    "\n",
    "plt.step(rbart_mean.times, rbart_mean.surv, label=\"rbart\")\n",
    "plt.step(np.unique(data_y[\"Survival_in_days\"]), rsf_surv_mean, label = \"rsf\")\n",
    "# plt.step(np.unique(data_y[\"Survival_in_days\"]), cph_surv_mean, label=\"cph\")\n",
    "plt.step(kpm[0], kpm[1], label=\"kpm\")\n",
    "plt.legend(loc=\"best\")\n"
   ]
  },
  {
   "cell_type": "markdown",
   "metadata": {
    "application/vnd.databricks.v1+cell": {
     "cellMetadata": {},
     "inputWidgets": {},
     "nuid": "6923da64-03b8-4b13-9a77-93c2e84a0487",
     "showTitle": false,
     "title": ""
    }
   },
   "source": [
    "Right now there seems to be a little bit of bias in the the pymc bart implementations"
   ]
  }
 ],
 "metadata": {
  "application/vnd.databricks.v1+notebook": {
   "dashboards": [],
   "language": "python",
   "notebookMetadata": {
    "pythonIndentUnit": 4
   },
   "notebookName": "surv1",
   "widgets": {}
  },
  "kernelspec": {
   "display_name": "Python 3.10.6 64-bit",
   "language": "python",
   "name": "python3"
  },
  "language_info": {
   "codemirror_mode": {
    "name": "ipython",
    "version": 3
   },
   "file_extension": ".py",
   "mimetype": "text/x-python",
   "name": "python",
   "nbconvert_exporter": "python",
   "pygments_lexer": "ipython3",
   "version": "3.10.6"
  },
  "orig_nbformat": 4,
  "vscode": {
   "interpreter": {
    "hash": "916dbcbb3f70747c44a77c7bcd40155683ae19c65e1c03b4aa3499c5328201f1"
   }
  }
 },
 "nbformat": 4,
 "nbformat_minor": 0
}

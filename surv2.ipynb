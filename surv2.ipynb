{
 "cells": [
  {
   "cell_type": "code",
   "execution_count": 0,
   "metadata": {
    "application/vnd.databricks.v1+cell": {
     "cellMetadata": {},
     "inputWidgets": {},
     "nuid": "8d568462-30de-4fde-8aee-7051b265a9c9",
     "showTitle": false,
     "title": ""
    }
   },
   "outputs": [],
   "source": [
    "import sksurv as sks\n",
    "import sksurv.preprocessing\n",
    "import sksurv.metrics\n",
    "import sksurv.datasets\n",
    "import sksurv.linear_model\n",
    "\n",
    "from pathlib import Path\n",
    "import arviz as az\n",
    "import matplotlib.pyplot as plt\n",
    "import numpy as np\n",
    "import pandas as pd\n",
    "import pymc as pm\n",
    "import pymc_bart as pmb\n",
    "import pandas as pd\n",
    "import importlib\n",
    "import numpy as np\n",
    "import sklearn as skl\n",
    "import scipy.stats as sp\n",
    "plt.ioff()"
   ]
  },
  {
   "cell_type": "code",
   "execution_count": 0,
   "metadata": {
    "application/vnd.databricks.v1+cell": {
     "cellMetadata": {},
     "inputWidgets": {},
     "nuid": "5aed830f-3d84-4f6d-b4b1-45062db2d6c2",
     "showTitle": false,
     "title": ""
    }
   },
   "outputs": [],
   "source": []
  },
  {
   "cell_type": "code",
   "execution_count": 0,
   "metadata": {
    "application/vnd.databricks.v1+cell": {
     "cellMetadata": {},
     "inputWidgets": {},
     "nuid": "77529cad-206b-43af-af7d-147acd894f64",
     "showTitle": false,
     "title": ""
    }
   },
   "outputs": [],
   "source": [
    "importlib.reload(np.random)"
   ]
  },
  {
   "cell_type": "code",
   "execution_count": 0,
   "metadata": {
    "application/vnd.databricks.v1+cell": {
     "cellMetadata": {},
     "inputWidgets": {},
     "nuid": "5dd5dbe3-f6c0-4d75-9d41-75df82ed36df",
     "showTitle": false,
     "title": ""
    }
   },
   "outputs": [],
   "source": [
    "# del np.random.seed\n",
    "np.random.seed(99)"
   ]
  },
  {
   "cell_type": "code",
   "execution_count": 0,
   "metadata": {
    "application/vnd.databricks.v1+cell": {
     "cellMetadata": {},
     "inputWidgets": {},
     "nuid": "fcdf8c5d-61ea-415f-bac9-fdda24ea6667",
     "showTitle": false,
     "title": ""
    }
   },
   "outputs": [],
   "source": [
    "# #simple bernoulli time\n",
    "# t = np.repeat([0,1,2],50)\n",
    "# goof = sp.norm.rvs(0,1, size=100)\n",
    "\n",
    "# # p_train = np.repeat([.9, .2], 50)\n",
    "\n",
    "# # p true\n",
    "# p = 0.9 - t*0.7\n",
    "\n",
    "# # y\n",
    "# y_train = sp.bernoulli.rvs(p)\n",
    "# print(y_train.shape)\n",
    "# print(t.shape)\n",
    "\n",
    "# x_train = pd.DataFrame({\"t\":t,\"goof\":goof})\n",
    "# x_train\n",
    "# y_train\n"
   ]
  },
  {
   "cell_type": "code",
   "execution_count": 0,
   "metadata": {
    "application/vnd.databricks.v1+cell": {
     "cellMetadata": {},
     "inputWidgets": {},
     "nuid": "1cc2d917-f6e5-4f4c-8ac8-f94448a542f9",
     "showTitle": false,
     "title": ""
    }
   },
   "outputs": [],
   "source": [
    "# # t_s = np.unique(x_train[\"t\"]).shape[0]\n",
    "# x_train[\"t2\"] = np.where(x_train[\"t\"] == 0, \"a\", \"b\")\n",
    "# t_idx, t_code = pd.factorize(x_train[\"t2\"])\n",
    "# x_train[\"t3\"] = t_idx\n",
    "# # t_code\n",
    "# # t_code\n",
    "# t_s = len(t_code)\n",
    "# t_idx"
   ]
  },
  {
   "cell_type": "code",
   "execution_count": 0,
   "metadata": {
    "application/vnd.databricks.v1+cell": {
     "cellMetadata": {},
     "inputWidgets": {},
     "nuid": "debb9d4a-f710-46b8-ab57-2fa3b811d272",
     "showTitle": false,
     "title": ""
    }
   },
   "outputs": [],
   "source": [
    "# with pm.Model() as bart:\n",
    "#     # x_data = pm.MutableData(\"x\", x_train)\n",
    "#     # y_data = pm.MutableData(\"y\", delta1)\n",
    "    \n",
    "#     # f = pmb.BART(\"f\", X = x_data, Y = zdelt, m=50)\n",
    "#     f = pmb.BART(\"f\", X = x_train[[\"t3\", \"goof\"]], Y = y_train, m=20, shape=t_s)\n",
    "#     # z = pm.Deterministic(\"z\", )\n",
    "\n",
    "#     mu = pm.Deterministic(\"mu\", pm.math.invprobit(f))\n",
    "#     # y_pred = pm.Binomial(\"y_pred\", p = mu, observed = delta2)\n",
    "    \n",
    "#     y_pred = pm.Bernoulli(\"y_pred\", p=(mu[t_idx]), observed=y_train)\n",
    "#     # y_pred = pm.Bernoulli(\"y_pred\", p=(mu), observed=y_train, shape=x_data.shape[0])\n",
    "#     smp4 = pm.sample(random_seed=2, draws=100, compute_convergence_checks=False)"
   ]
  },
  {
   "cell_type": "code",
   "execution_count": 0,
   "metadata": {
    "application/vnd.databricks.v1+cell": {
     "cellMetadata": {},
     "inputWidgets": {},
     "nuid": "4a15e64c-11af-4588-8169-70275bd51e28",
     "showTitle": false,
     "title": ""
    }
   },
   "outputs": [],
   "source": [
    "# smp4"
   ]
  },
  {
   "cell_type": "code",
   "execution_count": 0,
   "metadata": {
    "application/vnd.databricks.v1+cell": {
     "cellMetadata": {},
     "inputWidgets": {},
     "nuid": "289c8a52-f993-43f6-b248-f74a771fa282",
     "showTitle": false,
     "title": ""
    }
   },
   "outputs": [],
   "source": [
    "# coords = {\"t\":[0,1]}\n",
    "# with pm.Model(coords = coords) as bart:\n",
    "#     # x_data = pm.MutableData(\"x\", x_train)\n",
    "#     # y_data = pm.MutableData(\"y\", delta1)\n",
    "    \n",
    "#     # f = pmb.BART(\"f\", X = x_data, Y = zdelt, m=50)\n",
    "#     f = pmb.BART(\"f\", X = x_train[[\"t\", \"goof\"]], Y = y_train, m=20, shape=t_s)\n",
    "#     # z = pm.Deterministic(\"z\", )\n",
    "\n",
    "#     mu = pm.Deterministic(\"mu\", pm.math.invprobit(f))\n",
    "#     # y_pred = pm.Binomial(\"y_pred\", p = mu, observed = delta2)\n",
    "    \n",
    "#     y_pred = pm.Bernoulli(\"y_pred\", p=(mu[t_idx]), observed=y_train)\n",
    "#     # y_pred = pm.Bernoulli(\"y_pred\", p=(mu), observed=y_train, shape=x_data.shape[0])\n",
    "#     smp4 = pm.sample(random_seed=2, draws=100, compute_convergence_checks=False)"
   ]
  },
  {
   "cell_type": "code",
   "execution_count": 0,
   "metadata": {
    "application/vnd.databricks.v1+cell": {
     "cellMetadata": {},
     "inputWidgets": {},
     "nuid": "c0661ffa-beaf-4bfd-87f9-4a81ada60d6b",
     "showTitle": false,
     "title": ""
    }
   },
   "outputs": [],
   "source": [
    "# bmi = pd.read_csv(pm.get_data(\"bmi.csv\"))\n",
    "# bmi"
   ]
  },
  {
   "cell_type": "code",
   "execution_count": 0,
   "metadata": {
    "application/vnd.databricks.v1+cell": {
     "cellMetadata": {},
     "inputWidgets": {},
     "nuid": "4dfe8816-0115-45c4-83d2-eba664bf5b5e",
     "showTitle": false,
     "title": ""
    }
   },
   "outputs": [],
   "source": [
    "# y = bmi.bmi.values\n",
    "# X = bmi.age.values[:, None]\n",
    "\n",
    "\n",
    "# y_stack = np.stack([bmi.bmi.values] * 3)\n",
    "# quantiles = np.array([[0.1, 0.5, 0.9]]).T\n",
    "# quantiles\n",
    "# print(y.shape)\n",
    "# print(X.shape)\n",
    "# print(y_stack.shape)\n",
    "# print(quantiles.shape)\n"
   ]
  },
  {
   "cell_type": "code",
   "execution_count": 0,
   "metadata": {
    "application/vnd.databricks.v1+cell": {
     "cellMetadata": {},
     "inputWidgets": {},
     "nuid": "eb49ec8e-2f77-4e2c-bd42-aca644cde6d7",
     "showTitle": false,
     "title": ""
    }
   },
   "outputs": [],
   "source": [
    "# X = np.linspace(0, 1, 120)[:,None]\n",
    "# Y = np.repeat([0, 1, 2], 40)\n",
    "# plt.plot(X[:,0], Y, \".\")"
   ]
  },
  {
   "cell_type": "code",
   "execution_count": 0,
   "metadata": {
    "application/vnd.databricks.v1+cell": {
     "cellMetadata": {},
     "inputWidgets": {},
     "nuid": "bc2000ee-6255-4fd2-a17b-b564978c543f",
     "showTitle": false,
     "title": ""
    }
   },
   "outputs": [],
   "source": [
    "# X.shape\n",
    "# Y"
   ]
  },
  {
   "cell_type": "code",
   "execution_count": 0,
   "metadata": {
    "application/vnd.databricks.v1+cell": {
     "cellMetadata": {},
     "inputWidgets": {},
     "nuid": "3fa9b6a9-751a-497d-b267-7d16e026c49e",
     "showTitle": false,
     "title": ""
    }
   },
   "outputs": [],
   "source": [
    "# with pm.Model() as bart_model:\n",
    "#     μ = pmb.BART(\"μ\", X=X, Y=Y, m=50, shape=(3, 120))\n",
    "#     θ = pm.Deterministic('θ', pm.math.softmax(μ, axis=0))\n",
    "#     y = pm.Categorical(\"y\", p=θ.T, observed=Y)\n",
    "#     idata = pm.sample()"
   ]
  },
  {
   "cell_type": "code",
   "execution_count": 0,
   "metadata": {
    "application/vnd.databricks.v1+cell": {
     "cellMetadata": {},
     "inputWidgets": {},
     "nuid": "e777567d-6c7c-4dc6-aa4e-c61a663773c6",
     "showTitle": false,
     "title": ""
    }
   },
   "outputs": [],
   "source": [
    "# idata"
   ]
  },
  {
   "cell_type": "code",
   "execution_count": 0,
   "metadata": {
    "application/vnd.databricks.v1+cell": {
     "cellMetadata": {},
     "inputWidgets": {},
     "nuid": "022995e7-86c5-48e3-a658-71d5d3364f74",
     "showTitle": false,
     "title": ""
    }
   },
   "outputs": [],
   "source": [
    "# posterior_mean = az.extract(idata, var_names='θ').mean(\"sample\")\n",
    "# posterior_mean[:,0:10]\n",
    "# # idata.posterior[\"θ\"][0][0].values[:,60:70]"
   ]
  },
  {
   "cell_type": "code",
   "execution_count": 0,
   "metadata": {
    "application/vnd.databricks.v1+cell": {
     "cellMetadata": {},
     "inputWidgets": {},
     "nuid": "ff88d4d0-7630-40f0-8403-3b3a3ef1856a",
     "showTitle": false,
     "title": ""
    }
   },
   "outputs": [],
   "source": [
    "# draws = smp4.posterior[\"mu\"].values.reshape(4000, 100)\n",
    "# m_draws = np.mean(draws, axis=0)\n",
    "\n",
    "# print(np.mean(m_draws[0:50]))\n",
    "# print(np.mean(m_draws[50:100]))\n",
    "\n",
    "\n"
   ]
  },
  {
   "cell_type": "code",
   "execution_count": 0,
   "metadata": {
    "application/vnd.databricks.v1+cell": {
     "cellMetadata": {},
     "inputWidgets": {},
     "nuid": "e8226bd7-0dd7-4f14-ac1a-fa88a91957ed",
     "showTitle": false,
     "title": ""
    }
   },
   "outputs": [],
   "source": [
    "# PH: 𝛼 = 2.0, 𝜆 = exp{3 + 0.1(x1 + x2 + x3 + x4 + x5 + x6) + x7}\n",
    "#S(t|𝛼, 𝜆) = e ^−(t∕𝜆)𝛼\n",
    "def sim_surv(N=100, \n",
    "            T=100, \n",
    "            x_vars = 1, \n",
    "            lambda_f=None, \n",
    "            a=2, \n",
    "            alpha_f = None, \n",
    "            seed=999, \n",
    "            cens_ind = True,\n",
    "            cens_scale = 20,\n",
    "            err_ind = False):\n",
    "    # np.random.seed(seed)\n",
    "\n",
    "    x_mat = np.zeros((N, x_vars))\n",
    "    for x in np.arange(x_vars):\n",
    "        x1 = sp.bernoulli.rvs(.5, size = N)\n",
    "        x_mat[:,x] = x1\n",
    "    # calculate lambda\n",
    "    \n",
    "    # set lambda\n",
    "    if lambda_f is None:\n",
    "        lmbda = np.exp(2 + 0.3*(x_mat[:,0] + x_mat[:,1]) + x_mat[:,2])\n",
    "    else:\n",
    "        lmbda = eval(lambda_f)\n",
    "    \n",
    "    # set alpha if specified\n",
    "    if alpha_f is None:\n",
    "        a = np.repeat(a, N)\n",
    "    else:\n",
    "        a = eval(alpha_f)\n",
    "\n",
    "    # add error\n",
    "    if err_ind:\n",
    "        error = sp.norm.rvs(0, .5, size = N)\n",
    "        lmbda=lmbda + error\n",
    "\n",
    "    # get time series\n",
    "    t = np.linspace(0,T, T)\n",
    "\n",
    "    # calculate survival and event times\n",
    "    sv_mat = np.zeros((N, t.shape[0]))\n",
    "    tlat = np.zeros(N)\n",
    "    for idx, l in enumerate(lmbda):\n",
    "        sv = np.exp(-1 * np.power((t/l), a[idx]))\n",
    "        sv_mat[idx,:] = sv\n",
    "        \n",
    "        # generate event times \n",
    "        unif = np.random.uniform(size=1)\n",
    "        ev = lmbda[idx] * np.power((-1 * np.log(unif)), 1/a[idx])\n",
    "        tlat[idx] = ev\n",
    "\n",
    "    if cens_ind:\n",
    "        # censor\n",
    "        cens = np.ceil(np.random.exponential(size = N, scale = cens_scale))\n",
    "\n",
    "        # min cen and surv event\n",
    "        t_event  = np.minimum(cens, np.ceil(tlat))\n",
    "        status = (tlat <= cens) * 1\n",
    "    else:\n",
    "        cens=np.zeros(N)\n",
    "        t_event = np.ceil(tlat)\n",
    "        status = np.ones(N)\n",
    "\n",
    "        \n",
    "\n",
    "    return sv_mat, x_mat, lmbda, a, tlat, cens, t_event, status\n",
    "\n",
    "# np.power()"
   ]
  },
  {
   "cell_type": "code",
   "execution_count": 0,
   "metadata": {
    "application/vnd.databricks.v1+cell": {
     "cellMetadata": {},
     "inputWidgets": {},
     "nuid": "355e6608-a187-4b73-b7df-ddb329a89383",
     "showTitle": false,
     "title": ""
    }
   },
   "outputs": [],
   "source": [
    "# sv_mat, x_mat = sim_ph(N=10, T=10, x_vars=3, err_ind = True)\n",
    "# sv_mat, x_mat = sim_surv(N=10, \n",
    "#                     T=10,\n",
    "#                     x_vars=4, \n",
    "#                     f = \"np.exp(2 + 0.3*(x_mat[:,0] + x_mat[:,1]) + x_mat[:,2]) + x_mat[:,3]\",\n",
    "#                     err_ind = True)\n",
    "\n",
    "T = 10\n",
    "sv_mat, x_mat, lmbda, a, tlat, cens, t_event, status = sim_surv(N=100, \n",
    "                    T=T,\n",
    "                    x_vars=2,\n",
    "                    a = 2,\n",
    "                    lambda_f = \"np.exp(1 + 0.3*(x_mat[:,0] + x_mat[:,1]))\",\n",
    "                    cens_ind=False,\n",
    "                    cens_scale=60,\n",
    "                    err_ind = False)\n",
    "\n",
    "# sv_mat, x_mat = sim_surv(N=10, \n",
    "#                     T=100,\n",
    "#                     x_vars=1, \n",
    "#                     f = \"20 + x_mat[:,0]\",\n",
    "#                     alpha_f=\"0.7 + 1.3*x_mat[:,0]\",\n",
    "#                     err_ind = True)\n",
    "\n"
   ]
  },
  {
   "cell_type": "code",
   "execution_count": 0,
   "metadata": {
    "application/vnd.databricks.v1+cell": {
     "cellMetadata": {},
     "inputWidgets": {},
     "nuid": "c91eef88-56d3-40bb-b003-963853e75a58",
     "showTitle": false,
     "title": ""
    }
   },
   "outputs": [],
   "source": [
    "# print(lmbda)\n",
    "# print(a)\n",
    "# print(sv_mat)\n",
    "# print(x_mat)\n",
    "print(tlat)\n",
    "print(cens)\n",
    "print(t_event)\n",
    "print(status)"
   ]
  },
  {
   "cell_type": "code",
   "execution_count": 0,
   "metadata": {
    "application/vnd.databricks.v1+cell": {
     "cellMetadata": {},
     "inputWidgets": {},
     "nuid": "72b413c6-55f6-484c-ab3d-f3399b427939",
     "showTitle": false,
     "title": ""
    }
   },
   "outputs": [],
   "source": [
    "# t_event"
   ]
  },
  {
   "cell_type": "code",
   "execution_count": 0,
   "metadata": {
    "application/vnd.databricks.v1+cell": {
     "cellMetadata": {},
     "inputWidgets": {},
     "nuid": "feaae4f1-57d5-47d1-8774-98f3654f921d",
     "showTitle": false,
     "title": ""
    }
   },
   "outputs": [],
   "source": [
    "# x_out, x_idx, x_cnt = get_x_info(x_mat)\n",
    "# print(x_out, x_idx, x_cnt)\n",
    "# str(list(zip(x_out, x_cnt)))"
   ]
  },
  {
   "cell_type": "code",
   "execution_count": 0,
   "metadata": {
    "application/vnd.databricks.v1+cell": {
     "cellMetadata": {},
     "inputWidgets": {},
     "nuid": "8860e06d-ed65-4f84-a390-c50ab15e72b0",
     "showTitle": false,
     "title": ""
    }
   },
   "outputs": [],
   "source": [
    "def get_x_info(x_mat):\n",
    "    x = np.unique(x_mat, axis=0, return_index=True, return_counts=True)\n",
    "    x_out, x_idx, x_cnt = x[0], x[1], x[2]\n",
    "    return x_out, x_idx, x_cnt\n",
    "\n",
    "# x_info = get_x_info(x_mat)\n",
    "# str(x_info)\n",
    "\n",
    "def get_status_perc(status):\n",
    "    out = status.sum()/status.shape[0]\n",
    "    cens = 1-out\n",
    "    return out, cens\n",
    "# event_calc, cens_calc = get_status_perc(status)\n",
    "\n",
    "def get_event_time_metric(t_event):\n",
    "    t_mean = t_event.mean()\n",
    "    t_max = t_event.max()\n",
    "    return t_mean, t_max\n",
    "\n",
    "\n",
    "# print(t_mean, t_max)\n",
    "\n",
    "def get_train_matrix(x_mat, t_event, status):\n",
    "    et = pd.DataFrame({\"status\": status, \"time\":t_event})\n",
    "    train = pd.concat([et, pd.DataFrame(x_mat)],axis=1)\n",
    "    return train\n",
    "\n",
    "def get_y_sklearn(status, t_event):\n",
    "    y = np.array(list(zip(np.array(status, dtype=\"bool\"), t_event)), dtype=[(\"Status\",\"?\"),(\"Survival_in_days\", \"<f8\")])\n",
    "    return y\n",
    "\n",
    "\n",
    "\n",
    "# et\n",
    "# pd.DataFrame(x_mat)"
   ]
  },
  {
   "cell_type": "code",
   "execution_count": 0,
   "metadata": {
    "application/vnd.databricks.v1+cell": {
     "cellMetadata": {},
     "inputWidgets": {},
     "nuid": "a1a36c11-bf0f-4cd1-b9c3-c64bee1e9aba",
     "showTitle": false,
     "title": ""
    }
   },
   "outputs": [],
   "source": [
    "x_out, x_idx, x_cnt = get_x_info(x_mat)\n",
    "t_mean, t_max = get_event_time_metric(t_event)\n",
    "train = get_train_matrix(x_mat, t_event, status)\n",
    "y = get_y_sklearn(status, t_event)\n",
    "\n",
    "# print(x_out)\n",
    "# print(x_idx)\n",
    "# print(x_cnt)\n",
    "# y"
   ]
  },
  {
   "cell_type": "code",
   "execution_count": 0,
   "metadata": {
    "application/vnd.databricks.v1+cell": {
     "cellMetadata": {},
     "inputWidgets": {},
     "nuid": "53ca0e56-91b2-466c-aef2-e5b04b964fbf",
     "showTitle": false,
     "title": ""
    }
   },
   "outputs": [],
   "source": [
    "# # check on how to set cens_scale to encounter a certain amount of censoring\n",
    "# its=100\n",
    "# cens_sum = np.zeros(its)\n",
    "# lmbda_sum = np.zeros(its)\n",
    "# for i in np.arange(its):\n",
    "#     sv_mat, x_mat, lmbda, a, tlat, cens, t_event, status = sim_surv(N=100, \n",
    "#                     T=10,\n",
    "#                     x_vars=2,\n",
    "#                     a = 3,\n",
    "#                     lambda_f = \"np.exp(2 + 0.3*(x_mat[:,0] + x_mat[:,1]))\",\n",
    "#                     cens_scale=38,\n",
    "#                     err_ind = False)\n",
    "#     lmbda_sum[i] = lmbda.mean()\n",
    "#     cens_sum[i] = status.sum()\n",
    "\n",
    "# print(100-cens_sum.mean())\n",
    "# print(lmbda_sum.mean())"
   ]
  },
  {
   "cell_type": "code",
   "execution_count": 0,
   "metadata": {
    "application/vnd.databricks.v1+cell": {
     "cellMetadata": {},
     "inputWidgets": {},
     "nuid": "787911df-c47c-47ee-a953-cbc24c576658",
     "showTitle": false,
     "title": ""
    }
   },
   "outputs": [],
   "source": [
    "# # eval(\"np.exp(2)\")\n",
    "# t = np.arange(10)\n",
    "# for idx in np.arange(sv_mat.shape[0]):\n",
    "#     plt.plot(t, sv_mat[idx,:], label = str(x_mat[idx,:]))\n",
    "#     plt.legend()\n",
    "\n",
    "# # str(x_mat[0,:])"
   ]
  },
  {
   "cell_type": "code",
   "execution_count": 0,
   "metadata": {
    "application/vnd.databricks.v1+cell": {
     "cellMetadata": {},
     "inputWidgets": {},
     "nuid": "a68fe313-8277-4d2e-ae30-4635dfc3dce5",
     "showTitle": false,
     "title": ""
    }
   },
   "outputs": [],
   "source": [
    "# # Simulation study\n",
    "\n",
    "# its=10\n",
    "\n",
    "# # for i in np.arange(its):\n",
    "# sv_mat, x_mat, lmbda, a, tlat, cens, t_event, status = sim_surv(\n",
    "#                 N=2000, \n",
    "#                 T=20,\n",
    "#                 x_vars=2,\n",
    "#                 a = 3,\n",
    "#                 lambda_f = \"np.exp(2 + 0.3 *x_mat[:,0] + .7 * x_mat[:,1])\",\n",
    "#                 cens_scale=38,\n",
    "#                 cens_ind=False,\n",
    "#                 err_ind = False)\n",
    "\n",
    "\n",
    "\n",
    "# # t = np.arange(10)\n",
    "# # for idx in np.arange(sv_mat.shape[0]):\n",
    "# #     plt.plot(t, sv_mat[idx,:], label = str(x_mat[idx,:]))\n",
    "# #     plt.legend()\n",
    "\n",
    "\n",
    "\n"
   ]
  },
  {
   "cell_type": "code",
   "execution_count": 0,
   "metadata": {
    "application/vnd.databricks.v1+cell": {
     "cellMetadata": {},
     "inputWidgets": {},
     "nuid": "8153d4d9-d9e0-42ba-a6c4-00d584031ca6",
     "showTitle": false,
     "title": ""
    }
   },
   "outputs": [],
   "source": [
    "\n",
    "# def plot_sv(x_mat, sv_mat, t, title=\"TITLE\", save=False, dir = \".\", show=False):\n",
    "#     dist_x, dist_idx = np.unique(x_mat, axis=0, return_index=True)\n",
    "\n",
    "#     # print(tt)\n",
    "#     try:\n",
    "#         fig = plt.figure()\n",
    "#         for idx, i in enumerate(sv_mat[dist_idx]):\n",
    "#             plt.plot(np.arange(t), i, label = str(dist_x[idx]))\n",
    "#             plt.legend()\n",
    "#             plt.title(title)\n",
    "#         if show:\n",
    "#             plt.show()\n",
    "#         if save:\n",
    "#             plt.savefig(f\"{dir}/{title}.png\")\n",
    "#     finally:\n",
    "#         plt.close(fig)\n",
    "\n",
    "# plot_sv(x_mat, cph_fx, 20, show=False)\n",
    "# for idx, i in enumerate(cph_fx)\n",
    "# cph_fx[1]\n",
    "def plot_sv(x_mat, sv_mat, t, title=\"TITLE\", save=False, dir=\".\", show=False):\n",
    "    dist_x, dist_idx = np.unique(x_mat, axis=0, return_index=True)\n",
    "    if type(t) == int:\n",
    "        print(\"here\")\n",
    "        tt = np.arange(t)\n",
    "    else:\n",
    "        tt = t\n",
    "\n",
    "    # print(tt)\n",
    "    try:\n",
    "        fig = plt.figure()\n",
    "        if len(sv_mat) != len(dist_idx):\n",
    "            for idx, i in enumerate(sv_mat[dist_idx]):\n",
    "                plt.plot(tt, i, label = str(dist_x[idx]))\n",
    "                plt.legend()\n",
    "                plt.title(title)\n",
    "        else:\n",
    "            for idx, i in enumerate(sv_mat):\n",
    "                # plt.step(i.x, i.y, label = str(dist_x[idx]))\n",
    "                plt.plot(tt, i, label = str(dist_x[idx]))\n",
    "                plt.legend()\n",
    "                plt.title(title)\n",
    "        if show:\n",
    "            plt.show()\n",
    "        if save:\n",
    "            plt.savefig(f\"{dir}/{title}.png\")\n",
    "    finally:\n",
    "        plt.close(fig)"
   ]
  },
  {
   "cell_type": "code",
   "execution_count": 0,
   "metadata": {
    "application/vnd.databricks.v1+cell": {
     "cellMetadata": {},
     "inputWidgets": {},
     "nuid": "c44a43d1-77b7-4362-8ac6-99a3430c1d17",
     "showTitle": false,
     "title": ""
    }
   },
   "outputs": [],
   "source": [
    "# plot_sv(x_mat, sv_mat, t=T, show=True)\n",
    "# np.arange(T)\n",
    "plot_sv(x_mat, sv_mat[x_idx], t=T, show=True)\n",
    "# type(T)\n"
   ]
  },
  {
   "cell_type": "code",
   "execution_count": 0,
   "metadata": {
    "application/vnd.databricks.v1+cell": {
     "cellMetadata": {},
     "inputWidgets": {},
     "nuid": "56ac5eb9-0ec6-4972-aede-885c35a02928",
     "showTitle": false,
     "title": ""
    }
   },
   "outputs": [],
   "source": [
    "# # get kpm\n",
    "# kpm = sks.nonparametric.kaplan_meier_estimator(np.array(status, dtype=\"bool\"), t_event)\n",
    "# plt.plot(kpm[0], kpm[1])"
   ]
  },
  {
   "cell_type": "code",
   "execution_count": 0,
   "metadata": {
    "application/vnd.databricks.v1+cell": {
     "cellMetadata": {},
     "inputWidgets": {},
     "nuid": "4ad02b02-860e-4047-b3bc-ee292fd3a2a8",
     "showTitle": false,
     "title": ""
    }
   },
   "outputs": [],
   "source": [
    "# cox model\n",
    "# y = np.array(list(zip(np.array(status, dtype=\"bool\"), t_event)), dtype=[(\"Status\",\"?\"),(\"Survival_in_days\", \"<f8\")])\n",
    "cph = sks.linear_model.CoxPHSurvivalAnalysis()\n",
    "cph.fit(train.iloc[:,2:], y)\n",
    "cph_surv = cph.predict_survival_function(pd.DataFrame(x_out))"
   ]
  },
  {
   "cell_type": "code",
   "execution_count": 0,
   "metadata": {
    "application/vnd.databricks.v1+cell": {
     "cellMetadata": {},
     "inputWidgets": {},
     "nuid": "767ffd5c-3e69-4c55-8a39-8ea9717409e4",
     "showTitle": false,
     "title": ""
    }
   },
   "outputs": [],
   "source": [
    "# get time and probs\n",
    "cph_sv_t = cph_surv[0].x\n",
    "cph_sv_val = [sf(cph_sv_t) for sf in cph_surv]\n",
    "# add a time 0 with prob 1 \n",
    "cph_sv_t = np.concatenate([np.array([0]), cph_sv_t])\n",
    "cph_sv_val = [np.concatenate([np.array([1]), sv]) for sv in cph_sv_val]\n",
    "\n",
    "plot_sv(x_mat, cph_sv_val, t=cph_sv_t, show=True)"
   ]
  },
  {
   "cell_type": "code",
   "execution_count": 0,
   "metadata": {
    "application/vnd.databricks.v1+cell": {
     "cellMetadata": {},
     "inputWidgets": {},
     "nuid": "9bcc09da-d562-4116-a1f9-3cef388c5ed7",
     "showTitle": false,
     "title": ""
    }
   },
   "outputs": [],
   "source": [
    "# cph_surv[0].y"
   ]
  },
  {
   "cell_type": "code",
   "execution_count": 0,
   "metadata": {
    "application/vnd.databricks.v1+cell": {
     "cellMetadata": {},
     "inputWidgets": {},
     "nuid": "04f30d86-f891-4c77-bf05-18bbebe8a64b",
     "showTitle": false,
     "title": ""
    }
   },
   "outputs": [],
   "source": [
    "# cph_fx = [sf(np.arange(sf.x.max())) for sf in cph_surv]\n",
    "# cph_fx[3]\n",
    "# cph_surv"
   ]
  },
  {
   "cell_type": "code",
   "execution_count": 0,
   "metadata": {
    "application/vnd.databricks.v1+cell": {
     "cellMetadata": {},
     "inputWidgets": {},
     "nuid": "2daf7319-6908-47eb-926d-baaccd0220f5",
     "showTitle": false,
     "title": ""
    }
   },
   "outputs": [],
   "source": [
    "# plot_sv(x_mat, cph_fx, 20, show=False)\n",
    "# for idx, i in enumerate(cph_fx)\n",
    "# cph_fx[1]\n",
    "\n",
    "# def plot_sv(x_mat, sv_mat, t, title=\"TITLE\", save=False, dir=\".\", show=False):\n",
    "#     dist_x, dist_idx = np.unique(x_mat, axis=0, return_index=True)\n",
    "\n",
    "#     # print(tt)\n",
    "#     try:\n",
    "#         fig = plt.figure()\n",
    "#         if len(sv_mat) != len(dist_idx):\n",
    "#             for idx, i in enumerate(sv_mat[dist_idx]):\n",
    "#                 plt.step(np.arange(t), i, label = str(dist_x[idx]))\n",
    "#                 plt.legend()\n",
    "#                 plt.title(title)\n",
    "#         else:\n",
    "#             for idx, i in enumerate(sv_mat):\n",
    "#                 # plt.step(i.x, i.y, label = str(dist_x[idx]))\n",
    "#                 plt.step(np.arange(t), i, label = str(dist_x[idx]))\n",
    "#                 plt.legend()\n",
    "#                 plt.title(title)\n",
    "#         if show:\n",
    "#             plt.show()\n",
    "#         if save:\n",
    "#             plt.savefig(f\"{dir}/{title}.png\")\n",
    "#     finally:\n",
    "#         plt.close(fig)"
   ]
  },
  {
   "cell_type": "code",
   "execution_count": 0,
   "metadata": {
    "application/vnd.databricks.v1+cell": {
     "cellMetadata": {},
     "inputWidgets": {},
     "nuid": "88c15ba2-8f9c-4fdb-bfad-9a1bcfc76bcc",
     "showTitle": false,
     "title": ""
    }
   },
   "outputs": [],
   "source": [
    "# plot_sv(x_mat, cph_surv, 20, show= True)\n",
    "# cph_surv[0].x.max()\n",
    "# # cph_fx[0].shape\n",
    "# cph_t = cph_surv[0].x.max()\n",
    "# plot_sv(x_mat, cph_fx, t=cph_t, show= True)\n"
   ]
  },
  {
   "cell_type": "code",
   "execution_count": 0,
   "metadata": {
    "application/vnd.databricks.v1+cell": {
     "cellMetadata": {},
     "inputWidgets": {},
     "nuid": "4aef87e3-66e5-4aed-baa7-1862cea097a1",
     "showTitle": false,
     "title": ""
    }
   },
   "outputs": [],
   "source": [
    "# time_points = np.linspace(0,20, 100)\n",
    "# for i, surv_func in enumerate(cph_surv):\n",
    "#     plt.step(time_points, surv_func(time_points), where=\"post\", label=f\"Sample {str(dist_x[i])}\")\n",
    "# plt.ylabel(\"est. Surv\")\n",
    "# plt.xlabel(\"time\")\n",
    "# plt.legend(loc=\"best\")\n"
   ]
  },
  {
   "cell_type": "code",
   "execution_count": 0,
   "metadata": {
    "application/vnd.databricks.v1+cell": {
     "cellMetadata": {},
     "inputWidgets": {},
     "nuid": "bf14d32f-61e4-44d7-9347-c57436a407d7",
     "showTitle": false,
     "title": ""
    }
   },
   "outputs": [],
   "source": [
    "# try with the rsf\n",
    "import sksurv.ensemble\n",
    "\n",
    "rsf = sks.ensemble.RandomSurvivalForest(\n",
    "    n_estimators=1000, min_samples_split=10, min_samples_leaf=15, n_jobs=-1, random_state=20\n",
    ")\n",
    "rsf.fit(pd.DataFrame(x_mat), y)"
   ]
  },
  {
   "cell_type": "code",
   "execution_count": 0,
   "metadata": {
    "application/vnd.databricks.v1+cell": {
     "cellMetadata": {},
     "inputWidgets": {},
     "nuid": "80cd81a0-2354-4906-bc34-c1138aed7861",
     "showTitle": false,
     "title": ""
    }
   },
   "outputs": [],
   "source": [
    "rsf_surv1 = rsf.predict_survival_function(pd.DataFrame(x_out))"
   ]
  },
  {
   "cell_type": "code",
   "execution_count": 0,
   "metadata": {
    "application/vnd.databricks.v1+cell": {
     "cellMetadata": {},
     "inputWidgets": {},
     "nuid": "ea7452bc-5ca7-4f5f-9f30-a24f13c3e328",
     "showTitle": false,
     "title": ""
    }
   },
   "outputs": [],
   "source": [
    "# get the predictions out\n",
    "rsf_t = rsf_surv1[0].x\n",
    "print(rsf_t)\n",
    "rsf_fx = [sf(rsf_t) for sf in rsf_surv1]\n",
    "print(rsf_fx)\n",
    "# add a time 0 with prob 1 \n",
    "rsf_t = np.concatenate([np.array([0]), rsf_t])\n",
    "rsf_fx = [np.concatenate([np.array([1]), sv]) for sv in rsf_fx]"
   ]
  },
  {
   "cell_type": "code",
   "execution_count": 0,
   "metadata": {
    "application/vnd.databricks.v1+cell": {
     "cellMetadata": {},
     "inputWidgets": {},
     "nuid": "e01e11a0-f761-4dad-9f23-490e83cf1bfa",
     "showTitle": false,
     "title": ""
    }
   },
   "outputs": [],
   "source": [
    "plot_sv(x_mat, rsf_fx, t = rsf_t, show=True)"
   ]
  },
  {
   "cell_type": "code",
   "execution_count": 0,
   "metadata": {
    "application/vnd.databricks.v1+cell": {
     "cellMetadata": {},
     "inputWidgets": {},
     "nuid": "c58a850b-1d87-4f55-a15f-bee5b0303c0e",
     "showTitle": false,
     "title": ""
    }
   },
   "outputs": [],
   "source": [
    "# time_points = np.linspace(0,20, 100)\n",
    "# for i, surv_func in enumerate(rsf_surv1):\n",
    "#     plt.step(time_points, surv_func(time_points), where=\"post\", label=f\"Sample {dist_x[i]}\")\n",
    "# plt.ylabel(\"est. Surv\")\n",
    "# plt.xlabel(\"time\")\n",
    "# plt.legend(loc=\"best\")"
   ]
  },
  {
   "cell_type": "markdown",
   "metadata": {
    "application/vnd.databricks.v1+cell": {
     "cellMetadata": {},
     "inputWidgets": {},
     "nuid": "88cdd98b-5111-4a7d-aa50-86d5b03cab45",
     "showTitle": false,
     "title": ""
    }
   },
   "source": [
    "# BART"
   ]
  },
  {
   "cell_type": "code",
   "execution_count": 0,
   "metadata": {
    "application/vnd.databricks.v1+cell": {
     "cellMetadata": {},
     "inputWidgets": {},
     "nuid": "e82f43df-45c7-49ba-94ff-8783afb5b446",
     "showTitle": false,
     "title": ""
    }
   },
   "outputs": [],
   "source": [
    "\n",
    "def surv_pre_train2(data_x_n, data_y, X_TIME=True):\n",
    "    # set up times\n",
    "    # t_sort = np.append([0], np.unique(data_y[\"Survival_in_days\"]))\n",
    "    t_sort = np.unique(data_y[\"Survival_in_days\"])\n",
    "    t_ind = np.arange(0,t_sort.shape[0])\n",
    "    t_dict = dict(zip(t_sort, t_ind))\n",
    "\n",
    "    # set up delta\n",
    "    delta = np.array(data_y[\"Status\"], dtype = \"int\")\n",
    "    \n",
    "    t_out = []\n",
    "    pat_x_out = []\n",
    "    delta_out = []\n",
    "    for idx, t in enumerate(data_y[\"Survival_in_days\"]):\n",
    "        # get the pat_time and use to get the array of times for the patient\n",
    "        p_t_ind = t_dict[t]\n",
    "        p_t_set = t_sort[0:p_t_ind+1]\n",
    "        t_out.append(p_t_set)\n",
    "        \n",
    "        size = p_t_set.shape[0]\n",
    "        # get patient array\n",
    "        pat_x = np.tile(data_x_n.iloc[idx].to_numpy(), (size, 1))\n",
    "        pat_x_out.append(pat_x)\n",
    "\n",
    "        # get delta\n",
    "        pat_delta = delta[idx]\n",
    "        delta_set = np.zeros(shape=size, dtype=int)\n",
    "        delta_set[-1] = pat_delta\n",
    "        delta_out.append(delta_set)\n",
    "    \n",
    "    \n",
    "    t_out, delta_out, pat_x_out = np.concatenate(t_out), np.concatenate(delta_out), np.concatenate(pat_x_out)\n",
    "    if X_TIME:\n",
    "        pat_x_out = np.array([np.concatenate([np.array([t_out[idx]]), i]) for idx, i in enumerate(pat_x_out)])\n",
    "    return t_out, delta_out, pat_x_out\n",
    "\n",
    "# def surv_pre_test2(data_x_n, data_y, T, X_TIME=True):\n",
    "#     # t_sort = np.append([0], np.unique(data_y[\"Survival_in_days\"]))\n",
    "#     t_sort = np.unique(data_y[\"Survival_in_days\"])\n",
    "#     t_out = []\n",
    "#     pat_x_out = []\n",
    "#     for idx, t in enumerate(data_y[\"Survival_in_days\"]):\n",
    "#         # get the pat_time and use to get the array of times for the patient\n",
    "#         p_t_set = t_sort\n",
    "#         t_out.append(p_t_set)\n",
    "        \n",
    "#         size = p_t_set.shape[0]\n",
    "#         # get patient array\n",
    "#         pat_x = np.tile(data_x_n.iloc[idx].to_numpy(), (size, 1))\n",
    "#         pat_x_out.append(pat_x)\n",
    "    \n",
    "#     t_out, pat_x_out = np.concatenate(t_out),  np.concatenate(pat_x_out)\n",
    "#     if X_TIME:\n",
    "#         pat_x_out = np.array([np.concatenate([np.array([t_out[idx]]), i]) for idx, i in enumerate(pat_x_out)])\n",
    "#     return t_out, pat_x_out\n",
    "\n",
    "\n",
    "\n",
    "# def get_bart_test(x_out, T):\n",
    "#     d1 = np.arange(T + 1)\n",
    "#     d2 = np.arange(x_out.shape[1])\n",
    "    \n",
    "#     out = np.stack(np.array(np.meshgrid(d1, d2, d2)),-1).reshape(-1, d2.shape[0] + 1)\n",
    "#     return out\n"
   ]
  },
  {
   "cell_type": "code",
   "execution_count": 0,
   "metadata": {
    "application/vnd.databricks.v1+cell": {
     "cellMetadata": {},
     "inputWidgets": {},
     "nuid": "f5d43804-6d86-4cf1-8b17-63ef9aebf417",
     "showTitle": false,
     "title": ""
    }
   },
   "outputs": [],
   "source": [
    "def get_bart_test(x_out, T):\n",
    "    s0 = x_out.shape[0]\n",
    "    s1 = x_out.shape[1]\n",
    "    # create time range\n",
    "    # d1 = np.arange(T+1)\n",
    "    d1 = T\n",
    "    # repeating time range\n",
    "    d2 = np.tile(d1,s0).reshape(d1.shape[0]*s0,1)\n",
    "    # repeat x_out and shape as long by nvar\n",
    "    d3 = np.tile(x_out, d1.shape[0]).reshape(s0*d1.shape[0], s1)\n",
    "    # holding matrix\n",
    "    d4 = np.matrix(np.zeros((d3.shape[0], d3.shape[1] + 1))) # always +1 because only adding on time col\n",
    "    # replace\n",
    "    d4[:,0] = d2\n",
    "    d4[:,1:3] = d3\n",
    "    return d4\n",
    "# d_out = np.matrix()\n"
   ]
  },
  {
   "cell_type": "code",
   "execution_count": 0,
   "metadata": {
    "application/vnd.databricks.v1+cell": {
     "cellMetadata": {},
     "inputWidgets": {},
     "nuid": "1e66e780-cd0e-46a7-9b44-ca2250db1b86",
     "showTitle": false,
     "title": ""
    }
   },
   "outputs": [],
   "source": [
    "train_t, train_delta, train_x = surv_pre_train2(pd.DataFrame(x_mat), y)\n",
    "# test_t, test_x = surv_pre_test2(x, y)\n",
    "off = sp.norm.ppf(np.mean(train_delta))"
   ]
  },
  {
   "cell_type": "code",
   "execution_count": 0,
   "metadata": {
    "application/vnd.databricks.v1+cell": {
     "cellMetadata": {},
     "inputWidgets": {},
     "nuid": "d61460c3-bfd2-4055-8798-9d5aadc00f12",
     "showTitle": false,
     "title": ""
    }
   },
   "outputs": [],
   "source": [
    "bart_t = np.unique(train_t).max()\n",
    "# print(bart_t)\n",
    "test_x = get_bart_test(x_out, np.unique(train_t))"
   ]
  },
  {
   "cell_type": "code",
   "execution_count": 0,
   "metadata": {
    "application/vnd.databricks.v1+cell": {
     "cellMetadata": {},
     "inputWidgets": {},
     "nuid": "c5566f1c-ad15-4ba9-838e-f47bf6f63b2f",
     "showTitle": false,
     "title": ""
    }
   },
   "outputs": [],
   "source": [
    "with pm.Model() as bart:\n",
    "    x_data = pm.MutableData(\"x\", train_x)\n",
    "    # y_data = pm.MutableData(\"y\", delta1)\n",
    "    \n",
    "    f = pmb.BART(\"f\", X = x_data, Y = train_delta, m=50)\n",
    "    z = pm.Deterministic(\"z\", f + off)\n",
    "\n",
    "    mu = pm.Deterministic(\"mu\", pm.math.invprobit(z))\n",
    "    pm.Bernoulli(\"y_pred\", p=(mu), observed=train_delta, shape=x_data.shape[0])\n",
    "    bdata = pm.sample(random_seed=2, draws=1000, tune = 100, cores=8)"
   ]
  },
  {
   "cell_type": "code",
   "execution_count": 0,
   "metadata": {
    "application/vnd.databricks.v1+cell": {
     "cellMetadata": {},
     "inputWidgets": {},
     "nuid": "acd7bc37-868e-4ece-bf43-4013971a8a15",
     "showTitle": false,
     "title": ""
    }
   },
   "outputs": [],
   "source": [
    "bdata"
   ]
  },
  {
   "cell_type": "code",
   "execution_count": 0,
   "metadata": {
    "application/vnd.databricks.v1+cell": {
     "cellMetadata": {},
     "inputWidgets": {},
     "nuid": "4563590e-1040-40fc-bf17-4d6a8d981b73",
     "showTitle": false,
     "title": ""
    }
   },
   "outputs": [],
   "source": [
    "# test_x2 = np.unique(test_x, axis=0)\n",
    "# # np.matrix(test_x2)[:,0]\n",
    "# test_x.shape"
   ]
  },
  {
   "cell_type": "code",
   "execution_count": 0,
   "metadata": {
    "application/vnd.databricks.v1+cell": {
     "cellMetadata": {},
     "inputWidgets": {},
     "nuid": "ee35d190-099f-4a84-96f7-b2990cffc579",
     "showTitle": false,
     "title": ""
    }
   },
   "outputs": [],
   "source": [
    "with bart:\n",
    "    pm.set_data({\"x\":pd.DataFrame(test_x)})\n",
    "    pp = pm.sample_posterior_predictive(bdata, var_names = [\"y_pred\", \"f\", \"z\", \"mu\"])"
   ]
  },
  {
   "cell_type": "code",
   "execution_count": 0,
   "metadata": {
    "application/vnd.databricks.v1+cell": {
     "cellMetadata": {},
     "inputWidgets": {},
     "nuid": "e19c0276-ece1-4f2a-b54e-6fec005acd13",
     "showTitle": false,
     "title": ""
    }
   },
   "outputs": [],
   "source": [
    "pp"
   ]
  },
  {
   "cell_type": "code",
   "execution_count": 0,
   "metadata": {
    "application/vnd.databricks.v1+cell": {
     "cellMetadata": {},
     "inputWidgets": {},
     "nuid": "a8ee9114-a2e0-4733-a29e-ef90efbc5362",
     "showTitle": false,
     "title": ""
    }
   },
   "outputs": [],
   "source": [
    "# get sv\n",
    "def get_sv_fx(pp, x_out):\n",
    "    p0 = pp.posterior_predictive[\"mu\"].values.shape[0]\n",
    "    p1 = pp.posterior_predictive[\"mu\"].values.shape[1]\n",
    "    p2 = pp.posterior_predictive[\"mu\"].values.shape[2]\n",
    "    r0 = x_out.shape[0]\n",
    "    r1 = int(p2/r0)\n",
    "    pp_post = pp.posterior_predictive[\"mu\"].values.reshape(p0*p1, p2).mean(axis=0).reshape(r0, r1)\n",
    "    sv = (1-pp_post).cumprod(axis=1)\n",
    "    return sv"
   ]
  },
  {
   "cell_type": "code",
   "execution_count": 0,
   "metadata": {
    "application/vnd.databricks.v1+cell": {
     "cellMetadata": {},
     "inputWidgets": {},
     "nuid": "590c7241-52c5-4cee-b097-99e204b67bec",
     "showTitle": false,
     "title": ""
    }
   },
   "outputs": [],
   "source": [
    "# shpe = pp.posterior_predictive[\"mu\"].values.shape\n",
    "# shpe0 = shpe[0] * shpe[1]\n",
    "# shpe1 = shpe[2]\n",
    "# shp_grps = x_out.shape[0]\n",
    "# shpeT = int(shpe1/shp_grps)\n",
    "\n",
    "# pp_post = pp.posterior_predictive[\"mu\"].values.reshape((shpe0,shpe1))\n",
    "# pp_postm = pp_post.mean(axis=0).reshape(shpeT, 4).T\n",
    "# sv = (1-pp_postm).cumprod(axis=1)\n",
    "# sv\n",
    "\n",
    "sv_fx = get_sv_fx(pp, x_out)\n",
    "sv_fx"
   ]
  },
  {
   "cell_type": "code",
   "execution_count": 0,
   "metadata": {
    "application/vnd.databricks.v1+cell": {
     "cellMetadata": {},
     "inputWidgets": {},
     "nuid": "a5f39f66-a8cc-44ac-8fc0-9665ff8ce64a",
     "showTitle": false,
     "title": ""
    }
   },
   "outputs": [],
   "source": [
    "# x_mat\n",
    "# get the predictions out\n",
    "sv_t = np.unique(train_t)\n",
    "# print(rsf_t)\n",
    "# print(sv)\n",
    "\n",
    "# add a time 0 with prob 1 \n",
    "sv_t = np.concatenate([np.array([0]), sv_t])\n",
    "sv_fx2 = [np.concatenate([np.array([1]), sv]) for sv in sv_fx]\n",
    "print(sv_t)\n",
    "print(sv_fx2)"
   ]
  },
  {
   "cell_type": "code",
   "execution_count": 0,
   "metadata": {
    "application/vnd.databricks.v1+cell": {
     "cellMetadata": {},
     "inputWidgets": {},
     "nuid": "0f7ebe76-723c-4775-9988-203f14bcddbc",
     "showTitle": false,
     "title": ""
    }
   },
   "outputs": [],
   "source": [
    "plot_sv(x_mat, sv_fx2, t = sv_t, show=True)"
   ]
  },
  {
   "cell_type": "code",
   "execution_count": 0,
   "metadata": {
    "application/vnd.databricks.v1+cell": {
     "cellMetadata": {},
     "inputWidgets": {},
     "nuid": "eb99f6ba-e0e3-4267-a274-c1a0c47b3262",
     "showTitle": false,
     "title": ""
    }
   },
   "outputs": [],
   "source": [
    "# pp_post = pp.posterior_predictive[\"mu\"].values.reshape((800,64))\n",
    "# pp_postm = pp_post.mean(axis=0).reshape(36,4).T\n",
    "# sv = (1-pp_postm).cumprod(axis=1)"
   ]
  },
  {
   "cell_type": "code",
   "execution_count": 0,
   "metadata": {
    "application/vnd.databricks.v1+cell": {
     "cellMetadata": {},
     "inputWidgets": {},
     "nuid": "7509663f-04b0-4e95-8cb9-8610bfcec7a9",
     "showTitle": false,
     "title": ""
    }
   },
   "outputs": [],
   "source": [
    "# for i in sv:\n",
    "# test_str = test_x2[:,[1,2]][0:4]\n",
    "\n",
    "# fig = plt.figure()\n",
    "# for idx, i in enumerate(sv):\n",
    "#     plt.step(np.arange(i.shape[0]), i, label = str(test_str[idx]))\n",
    "#     plt.legend()\n",
    "# plt.show()\n",
    "# plt.close(fig)"
   ]
  },
  {
   "cell_type": "markdown",
   "metadata": {
    "application/vnd.databricks.v1+cell": {
     "cellMetadata": {},
     "inputWidgets": {},
     "nuid": "9b46d6f6-6e0c-435d-b770-d3db44690c3f",
     "showTitle": false,
     "title": ""
    }
   },
   "source": [
    "# Metrics"
   ]
  },
  {
   "cell_type": "code",
   "execution_count": 0,
   "metadata": {
    "application/vnd.databricks.v1+cell": {
     "cellMetadata": {},
     "inputWidgets": {},
     "nuid": "0e3d611c-e1ca-41ad-9efd-fd077ae34f1f",
     "showTitle": false,
     "title": ""
    }
   },
   "outputs": [],
   "source": [
    "def get_metrics(f_t, f, T, quants = np.array([0.1, 0.25, 0.5, 0.75, 0.9])):\n",
    "    # t_quant = np.array(np.ceil(np.quantile(np.arange(T), quants)), dtype=\"int\")\n",
    "    t_quant = np.array(np.ceil(np.quantile(T, quants)), dtype=\"int\")\n",
    "    # print(t_quant)\n",
    "    \n",
    "    # f_t = np.matrix(rsf_fx)[:,t_quant]\n",
    "    f_t = np.matrix(f_t)[:,t_quant]\n",
    "    f = np.matrix(f)[:, t_quant]\n",
    "    # f = np.matrix(sv_mat[dist_idx])[:, t_quant]\n",
    "\n",
    "    rmse = np.round(np.sqrt(np.mean(np.power(f_t - f, 2), axis=0)), 4)\n",
    "    bias = np.round(np.mean(f_t - f, axis = 0), 4)\n",
    "    \n",
    "    return rmse, bias, t_quant"
   ]
  },
  {
   "cell_type": "code",
   "execution_count": 0,
   "metadata": {
    "application/vnd.databricks.v1+cell": {
     "cellMetadata": {},
     "inputWidgets": {},
     "nuid": "93b4f2ac-f952-4e8b-99ed-2494167c7184",
     "showTitle": false,
     "title": ""
    }
   },
   "outputs": [],
   "source": [
    "# cph_fx\n",
    "cph_sv_val"
   ]
  },
  {
   "cell_type": "code",
   "execution_count": 0,
   "metadata": {
    "application/vnd.databricks.v1+cell": {
     "cellMetadata": {},
     "inputWidgets": {},
     "nuid": "6eda3ab7-0b5f-47fd-9932-550593695f62",
     "showTitle": false,
     "title": ""
    }
   },
   "outputs": [],
   "source": [
    "rsf_rmse, rsf_bias, t_quant = get_metrics( f_t = rsf_fx, f = sv_mat[x_idx], T = rsf_t)\n",
    "\n",
    "cph_rmse, cph_bias, t_quant = get_metrics( f_t = cph_sv_val, f = sv_mat[x_idx], T = cph_sv_t)\n",
    "\n",
    "bart_rmse, bart_bias, t_quant = get_metrics(f_t = sv_fx2, f = sv_mat[x_idx], T = sv_t)\n",
    "print(rsf_rmse)\n",
    "print(rsf_bias)\n",
    "print(cph_rmse)\n",
    "print(cph_bias)\n",
    "print(bart_rmse)\n",
    "print(bart_bias)"
   ]
  },
  {
   "cell_type": "code",
   "execution_count": 0,
   "metadata": {
    "application/vnd.databricks.v1+cell": {
     "cellMetadata": {},
     "inputWidgets": {},
     "nuid": "58e12edb-d7c6-45bc-a449-315182e9b851",
     "showTitle": false,
     "title": ""
    }
   },
   "outputs": [],
   "source": [
    "# print(sv_mat[x_idx])\n",
    "# print(sv_fx2)"
   ]
  },
  {
   "cell_type": "code",
   "execution_count": 0,
   "metadata": {
    "application/vnd.databricks.v1+cell": {
     "cellMetadata": {},
     "inputWidgets": {},
     "nuid": "197f5500-ac40-4ad8-8e9f-e59bea7c2478",
     "showTitle": false,
     "title": ""
    }
   },
   "outputs": [],
   "source": [
    "fig = plt.figure()\n",
    "plt.plot(t_quant, rsf_rmse[0], label=\"rsf\")\n",
    "plt.plot(t_quant, cph_rmse[0], label = \"cph\")\n",
    "plt.plot(t_quant, bart_rmse[0], label = \"bart\")\n",
    "plt.legend()\n",
    "plt.show()\n",
    "plt.close(fig)"
   ]
  },
  {
   "cell_type": "code",
   "execution_count": 0,
   "metadata": {
    "application/vnd.databricks.v1+cell": {
     "cellMetadata": {},
     "inputWidgets": {},
     "nuid": "6ac28135-3f9e-472f-b3e4-e97dca6e772b",
     "showTitle": false,
     "title": ""
    }
   },
   "outputs": [],
   "source": [
    "fig = plt.figure()\n",
    "plt.plot(t_quant, rsf_bias[0], label=\"rsf\")\n",
    "plt.plot(t_quant, cph_bias[0], label = \"cph\")\n",
    "plt.plot(t_quant, bart_bias[0], label = \"bart\")\n",
    "plt.legend()\n",
    "plt.show()\n",
    "plt.close(fig)"
   ]
  }
 ],
 "metadata": {
  "application/vnd.databricks.v1+notebook": {
   "dashboards": [],
   "language": "python",
   "notebookMetadata": {},
   "notebookName": "surv2",
   "widgets": {}
  },
  "kernelspec": {
   "display_name": "Python 3.10.6 64-bit",
   "language": "python",
   "name": "python3"
  },
  "language_info": {
   "codemirror_mode": {
    "name": "ipython",
    "version": 3
   },
   "file_extension": ".py",
   "mimetype": "text/x-python",
   "name": "python",
   "nbconvert_exporter": "python",
   "pygments_lexer": "ipython3",
   "version": "3.10.6"
  },
  "orig_nbformat": 4,
  "vscode": {
   "interpreter": {
    "hash": "916dbcbb3f70747c44a77c7bcd40155683ae19c65e1c03b4aa3499c5328201f1"
   }
  }
 },
 "nbformat": 4,
 "nbformat_minor": 0
}

{
 "cells": [
  {
   "cell_type": "code",
   "execution_count": 1,
   "metadata": {},
   "outputs": [],
   "source": [
    "import sksurv as sks\n",
    "import sksurv.preprocessing\n",
    "import sksurv.metrics\n",
    "import sksurv.datasets\n",
    "import sksurv.linear_model\n",
    "import sksurv.ensemble\n",
    "\n",
    "from pathlib import Path\n",
    "import arviz as az\n",
    "import matplotlib.pyplot as plt\n",
    "import numpy as np\n",
    "import pandas as pd\n",
    "import numpy as np\n",
    "import sklearn as skl\n",
    "import scipy.stats as sp\n",
    "\n",
    "import pymc as pm\n",
    "import pymc_bart as pmb\n",
    "import pandas as pd\n",
    "\n",
    "import importlib\n",
    "import mlflow as ml\n",
    "import simsurv_func as ssf"
   ]
  },
  {
   "cell_type": "code",
   "execution_count": 2,
   "metadata": {},
   "outputs": [],
   "source": [
    "plt.ioff()\n",
    "np.random.seed(99)"
   ]
  },
  {
   "cell_type": "code",
   "execution_count": 14,
   "metadata": {},
   "outputs": [
    {
     "data": {
      "text/plain": [
       "<module 'simsurv_func' from '/home/twj8/pymc_bart/simsurv_func.py'>"
      ]
     },
     "execution_count": 14,
     "metadata": {},
     "output_type": "execute_result"
    }
   ],
   "source": [
    "\n",
    "importlib.reload(ssf)"
   ]
  },
  {
   "cell_type": "markdown",
   "metadata": {},
   "source": [
    "# Objective\n",
    "Simulations of the cox proportional and non proportional survial models. \n",
    "Validation of bart pymc against cph model, rsf model.\n",
    "\n",
    "Validation metrics:\n",
    "    2 bool\n",
    "    5 bool\n",
    "    2 bool + 1 linear\n",
    "    complex combination\n",
    "\n"
   ]
  },
  {
   "cell_type": "code",
   "execution_count": null,
   "metadata": {},
   "outputs": [],
   "source": [
    "# Set experiment\n",
    "    # - each simulation parms is a new experiment\n",
    "\n",
    "# Simulation loop\n",
    "    # Creat run\n",
    "        # Simulate data\n",
    "        # log param alpha, lambda\n",
    "        # log param N\n",
    "        # log param T (of probabilites generated)\n",
    "        # log param x_info\n",
    "        # log param cen percent calculated\n",
    "        # log param status event calculated\n",
    "        # log param t_event mean\n",
    "        # log param t_event max\n",
    "        # log artif train dataset\n",
    "        # log artif plot curves\n",
    "\n",
    "        # model cph\n",
    "        # log metri coeff\n",
    "        # log metri exp(coef)\n",
    "        # log artif plot curves\n",
    "        # log model cph\n",
    "        \n",
    "        #  model rsf\n",
    "        # log artif plot curves\n",
    "        # log model resf\n",
    "\n",
    "        # tranform data long-form\n",
    "        # model bart\n",
    "        # transform to survival\n",
    "        # log artif plot curves\n",
    "        # log model bart\n",
    "\n",
    "        # get metrics rmse, bias\n",
    "        # log metri cph_rmse\n",
    "        # log metri cph_bias\n",
    "        # log metri rsf_rmse\n",
    "        # log metri rsf_bias\n",
    "        # log metri bart_rmse\n",
    "        # log metri bart_bias\n",
    "    \n",
    "    # End run\n",
    "\n",
    "\n",
    "\n"
   ]
  },
  {
   "cell_type": "code",
   "execution_count": 26,
   "metadata": {},
   "outputs": [
    {
     "name": "stderr",
     "output_type": "stream",
     "text": [
      "2023/08/01 16:21:35 INFO mlflow.tracking.fluent: Autologging successfully enabled for sklearn.\n"
     ]
    }
   ],
   "source": [
    "ml.autolog(False)"
   ]
  },
  {
   "cell_type": "code",
   "execution_count": 12,
   "metadata": {},
   "outputs": [],
   "source": [
    "# ml.set_experiment(\"test_sim\")\n",
    "ml.active_run()"
   ]
  },
  {
   "cell_type": "code",
   "execution_count": 28,
   "metadata": {},
   "outputs": [
    {
     "name": "stdout",
     "output_type": "stream",
     "text": [
      "here\n"
     ]
    },
    {
     "name": "stderr",
     "output_type": "stream",
     "text": [
      "Only 200 samples in chain.\n",
      "Multiprocess sampling (4 chains in 4 jobs)\n",
      "PGBART: [f]\n"
     ]
    },
    {
     "data": {
      "text/html": [
       "\n",
       "<style>\n",
       "    /* Turns off some styling */\n",
       "    progress {\n",
       "        /* gets rid of default border in Firefox and Opera. */\n",
       "        border: none;\n",
       "        /* Needs to be in here for Safari polyfill so background images work as expected. */\n",
       "        background-size: auto;\n",
       "    }\n",
       "    progress:not([value]), progress:not([value])::-webkit-progress-bar {\n",
       "        background: repeating-linear-gradient(45deg, #7e7e7e, #7e7e7e 10px, #5c5c5c 10px, #5c5c5c 20px);\n",
       "    }\n",
       "    .progress-bar-interrupted, .progress-bar-interrupted::-webkit-progress-bar {\n",
       "        background: #F44336;\n",
       "    }\n",
       "</style>\n"
      ],
      "text/plain": [
       "<IPython.core.display.HTML object>"
      ]
     },
     "metadata": {},
     "output_type": "display_data"
    },
    {
     "data": {
      "text/html": [
       "\n",
       "    <div>\n",
       "      <progress value='1600' class='' max='1600' style='width:300px; height:20px; vertical-align: middle;'></progress>\n",
       "      100.00% [1600/1600 04:06&lt;00:00 Sampling 4 chains, 0 divergences]\n",
       "    </div>\n",
       "    "
      ],
      "text/plain": [
       "<IPython.core.display.HTML object>"
      ]
     },
     "metadata": {},
     "output_type": "display_data"
    },
    {
     "name": "stderr",
     "output_type": "stream",
     "text": [
      "Sampling 4 chains for 200 tune and 200 draw iterations (800 + 800 draws total) took 247 seconds.\n",
      "The rhat statistic is larger than 1.01 for some parameters. This indicates problems during sampling. See https://arxiv.org/abs/1903.08008 for details\n",
      "The effective sample size per chain is smaller than 100 for some parameters.  A higher number is needed for reliable rhat and ess computation. See https://arxiv.org/abs/1903.08008 for details\n",
      "Sampling: [f, y_pred]\n"
     ]
    },
    {
     "data": {
      "text/html": [
       "\n",
       "<style>\n",
       "    /* Turns off some styling */\n",
       "    progress {\n",
       "        /* gets rid of default border in Firefox and Opera. */\n",
       "        border: none;\n",
       "        /* Needs to be in here for Safari polyfill so background images work as expected. */\n",
       "        background-size: auto;\n",
       "    }\n",
       "    progress:not([value]), progress:not([value])::-webkit-progress-bar {\n",
       "        background: repeating-linear-gradient(45deg, #7e7e7e, #7e7e7e 10px, #5c5c5c 10px, #5c5c5c 20px);\n",
       "    }\n",
       "    .progress-bar-interrupted, .progress-bar-interrupted::-webkit-progress-bar {\n",
       "        background: #F44336;\n",
       "    }\n",
       "</style>\n"
      ],
      "text/plain": [
       "<IPython.core.display.HTML object>"
      ]
     },
     "metadata": {},
     "output_type": "display_data"
    },
    {
     "data": {
      "text/html": [
       "\n",
       "    <div>\n",
       "      <progress value='800' class='' max='800' style='width:300px; height:20px; vertical-align: middle;'></progress>\n",
       "      100.00% [800/800 00:37&lt;00:00]\n",
       "    </div>\n",
       "    "
      ],
      "text/plain": [
       "<IPython.core.display.HTML object>"
      ]
     },
     "metadata": {},
     "output_type": "display_data"
    }
   ],
   "source": [
    "# Set experiment\n",
    "    # - each simulation parms is a new experiment\n",
    "\n",
    "try:\n",
    "    ml.create_experiment(name = \"test_sim\")\n",
    "except:\n",
    "    ml.set_experiment(\"test_sim\")\n",
    "\n",
    "# Simulation loop\n",
    "\n",
    "    # Creat run\n",
    "with ml.start_run(run_name=\"test1\") as run:\n",
    "    run_info = ml.active_run()\n",
    "    OUTPUTS = \"outputs\"\n",
    "    ALPHA = 3\n",
    "    LAMBDA = \"np.exp(2 + 0.3*(x_mat[:,0] + x_mat[:,1]))\"\n",
    "    N = 1000\n",
    "    T = 30\n",
    "    X_VARS = 2\n",
    "    CENS_SCALE = 60\n",
    "    # Simulate data\n",
    "    sv_mat, x_mat, lmbda, a, tlat, cens, t_event, status = ssf.sim_surv(\n",
    "                    N=N, \n",
    "                    T=T,\n",
    "                    x_vars=X_VARS,\n",
    "                    a = ALPHA,\n",
    "                    lambda_f = LAMBDA,\n",
    "                    cens_scale=CENS_SCALE,\n",
    "                    cens_ind = True,\n",
    "                    err_ind = False)\n",
    "\n",
    "    # log param alpha\n",
    "    ml.log_param(\"alpha\", ALPHA)\n",
    "    # log param labmda\n",
    "    ml.log_param(\"lambda\", LAMBDA)\n",
    "    # log param N\n",
    "    ml.log_param(\"N\", N)\n",
    "    # log param T (# timepoint probabilites generated)\n",
    "    ml.log_param(\"T\", T)\n",
    "    # log param X_VARS\n",
    "    ml.log_param(\"X_VARS\", X_VARS)\n",
    "    # log parm CENS_SCALE\n",
    "    ml.log_param(\"CENS_SCALE\", CENS_SCALE)\n",
    "    \n",
    "    \n",
    "    # log param x_info\n",
    "    x_out, x_idx, x_cnt = ssf.get_x_info(x_mat)\n",
    "    ml.log_param(\"X_INFO\", str(list(zip(x_out, x_cnt))))\n",
    "\n",
    "    # log metric cen percent calculated\n",
    "    # log metric status event calculated\n",
    "    event_calc, cens_calc = ssf.get_status_perc(status)\n",
    "    ml.log_metric(\"EVENT_PERC\", event_calc)\n",
    "    ml.log_metric(\"CENS_PERC\", cens_calc)\n",
    "\n",
    "    # log metric t_event mean\n",
    "    # log metric t_event max\n",
    "    t_mean, t_max = ssf.get_event_time_metric(t_event)\n",
    "    ml.log_metric(\"T_EVENT_MEAN\", t_mean)\n",
    "    ml.log_metric(\"T_EVENT_MAX\", t_max)\n",
    "    \n",
    "    # log artif train dataset\n",
    "    train = ssf.get_train_matrix(x_mat, t_event, status)\n",
    "    train.to_csv(\"outputs/train.csv\")\n",
    "    ml.log_artifact(\"outputs/train.csv\")\n",
    "    \n",
    "    # log artif plot curves\n",
    "    title = \"actual_survival\"\n",
    "    ssf.plot_sv(x_mat, sv_mat, T, title=title, save = True, dir=OUTPUTS)\n",
    "    ml.log_artifact(f\"{OUTPUTS}/{title}.png\")\n",
    "    \n",
    "\n",
    "    # get sklearn components\n",
    "    y_sk = ssf.get_y_sklearn(status, t_event)\n",
    "    x_sk = train.iloc[:,2:]\n",
    "\n",
    "    ######################################################################################\n",
    "    # model cph\n",
    "    cph = sksurv.linear_model.CoxPHSurvivalAnalysis()\n",
    "    cph.fit(x_sk, y_sk)\n",
    "    # log metri coeff\n",
    "    for i in np.arange(len(cph.coef_)):\n",
    "        ml.log_metric(f\"cph_coef_{i}\", cph.coef_[i])\n",
    "        # log metri exp(coef)\n",
    "        ml.log_metric(f\"cph_exp_coef_{i}\", np.exp(cph.coef_[i]))\n",
    "    # predic cph\n",
    "    cph_surv = cph.predict_survival_function(pd.DataFrame(x_out))\n",
    "\n",
    "    # get plotable data\n",
    "    # cph_sv_val = [sf(np.arange(T)) for sf in cph_surv]\n",
    "    cph_sv_t = cph_surv[0].x\n",
    "    cph_sv_val = [sf(cph_sv_t) for sf in cph_surv]\n",
    "    cph_sv_t = np.concatenate([np.array([0]), cph_sv_t])\n",
    "    cph_sv_val = [np.concatenate([np.array([1]), sv]) for sv in cph_sv_val]\n",
    "\n",
    "    # log artif plot curves\n",
    "    title = \"cph_surv_pred\"\n",
    "    ssf.plot_sv(x_mat, cph_sv_val, t=cph_sv_t, title = title, save=True, dir=\"outputs\")\n",
    "    ml.log_artifact(f\"outputs/{title}.png\")\n",
    "    # log model cph\n",
    "    # idk how to do\n",
    "    \n",
    "    ###################################################################################\n",
    "    #  model rsf\n",
    "    rsf = sksurv.ensemble.RandomSurvivalForest(\n",
    "        n_estimators=1000, min_samples_split=100, min_samples_leaf=15, n_jobs=-1, random_state=20\n",
    "    )\n",
    "    rsf.fit(x_sk, y_sk)\n",
    "    # predict rsf\n",
    "    rsf_surv = rsf.predict_survival_function(pd.DataFrame(x_out))\n",
    "    # get plotable predictions\n",
    "    # rsf_sv_val = [sf(np.arange(T)) for sf in rsf_surv]\n",
    "    rsf_sv_t = rsf_surv[0].x\n",
    "    rsf_sv_val = [sf(rsf_sv_t) for sf in rsf_surv]\n",
    "    rsf_sv_t = np.concatenate([np.array([0]), rsf_sv_t])\n",
    "    rsf_sv_val = [np.concatenate([np.array([1]), sv]) for sv in rsf_sv_val]\n",
    "    # log artif plot curves\n",
    "    title = \"rsf_surv_pred\"\n",
    "    ssf.plot_sv(x_mat, rsf_sv_val, t=rsf_sv_t, title=title, save=True, dir=\"outputs\")\n",
    "    ml.log_artifact(f\"outputs/{title}.png\")\n",
    "    # log model resf\n",
    "\n",
    "    ################################################################################\n",
    "    # BART\n",
    "    M = 200 # number of trees\n",
    "    DRAWS = 200\n",
    "    TUNE = 200\n",
    "    CORES = 4\n",
    "    ml.log_param(\"n_tree\", M)\n",
    "    ml.log_param(\"draws\", DRAWS)\n",
    "    ml.log_param(\"tune\", TUNE)\n",
    "\n",
    "    # tranform data long-form\n",
    "    b_tr_t, b_tr_delta, b_tr_x = ssf.surv_pre_train2(x_sk, y_sk)\n",
    "    # b_te_t, b_te_x = surv_pre_test(x_sk, y_sk)\n",
    "    b_te_x = ssf.get_bart_test(x_out, np.unique(b_tr_t))\n",
    "    off = sp.norm.ppf(np.mean(b_tr_delta))\n",
    "    # model bart\n",
    "  \n",
    "    with pm.Model() as bart:\n",
    "        x_data = pm.MutableData(\"x\", b_tr_x)\n",
    "        f = pmb.BART(\"f\", X=x_data, Y=b_tr_delta, m=M)\n",
    "        z = pm.Deterministic(\"z\", f + off)\n",
    "        mu = pm.Deterministic(\"mu\", pm.math.invprobit(z))\n",
    "        y_pred = pm.Bernoulli(\"y_pred\", p=mu, observed=b_tr_delta, shape=x_data.shape[0])\n",
    "        bdata = pm.sample(random_seed=2, draws=200, tune = 200, cores=4)\n",
    "\n",
    "    with bart:\n",
    "    # pm.set_data({\"x\":pd.DataFrame(test_x), \"off\":off_test})\n",
    "        pm.set_data({\"x\":pd.DataFrame(b_te_x)})\n",
    "        pp = pm.sample_posterior_predictive(bdata, var_names = [\"y_pred\", \"f\", \"z\", \"mu\"])\n",
    "    \n",
    "    # transform to survival\n",
    "    bart_sv_fx = ssf.get_sv_fx(pp, x_out)\n",
    "    # bart_svt\n",
    "    bart_sv_t = np.unique(b_tr_t)\n",
    "\n",
    "    # add a time 0 with prob 1 \n",
    "    bart_sv_t = np.concatenate([np.array([0]), bart_sv_t])\n",
    "    bart_sv_val = [np.concatenate([np.array([1]), sv]) for sv in bart_sv_fx]\n",
    "    \n",
    "    # log artif plot curves\n",
    "    title = \"bart_surv_pred\"\n",
    "    ssf.plot_sv(x_mat, bart_sv_val, t=bart_sv_t, title=title, save=True, dir=\"outputs\")\n",
    "    ml.log_artifact(f\"outputs/{title}.png\")\n",
    "    # log model bart /idk how to do\n",
    "\n",
    "    # get metrics rmse, bias\n",
    "    rsf_rmse, rsf_bias, t_quant = ssf.get_metrics( f_t = rsf_sv_val, f = sv_mat[x_idx], T = rsf_sv_t[rsf_sv_t <T])\n",
    "\n",
    "    cph_rmse, cph_bias, t_quant = ssf.get_metrics( f_t = cph_sv_val, f = sv_mat[x_idx], T = cph_sv_t[cph_sv_t < T])\n",
    "\n",
    "    bart_rmse, bart_bias, t_quant = ssf.get_metrics(f_t = bart_sv_val, f = sv_mat[x_idx], T = bart_sv_t[bart_sv_t < T])\n",
    "\n",
    "    # log metri cph_rmse\n",
    "    # log metri cph_bias\n",
    "    # log metri rsf_rmse\n",
    "    # log metri rsf_bias\n",
    "    # log metri bart_rmse\n",
    "    # log metri bart_bias\n",
    "    for i in np.arange(rsf_rmse.shape[1]):\n",
    "        ml.log_metric(f\"rmse_rsf_{i}\", rsf_rmse[0,i])\n",
    "        ml.log_metric(f\"rmse_cph_{i}\", cph_rmse[0,i])\n",
    "        ml.log_metric(f\"rmse_bart_{i}\", bart_rmse[0,i])\n",
    "        ml.log_metric(f\"bias_rsf_{i}\", rsf_bias[0,i])\n",
    "        ml.log_metric(f\"bias_cph_{i}\", cph_bias[0,i])\n",
    "        ml.log_metric(f\"bias_bart_{i}\", bart_bias[0,i])\n",
    "\n",
    "    title=\"RMSE\"\n",
    "    ssf.plot_metrics(t_quant, T, rsf_rmse[0], cph_rmse[0], bart_rmse[0], title, \"outputs\")\n",
    "    ml.log_artifact(f\"outputs/{title}.png\")\n",
    "    title=\"BIAS\"\n",
    "    ssf.plot_metrics(t_quant, T, rsf_bias[0], cph_bias[0], bart_bias[0], \"BIAS\", \"outputs\")\n",
    "    ml.log_artifact(f\"outputs/{title}.png\")\n",
    "\n",
    "\n",
    "# End run (defaults when using with/ block)\n",
    "\n"
   ]
  },
  {
   "cell_type": "code",
   "execution_count": 33,
   "metadata": {},
   "outputs": [],
   "source": [
    "with ml.start_run(run_name = \"test3\"):\n",
    "    mlr = ml.active_run()"
   ]
  },
  {
   "cell_type": "code",
   "execution_count": 37,
   "metadata": {},
   "outputs": [],
   "source": [
    "# run_info.info\n",
    "ml.end_run()"
   ]
  },
  {
   "cell_type": "code",
   "execution_count": 38,
   "metadata": {},
   "outputs": [
    {
     "data": {
      "text/plain": [
       "<RunInfo: artifact_uri='file:///home/twj8/pymc_bart/mlruns/950838037347002748/0ad35deb0cf949508d5bdeae000de858/artifacts', end_time=None, experiment_id='950838037347002748', lifecycle_stage='active', run_id='0ad35deb0cf949508d5bdeae000de858', run_name='test1', run_uuid='0ad35deb0cf949508d5bdeae000de858', start_time=1690925338428, status='RUNNING', user_id='twj8'>"
      ]
     },
     "execution_count": 38,
     "metadata": {},
     "output_type": "execute_result"
    }
   ],
   "source": [
    "run_info.info"
   ]
  }
 ],
 "metadata": {
  "kernelspec": {
   "display_name": "Python 3.10.6 64-bit",
   "language": "python",
   "name": "python3"
  },
  "language_info": {
   "codemirror_mode": {
    "name": "ipython",
    "version": 3
   },
   "file_extension": ".py",
   "mimetype": "text/x-python",
   "name": "python",
   "nbconvert_exporter": "python",
   "pygments_lexer": "ipython3",
   "version": "3.10.6"
  },
  "orig_nbformat": 4,
  "vscode": {
   "interpreter": {
    "hash": "916dbcbb3f70747c44a77c7bcd40155683ae19c65e1c03b4aa3499c5328201f1"
   }
  }
 },
 "nbformat": 4,
 "nbformat_minor": 2
}

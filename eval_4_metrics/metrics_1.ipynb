{
 "cells": [
  {
   "cell_type": "code",
   "execution_count": 2,
   "metadata": {},
   "outputs": [],
   "source": [
    "import sksurv as sks\n",
    "import sksurv.preprocessing\n",
    "import sksurv.metrics\n",
    "import sksurv.datasets\n",
    "import sksurv.linear_model\n",
    "import sksurv.ensemble\n",
    "\n",
    "from pathlib import Path\n",
    "import arviz as az\n",
    "import matplotlib.pyplot as plt\n",
    "import numpy as np\n",
    "import pandas as pd\n",
    "import numpy as np\n",
    "import sklearn as skl\n",
    "import scipy.stats as sp\n",
    "\n",
    "import pymc as pm\n",
    "import pymc_bart as pmb\n",
    "import pandas as pd\n",
    "\n",
    "import importlib\n",
    "import mlflow as ml\n",
    "import simsurv_func as ssf\n",
    "import subprocess\n",
    "import lifelines\n",
    "import pytensor.tensor as tt\n",
    "import subprocess"
   ]
  },
  {
   "cell_type": "code",
   "execution_count": 6,
   "metadata": {},
   "outputs": [
    {
     "data": {
      "image/png": "[encoded data removed]",
      "text/plain": [
       "<Figure size 640x480 with 1 Axes>"
      ]
     },
     "metadata": {},
     "output_type": "display_data"
    },
    {
     "name": "stdout",
     "output_type": "stream",
     "text": [
      "cens_calc: 0.0     \n",
      "t_mean: 3.29     \n",
      "t_max: 12.0\n",
      "hazard rate 1 [11.9346  23.8692  35.80379]\n",
      "hazard rate 0 [0.21859 0.43718 0.65577]\n",
      "HR t-series = [54.59810604 54.59810604 54.59809079]\n"
     ]
    },
    {
     "name": "stderr",
     "output_type": "stream",
     "text": [
      "/tmp/ipykernel_283/2047446694.py:40: RuntimeWarning: invalid value encountered in divide\n",
      "  HR_unique = hz_unique[1]/hz_unique[0]\n"
     ]
    }
   ],
   "source": [
    "OUTPUTS = \"outputs\"\n",
    "ALPHA = 2\n",
    "LAMBDA = \"np.exp(-1.8 + 2*x_mat[:,0])\"\n",
    "N = 100\n",
    "# T = 30\n",
    "X_VARS = 1\n",
    "CENS_SCALE = 5# 40\n",
    "CENS_IND = False\n",
    "\n",
    "sv_mat, hz_mat, x_mat, lmbda, a, cens, t_event, status, T = ssf.sim_surv2(\n",
    "                N=N, \n",
    "                x_vars=X_VARS,\n",
    "                a = ALPHA,\n",
    "                lambda_f = LAMBDA,\n",
    "                cens_scale=CENS_SCALE,\n",
    "                cens_ind = CENS_IND,\n",
    "                err_ind = False)\n",
    "\n",
    "\n",
    "# Get information of X vars\n",
    "x_out, x_idx, x_cnt = ssf.get_x_info(x_mat)\n",
    "# calculate censored components\n",
    "event_calc, cens_calc = ssf.get_status_perc(status) \n",
    "# Get the t mean and max\n",
    "t_mean, t_max = ssf.get_event_time_metric(t_event)\n",
    "# Get the training matrix\n",
    "train = ssf.get_train_matrix(x_mat, t_event, status)\n",
    "title = \"actual_survival\"\n",
    "ssf.plot_sv(x_mat, sv_mat, T, title=title, save = False, show=True, dir=OUTPUTS)\n",
    "\n",
    "print(f\"cens_calc: {cens_calc} \\\n",
    "    \\nt_mean: {t_mean} \\\n",
    "    \\nt_max: {t_max}\")\n",
    "\n",
    "# get unique x_mat\n",
    "x_unique = np.unique(x_mat, return_index=True)\n",
    "sv_unique = sv_mat[x_unique[1],:]\n",
    "hz_unique = np.round(hz_mat[x_unique[1],:],5) \n",
    "\n",
    "HR_unique = hz_unique[1]/hz_unique[0]\n",
    "# HR_times = np.arange(0,T,np.floor(T/4), dtype=\"int\")\n",
    "HR_times = np.array((np.ceil(T.shape[0]/4) * np.array([1,2,3])), dtype=\"int\")\n",
    "print(f\"hazard rate 1 {hz_unique[1][HR_times]}\")\n",
    "print(f\"hazard rate 0 {hz_unique[0][HR_times]}\")\n",
    "print(f\"HR t-series = {HR_unique[HR_times]}\")"
   ]
  },
  {
   "cell_type": "code",
   "execution_count": 7,
   "metadata": {},
   "outputs": [],
   "source": [
    "# BART\n",
    "M = 200 # number of trees\n",
    "DRAWS = 200\n",
    "TUNE = 200\n",
    "CORES = 4\n",
    "\n",
    "y_sk = ssf.get_y_sklearn(status, t_event)\n",
    "x_sk = train.iloc[:,2:]\n",
    "\n",
    "\n",
    "# tranform data long-form\n",
    "b_tr_t, b_tr_delta, b_tr_x = ssf.surv_pre_train2(x_sk, y_sk)\n",
    "# b_te_t, b_te_x = surv_pre_test(x_sk, y_sk)\n",
    "b_te_x = ssf.get_bart_test(x_out, np.unique(b_tr_t))\n",
    "off = sp.norm.ppf(np.mean(b_tr_delta))"
   ]
  },
  {
   "cell_type": "code",
   "execution_count": 8,
   "metadata": {},
   "outputs": [
    {
     "name": "stderr",
     "output_type": "stream",
     "text": [
      "Only 200 samples in chain.\n",
      "Multiprocess sampling (4 chains in 4 jobs)\n",
      "PGBART: [f]\n"
     ]
    },
    {
     "data": {
      "text/html": [
       "\n",
       "<style>\n",
       "    /* Turns off some styling */\n",
       "    progress {\n",
       "        /* gets rid of default border in Firefox and Opera. */\n",
       "        border: none;\n",
       "        /* Needs to be in here for Safari polyfill so background images work as expected. */\n",
       "        background-size: auto;\n",
       "    }\n",
       "    progress:not([value]), progress:not([value])::-webkit-progress-bar {\n",
       "        background: repeating-linear-gradient(45deg, #7e7e7e, #7e7e7e 10px, #5c5c5c 10px, #5c5c5c 20px);\n",
       "    }\n",
       "    .progress-bar-interrupted, .progress-bar-interrupted::-webkit-progress-bar {\n",
       "        background: #F44336;\n",
       "    }\n",
       "</style>\n"
      ],
      "text/plain": [
       "<IPython.core.display.HTML object>"
      ]
     },
     "metadata": {},
     "output_type": "display_data"
    },
    {
     "data": {
      "text/html": [
       "\n",
       "    <div>\n",
       "      <progress value='1600' class='' max='1600' style='width:300px; height:20px; vertical-align: middle;'></progress>\n",
       "      100.00% [1600/1600 00:45&lt;00:00 Sampling 4 chains, 0 divergences]\n",
       "    </div>\n",
       "    "
      ],
      "text/plain": [
       "<IPython.core.display.HTML object>"
      ]
     },
     "metadata": {},
     "output_type": "display_data"
    },
    {
     "name": "stderr",
     "output_type": "stream",
     "text": [
      "Sampling 4 chains for 200 tune and 200 draw iterations (800 + 800 draws total) took 46 seconds.\n",
      "/home/twj8/.local/lib/python3.10/site-packages/arviz/utils.py:184: NumbaDeprecationWarning: The 'nopython' keyword argument was not supplied to the 'numba.jit' decorator. The implicit default value for this argument is currently False, but it will be changed to True in Numba 0.59.0. See https://numba.readthedocs.io/en/stable/reference/deprecation.html#deprecation-of-object-mode-fall-back-behaviour-when-using-jit for details.\n",
      "  numba_fn = numba.jit(**self.kwargs)(self.function)\n",
      "The rhat statistic is larger than 1.01 for some parameters. This indicates problems during sampling. See https://arxiv.org/abs/1903.08008 for details\n",
      "The effective sample size per chain is smaller than 100 for some parameters.  A higher number is needed for reliable rhat and ess computation. See https://arxiv.org/abs/1903.08008 for details\n",
      "Sampling: [f, y_pred]\n"
     ]
    },
    {
     "data": {
      "text/html": [
       "\n",
       "<style>\n",
       "    /* Turns off some styling */\n",
       "    progress {\n",
       "        /* gets rid of default border in Firefox and Opera. */\n",
       "        border: none;\n",
       "        /* Needs to be in here for Safari polyfill so background images work as expected. */\n",
       "        background-size: auto;\n",
       "    }\n",
       "    progress:not([value]), progress:not([value])::-webkit-progress-bar {\n",
       "        background: repeating-linear-gradient(45deg, #7e7e7e, #7e7e7e 10px, #5c5c5c 10px, #5c5c5c 20px);\n",
       "    }\n",
       "    .progress-bar-interrupted, .progress-bar-interrupted::-webkit-progress-bar {\n",
       "        background: #F44336;\n",
       "    }\n",
       "</style>\n"
      ],
      "text/plain": [
       "<IPython.core.display.HTML object>"
      ]
     },
     "metadata": {},
     "output_type": "display_data"
    },
    {
     "data": {
      "text/html": [
       "\n",
       "    <div>\n",
       "      <progress value='800' class='' max='800' style='width:300px; height:20px; vertical-align: middle;'></progress>\n",
       "      100.00% [800/800 00:19&lt;00:00]\n",
       "    </div>\n",
       "    "
      ],
      "text/plain": [
       "<IPython.core.display.HTML object>"
      ]
     },
     "metadata": {},
     "output_type": "display_data"
    },
    {
     "data": {
      "text/plain": [
       "<matplotlib.legend.Legend at 0x7fd2ac80ccd0>"
      ]
     },
     "execution_count": 8,
     "metadata": {},
     "output_type": "execute_result"
    },
    {
     "data": {
      "image/png": "[encoded data removed]",
      "text/plain": [
       "<Figure size 640x480 with 1 Axes>"
      ]
     },
     "metadata": {},
     "output_type": "display_data"
    }
   ],
   "source": [
    "with pm.Model() as bart:    \n",
    "    x_data = pm.MutableData(\"x\", b_tr_x)\n",
    "    f = pmb.BART(\"f\", X=x_data, Y=b_tr_delta, m=M, split_rules = [pmb.ContinuousSplitRule(), pmb.OneHotSplitRule()])\n",
    "    z = pm.Deterministic(\"z\", f + off)\n",
    "    mu = pm.Deterministic(\"mu\", pm.math.invprobit(z))\n",
    "    y_pred = pm.Bernoulli(\"y_pred\", p=mu, observed=b_tr_delta, shape=x_data.shape[0])\n",
    "    bdata = pm.sample(random_seed=2, draws=200, tune = 200, cores=4)\n",
    "\n",
    "with bart:\n",
    "    pm.set_data({\"x\":pd.DataFrame(b_te_x)}, coords= {\"obs\":np.arange(0,b_te_x.shape[0],1)})\n",
    "    pp = pm.sample_posterior_predictive(bdata, var_names = [\"y_pred\", \"f\", \"z\", \"mu\"])\n",
    "\n",
    "# transform to survival\n",
    "bart_sv_fx = ssf.get_sv_fx(pp, x_out)\n",
    "# bart_svt\n",
    "bart_sv_t = np.unique(b_tr_t)\n",
    "\n",
    "# add a time 0 with prob 1 \n",
    "bart_sv_t = np.concatenate([np.array([0]), bart_sv_t])\n",
    "bart_sv_val = [np.concatenate([np.array([1]), sv]) for sv in bart_sv_fx]\n",
    "\n",
    "\n",
    "plt.plot(T, sv_unique[0], color= \"lightblue\", label=\"true 0\")\n",
    "plt.plot(T, sv_unique[1], color = \"blue\", label=\"true 1\")\n",
    "plt.plot(bart_sv_t, bart_sv_val[0], color = \"lightgreen\", label=\"bart 0\")\n",
    "plt.plot(bart_sv_t, bart_sv_val[1], color = \"green\", label=\"bart 1\")\n",
    "plt.legend()"
   ]
  },
  {
   "cell_type": "code",
   "execution_count": 9,
   "metadata": {},
   "outputs": [],
   "source": [
    "# det the posterior predictive on all obs, no counterfactuals\n",
    "post_pred = ssf.get_bart_test(x_mat,np.unique(b_tr_t))"
   ]
  },
  {
   "cell_type": "code",
   "execution_count": 10,
   "metadata": {},
   "outputs": [
    {
     "name": "stderr",
     "output_type": "stream",
     "text": [
      "Sampling: [f, y_pred]\n"
     ]
    },
    {
     "data": {
      "text/html": [
       "\n",
       "<style>\n",
       "    /* Turns off some styling */\n",
       "    progress {\n",
       "        /* gets rid of default border in Firefox and Opera. */\n",
       "        border: none;\n",
       "        /* Needs to be in here for Safari polyfill so background images work as expected. */\n",
       "        background-size: auto;\n",
       "    }\n",
       "    progress:not([value]), progress:not([value])::-webkit-progress-bar {\n",
       "        background: repeating-linear-gradient(45deg, #7e7e7e, #7e7e7e 10px, #5c5c5c 10px, #5c5c5c 20px);\n",
       "    }\n",
       "    .progress-bar-interrupted, .progress-bar-interrupted::-webkit-progress-bar {\n",
       "        background: #F44336;\n",
       "    }\n",
       "</style>\n"
      ],
      "text/plain": [
       "<IPython.core.display.HTML object>"
      ]
     },
     "metadata": {},
     "output_type": "display_data"
    },
    {
     "data": {
      "text/html": [
       "\n",
       "    <div>\n",
       "      <progress value='800' class='' max='800' style='width:300px; height:20px; vertical-align: middle;'></progress>\n",
       "      100.00% [800/800 00:17&lt;00:00]\n",
       "    </div>\n",
       "    "
      ],
      "text/plain": [
       "<IPython.core.display.HTML object>"
      ]
     },
     "metadata": {},
     "output_type": "display_data"
    }
   ],
   "source": [
    "# get the sv time predictions for metrics\n",
    "with bart:\n",
    "    pm.set_data({\"x\":pd.DataFrame(post_pred)}, coords= {\"obs\":np.arange(0,b_te_x.shape[0],1)})\n",
    "    pp_m = pm.sample_posterior_predictive(bdata, var_names = [\"y_pred\", \"f\", \"z\", \"mu\"])\n"
   ]
  },
  {
   "cell_type": "code",
   "execution_count": 11,
   "metadata": {},
   "outputs": [],
   "source": [
    "# pp_m\n",
    "# transform to survival\n",
    "bart_sv_fx_m = ssf.get_sv_fx(pp_m, x_mat)\n",
    "bart_sv_t_m = np.unique(b_tr_t)"
   ]
  },
  {
   "cell_type": "code",
   "execution_count": 12,
   "metadata": {},
   "outputs": [],
   "source": [
    "TRAIN_CSV = \"tmp_input.csv\"\n",
    "RBART_CSV = \"tmp_output.csv\""
   ]
  },
  {
   "cell_type": "code",
   "execution_count": 41,
   "metadata": {},
   "outputs": [],
   "source": [
    "# write csv\n",
    "train.to_csv(TRAIN_CSV)"
   ]
  },
  {
   "cell_type": "code",
   "execution_count": 42,
   "metadata": {},
   "outputs": [
    {
     "name": "stderr",
     "output_type": "stream",
     "text": [
      "Loading required package: nlme\n",
      "Loading required package: nnet\n",
      "Loading required package: survival\n"
     ]
    },
    {
     "name": "stdout",
     "output_type": "stream",
     "text": [
      "*****Calling gbart: type=2\n",
      "*****Data:\n",
      "data:n,p,np: 327, 2, 1100\n",
      "y1,yn: 0.000000, 1.000000\n",
      "x1,x[n*p]: 1.000000, 0.000000\n",
      "xp1,xp[np*p]: 1.000000, 0.000000\n",
      "*****Number of Trees: 50\n",
      "*****Number of Cut Points: 10 ... 1\n",
      "*****burn,nd,thin: 250,1250,10\n",
      "*****Prior:beta,alpha,tau,nu,lambda,offset: 2,0.95,0.212132,3,1,-0.507761\n",
      "*****Dirichlet:sparse,theta,omega,a,b,rho,augment: 0,0,1,0.5,1,2,0\n",
      "*****printevery: 100\n",
      "\n",
      "MCMC\n",
      "done 0 (out of 1500)\n",
      "done 100 (out of 1500)\n",
      "done 200 (out of 1500)\n",
      "done 300 (out of 1500)\n",
      "done 400 (out of 1500)\n",
      "done 500 (out of 1500)\n",
      "done 600 (out of 1500)\n",
      "done 700 (out of 1500)\n",
      "done 800 (out of 1500)\n",
      "done 900 (out of 1500)\n",
      "done 1000 (out of 1500)\n",
      "done 1100 (out of 1500)\n",
      "done 1200 (out of 1500)\n",
      "done 1300 (out of 1500)\n",
      "done 1400 (out of 1500)\n",
      "time: 2s\n",
      "trcnt,tecnt: 125,125\n",
      "*****In main of C++ for bart prediction\n",
      "tc (threadcount): 8\n",
      "number of bart draws: 1000\n",
      "number of trees in bart sum: 50\n",
      "number of x columns: 2\n",
      "from x,np,p: 2, 22\n",
      "***using parallel code\n"
     ]
    },
    {
     "data": {
      "text/plain": [
       "0"
      ]
     },
     "execution_count": 42,
     "metadata": {},
     "output_type": "execute_result"
    }
   ],
   "source": [
    "p1 = subprocess.Popen([\n",
    "        \"Rscript\",\n",
    "        \"metrics_1_run.r\",\n",
    "        TRAIN_CSV,\n",
    "        RBART_CSV\n",
    "        ])\n",
    "p1.wait()"
   ]
  },
  {
   "cell_type": "code",
   "execution_count": 43,
   "metadata": {},
   "outputs": [],
   "source": [
    "rbart = pd.read_csv(RBART_CSV)"
   ]
  },
  {
   "cell_type": "code",
   "execution_count": 47,
   "metadata": {},
   "outputs": [],
   "source": [
    "tshape = np.unique(train[\"time\"]).shape[0]\n",
    "N = train.shape[0]\n",
    "rb_surv_val = rbart[\"surv\"].to_numpy().reshape((N,tshape))\n",
    "rb_prob_val = rbart[\"prob\"].to_numpy().reshape((N,tshape))\n",
    "rb_mat = rbart[\"x1\"][rbart[\"t\"] == 1].to_numpy()\n",
    "rb_time = train[\"time\"].to_numpy()\n",
    "rb_delta = train[\"status\"].to_numpy()"
   ]
  },
  {
   "cell_type": "markdown",
   "metadata": {},
   "source": [
    "C-INDEX"
   ]
  },
  {
   "cell_type": "code",
   "execution_count": 48,
   "metadata": {},
   "outputs": [],
   "source": [
    "from sksurv.metrics import (\n",
    "    concordance_index_censored,\n",
    "    concordance_index_ipcw,\n",
    "    cumulative_dynamic_auc,\n",
    "    integrated_brier_score,\n",
    ")"
   ]
  },
  {
   "cell_type": "code",
   "execution_count": 63,
   "metadata": {},
   "outputs": [],
   "source": [
    "def prep_sv_curv(sv):\n",
    "    sh1 = sv.shape[0]\n",
    "    add = np.repeat(1, sh1, axis=0).reshape(sh1, 1)\n",
    "    sv2 = np.hstack([add, sv])\n",
    "    return sv2\n",
    "\n",
    "def prep_uniq_times(times):\n",
    "    t = np.unique(times)\n",
    "    out = np.concatenate([[0],t])\n",
    "    return out\n",
    "\n",
    "def restr_mean_sv_t(sv, time, restr_t):\n",
    "    if restr_t not in time:\n",
    "        print(\"Restircted time not in set of unique times\")\n",
    "        return None\n",
    "    sh1 = sv.shape[0]\n",
    "    idx = np.where(time == restr_t)[0][0]\n",
    "    # print(idx)\n",
    "    time = time[0:idx]\n",
    "    sv = sv[:,0:idx]\n",
    "    out = np.trapz(sv, time, axis=1)\n",
    "\n",
    "    return out.reshape(sh1,)\n",
    "    "
   ]
  },
  {
   "cell_type": "code",
   "execution_count": 64,
   "metadata": {},
   "outputs": [],
   "source": [
    "rb_sv1 = prep_sv_curv(rb_surv_val)\n",
    "rb_t_unq = prep_uniq_times(rb_time)\n",
    "rb_rmsvt = restr_mean_sv_t(rb_sv1, rb_t_unq, 12)"
   ]
  },
  {
   "cell_type": "code",
   "execution_count": 123,
   "metadata": {},
   "outputs": [],
   "source": [
    "p_sv1 = prep_sv_curv(bart_sv_fx_m)\n",
    "p_t_unq = bart_sv_t\n",
    "p_rmsvt = restr_mean_sv_t(p_sv1, p_t_unq, 12)"
   ]
  },
  {
   "cell_type": "code",
   "execution_count": 124,
   "metadata": {},
   "outputs": [
    {
     "data": {
      "text/plain": [
       "(0.7900763358778626, 2325, 45, 1560, 0)"
      ]
     },
     "execution_count": 124,
     "metadata": {},
     "output_type": "execute_result"
    }
   ],
   "source": [
    "concordance_index_censored(\n",
    "    np.array(rb_delta, dtype=\"bool\"), \n",
    "    rb_time, \n",
    "    -rb_rmsvt\n",
    "    )"
   ]
  },
  {
   "cell_type": "code",
   "execution_count": 125,
   "metadata": {},
   "outputs": [
    {
     "data": {
      "text/plain": [
       "(0.7900763358778626, 2325, 45, 1560, 0)"
      ]
     },
     "execution_count": 125,
     "metadata": {},
     "output_type": "execute_result"
    }
   ],
   "source": [
    "prob1 = pp_m.posterior_predictive[\"mu\"].mean((\"draw\", \"chain\")).values.reshape(100,11)\n",
    "concordance_index_censored(\n",
    "    np.array(rb_delta, dtype=\"bool\"),\n",
    "    rb_time,\n",
    "    # -p_rmsvt\n",
    "    prob1[:,0]\n",
    ")"
   ]
  },
  {
   "cell_type": "markdown",
   "metadata": {},
   "source": [
    "Looks like the c-index is fine"
   ]
  },
  {
   "cell_type": "markdown",
   "metadata": {},
   "source": [
    "# time-auc"
   ]
  },
  {
   "cell_type": "code",
   "execution_count": 122,
   "metadata": {},
   "outputs": [
    {
     "data": {
      "text/plain": [
       "array([ 0.,  1.,  2.,  3.,  4.,  5.,  6.,  7.,  8.,  9., 10., 12.])"
      ]
     },
     "execution_count": 122,
     "metadata": {},
     "output_type": "execute_result"
    }
   ],
   "source": [
    "# prob1\n",
    "bart_sv_t"
   ]
  },
  {
   "cell_type": "code",
   "execution_count": 147,
   "metadata": {},
   "outputs": [
    {
     "data": {
      "text/plain": [
       "array([0.74142078, 0.84795514, 0.9248191 , 0.92185985, 0.94965446,\n",
       "       0.96437433, 0.95204839, 0.94731336, 0.94087335, 0.9716924 ,\n",
       "       0.9716924 ])"
      ]
     },
     "execution_count": 147,
     "metadata": {},
     "output_type": "execute_result"
    }
   ],
   "source": [
    "rb_prob_val[0]"
   ]
  },
  {
   "cell_type": "code",
   "execution_count": 151,
   "metadata": {},
   "outputs": [],
   "source": [
    "\n",
    "# y_sk \n",
    "# prob1\n",
    "# r\n",
    "p_cda = cumulative_dynamic_auc(survival_train=y_sk, survival_test=y_sk, estimate=prob1[:,1:], times=bart_sv_t[1:11])\n",
    "r_cda = cumulative_dynamic_auc(survival_train=y_sk, survival_test=y_sk, estimate=rb_prob_val[:,:10], times=bart_sv_t[1:11])\n",
    "# bart_sv_t[1:12]"
   ]
  },
  {
   "cell_type": "code",
   "execution_count": 162,
   "metadata": {},
   "outputs": [
    {
     "data": {
      "text/plain": [
       "[<matplotlib.lines.Line2D at 0x7fd27c446440>]"
      ]
     },
     "execution_count": 162,
     "metadata": {},
     "output_type": "execute_result"
    },
    {
     "data": {
      "image/png": "[encoded data removed]",
      "text/plain": [
       "<Figure size 640x480 with 1 Axes>"
      ]
     },
     "metadata": {},
     "output_type": "display_data"
    }
   ],
   "source": [
    "plt.plot(bart_sv_t[1:11], p_cda[0], marker=\"o\", alpha=0.2)\n",
    "plt.plot(bart_sv_t[1:11], r_cda[0], marker = \"o\", alpha=0.2)\n"
   ]
  },
  {
   "cell_type": "markdown",
   "metadata": {},
   "source": [
    "# Integrated Brier score"
   ]
  },
  {
   "cell_type": "code",
   "execution_count": 171,
   "metadata": {},
   "outputs": [
    {
     "name": "stdout",
     "output_type": "stream",
     "text": [
      "0.08670607784843094 0.0870573111240815\n"
     ]
    }
   ],
   "source": [
    "p_ibs = integrated_brier_score(y_sk, y_sk, bart_sv_fx_m[:, 1:], bart_sv_t[1:11])\n",
    "r_ibs = integrated_brier_score(y_sk, y_sk, rb_surv_val[:, 1:], bart_sv_t[1:11])\n",
    "print(p_ibs, r_ibs)\n",
    "# p_cda = cumulative_dynamic_auc(survival_train=y_sk, survival_test=y_sk, estimate=prob1[:,1:], times=bart_sv_t[1:11])"
   ]
  }
 ],
 "metadata": {
  "kernelspec": {
   "display_name": "Python 3.10.6 64-bit",
   "language": "python",
   "name": "python3"
  },
  "language_info": {
   "codemirror_mode": {
    "name": "ipython",
    "version": 3
   },
   "file_extension": ".py",
   "mimetype": "text/x-python",
   "name": "python",
   "nbconvert_exporter": "python",
   "pygments_lexer": "ipython3",
   "version": "3.10.6"
  },
  "orig_nbformat": 4,
  "vscode": {
   "interpreter": {
    "hash": "31f2aee4e71d21fbe5cf8b01ff0e069b9275f58929596ceb00d14d90e3e16cd6"
   }
  }
 },
 "nbformat": 4,
 "nbformat_minor": 2
}

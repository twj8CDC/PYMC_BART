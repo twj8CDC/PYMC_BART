{
 "cells": [
  {
   "cell_type": "code",
   "execution_count": null,
   "metadata": {},
   "outputs": [],
   "source": [
    "from numpy.random import default_rng\n",
    "rng = default_rng(2)\n",
    "\n",
    "RANDOM_SEED=2\n",
    "n_obs = 100\n",
    "true_beta = 1.5\n",
    "true_alpha = 0.25\n",
    "\n",
    "x = rng.normal(size=n_obs)\n",
    "true_p = 1 / (1 + np.exp(-(true_alpha + true_beta * x)))\n",
    "y = rng.binomial(n=1, p=true_p)\n",
    "\n",
    "with pm.Model() as logistic_model:\n",
    "    x_data = pm.MutableData(\"x\", x)\n",
    "    y_data = pm.ConstantData(\"y\", y)\n",
    "\n",
    "    alpha = pm.Normal(\"alpha\")\n",
    "    beta = pm.Normal(\"beta\")\n",
    "\n",
    "    p = pm.Deterministic(\"p\", pm.math.sigmoid(alpha + beta * x_data))\n",
    "\n",
    "    # Here is were we link the shapes of the inputs (x_data) and the observed varaiable\n",
    "    # It will be the shape we tell it, rather than the (constant!) shape of y_data\n",
    "    obs = pm.Bernoulli(\"obs\", p=p, observed=y_data, shape=x_data.shape[0])\n",
    "\n",
    "    # fit the model\n",
    "    idata = pm.sample(random_seed=RANDOM_SEED)\n",
    "\n",
    "    # Generate a counterfactual dataset using our model\n",
    "    idata = pm.sample_posterior_predictive(\n",
    "        idata, extend_inferencedata=True, random_seed=RANDOM_SEED\n",
    "    )\n",
    "\n",
    "    grid_size = 250\n",
    "x_grid = np.linspace(x.min(), x.max(), grid_size)\n",
    "\n",
    "\n",
    "with logistic_model:\n",
    "    # Switch out the observations and use `sample_posterior_predictive` to predict\n",
    "    # We do not need to set data for the outputs because we told the model to always link the shape of the output to the shape\n",
    "    # of the input.\n",
    "    pm.set_data({\"x\": x_grid})\n",
    "    post_idata = pm.sample_posterior_predictive(\n",
    "        idata, var_names=[\"p\", \"obs\"], random_seed=RANDOM_SEED\n",
    "    )"
   ]
  }
 ],
 "metadata": {
  "kernelspec": {
   "display_name": "Python 3.10.6 64-bit",
   "language": "python",
   "name": "python3"
  },
  "language_info": {
   "name": "python",
   "version": "3.10.6"
  },
  "orig_nbformat": 4,
  "vscode": {
   "interpreter": {
    "hash": "916dbcbb3f70747c44a77c7bcd40155683ae19c65e1c03b4aa3499c5328201f1"
   }
  }
 },
 "nbformat": 4,
 "nbformat_minor": 2
}

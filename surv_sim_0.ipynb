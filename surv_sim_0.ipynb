{
 "cells": [
  {
   "cell_type": "code",
   "execution_count": 0,
   "metadata": {
    "application/vnd.databricks.v1+cell": {
     "cellMetadata": {},
     "inputWidgets": {},
     "nuid": "0dcb8b16-c8ea-4e80-87c2-2452b1c76b03",
     "showTitle": false,
     "title": ""
    }
   },
   "outputs": [],
   "source": [
    "import sksurv as sks\n",
    "import sksurv.preprocessing\n",
    "import sksurv.metrics\n",
    "import sksurv.datasets\n",
    "import sksurv.ensemble\n",
    "import sksurv.linear_model\n",
    "\n",
    "from pathlib import Path\n",
    "import arviz as az\n",
    "import matplotlib.pyplot as plt\n",
    "import numpy as np\n",
    "import pandas as pd\n",
    "import pymc as pm\n",
    "import pymc_bart as pmb\n",
    "import pandas as pd\n",
    "import importlib\n",
    "import numpy as np\n",
    "import sklearn as skl\n",
    "import scipy.stats as sp\n",
    "import importlib\n",
    "\n",
    "plt.ioff()\n",
    "np.random.seed(99)"
   ]
  },
  {
   "cell_type": "markdown",
   "metadata": {
    "application/vnd.databricks.v1+cell": {
     "cellMetadata": {},
     "inputWidgets": {},
     "nuid": "67f8e872-c80a-489d-af11-1fcc9a59cf45",
     "showTitle": false,
     "title": ""
    }
   },
   "source": [
    "# Simulate Survival Function"
   ]
  },
  {
   "cell_type": "code",
   "execution_count": 0,
   "metadata": {
    "application/vnd.databricks.v1+cell": {
     "cellMetadata": {},
     "inputWidgets": {},
     "nuid": "79391e78-14bb-4deb-b6a5-6f13e07625d4",
     "showTitle": false,
     "title": ""
    }
   },
   "outputs": [],
   "source": [
    "# PH: 𝛼 = 2.0, 𝜆 = exp{3 + 0.1(x1 + x2 + x3 + x4 + x5 + x6) + x7}\n",
    "#S(t|𝛼, 𝜆) = e ^−(t∕𝜆)𝛼\n",
    "def sim_surv(N=100, \n",
    "            # T=100, \n",
    "            x_vars = 1, \n",
    "            lambda_f=None, \n",
    "            a=2, \n",
    "            alpha_f = None, \n",
    "            seed=999, \n",
    "            cens_ind = True,\n",
    "            cens_scale = 20,\n",
    "            err_ind = False):\n",
    "    # np.random.seed(seed)\n",
    "\n",
    "    x_mat = np.zeros((N, x_vars))\n",
    "    for x in np.arange(x_vars):\n",
    "        x1 = sp.bernoulli.rvs(.5, size = N)\n",
    "        x_mat[:,x] = x1\n",
    "    # calculate lambda\n",
    "    \n",
    "    # set lambda\n",
    "    if lambda_f is None:\n",
    "        lmbda = np.exp(2 + 0.3*(x_mat[:,0] + x_mat[:,1]) + x_mat[:,2])\n",
    "    else:\n",
    "        lmbda = eval(lambda_f)\n",
    "    \n",
    "    # set alpha if specified\n",
    "    if alpha_f is None:\n",
    "        a = np.repeat(a, N)\n",
    "    else:\n",
    "        a = eval(alpha_f)\n",
    "\n",
    "    # add error\n",
    "    if err_ind:\n",
    "        error = sp.norm.rvs(0, .5, size = N)\n",
    "        lmbda=lmbda + error\n",
    "\n",
    "    # get time series\n",
    "    # t = np.linspace(0,T, T)\n",
    "\n",
    "    # calculate survival and event times\n",
    "    # sv_mat = np.zeros((N, t.shape[0]))\n",
    "    # tlat = np.zeros(N)\n",
    "    # for idx, l in enumerate(lmbda):\n",
    "    #     sv = np.exp(-1 * np.power((t/l), a[idx]))\n",
    "    #     sv_mat[idx,:] = sv\n",
    "        \n",
    "    #     # generate event times \n",
    "    #     unif = np.random.uniform(size=1)\n",
    "    #     ev = lmbda[idx] * np.power((-1 * np.log(unif)), 1/a[idx])\n",
    "    #     tlat[idx] = ev\n",
    "    \n",
    "    # get the event times\n",
    "    tlat = np.zeros(N)\n",
    "    for idx, l in enumerate(lmbda):\n",
    "        # generate event times \n",
    "        unif = np.random.uniform(size=1)\n",
    "        ev = lmbda[idx] * np.power((-1 * np.log(unif)), 1/a[idx])\n",
    "        tlat[idx] = ev\n",
    "    \n",
    "\n",
    "\n",
    "    if cens_ind:\n",
    "        # censor\n",
    "        cens = np.ceil(np.random.exponential(size = N, scale = cens_scale))\n",
    "\n",
    "        # min cen and surv event\n",
    "        t_event  = np.minimum(cens, np.ceil(tlat))\n",
    "        status = (tlat <= cens) * 1\n",
    "    else:\n",
    "        cens=np.zeros(N)\n",
    "        t_event = np.ceil(tlat)\n",
    "        status = np.ones(N)\n",
    "    \n",
    "    # new \n",
    "    # get max event time\n",
    "    T = int(t_event.max())\n",
    "    print(f\"max time is {T}\")\n",
    "\n",
    "    # get time series\n",
    "    t = np.linspace(0,T, T)\n",
    "\n",
    "    # get surv curve true\n",
    "    sv_mat = np.zeros((N, t.shape[0]))\n",
    "    for idx, l in enumerate(lmbda):\n",
    "        sv = np.exp(-1 * np.power((t/l), a[idx]))\n",
    "        sv_mat[idx,:] = sv\n",
    "        \n",
    "\n",
    "        \n",
    "\n",
    "    return sv_mat, x_mat, lmbda, a, tlat, cens, t_event, status, T\n",
    "\n",
    "# np.power()"
   ]
  },
  {
   "cell_type": "markdown",
   "metadata": {
    "application/vnd.databricks.v1+cell": {
     "cellMetadata": {},
     "inputWidgets": {},
     "nuid": "e0811ac7-0bc7-4410-bb99-ff3795ecf16f",
     "showTitle": false,
     "title": ""
    }
   },
   "source": [
    "# Get metrics and prep data"
   ]
  },
  {
   "cell_type": "code",
   "execution_count": 0,
   "metadata": {
    "application/vnd.databricks.v1+cell": {
     "cellMetadata": {},
     "inputWidgets": {},
     "nuid": "126df386-2103-49a9-8b7d-f5b27b356a7b",
     "showTitle": false,
     "title": ""
    }
   },
   "outputs": [],
   "source": [
    "def get_x_info(x_mat):\n",
    "    x = np.unique(x_mat, axis=0, return_index=True, return_counts=True)\n",
    "    x_out, x_idx, x_cnt = x[0], x[1], x[2]\n",
    "    return x_out, x_idx, x_cnt\n",
    "\n",
    "def get_status_perc(status):\n",
    "    out = status.sum()/status.shape[0]\n",
    "    cens = 1-out\n",
    "    return out, cens\n",
    "\n",
    "def get_event_time_metric(t_event):\n",
    "    t_mean = t_event.mean()\n",
    "    t_max = t_event.max()\n",
    "    return t_mean, t_max\n",
    "\n",
    "def get_train_matrix(x_mat, t_event, status):\n",
    "    et = pd.DataFrame({\"status\": status, \"time\":t_event})\n",
    "    train = pd.concat([et, pd.DataFrame(x_mat)],axis=1)\n",
    "    return train\n",
    "\n",
    "def get_y_sklearn(status, t_event):\n",
    "    y = np.array(list(zip(np.array(status, dtype=\"bool\"), t_event)), dtype=[(\"Status\",\"?\"),(\"Survival_in_days\", \"<f8\")])\n",
    "    return y"
   ]
  },
  {
   "cell_type": "markdown",
   "metadata": {
    "application/vnd.databricks.v1+cell": {
     "cellMetadata": {},
     "inputWidgets": {},
     "nuid": "d47b2ab0-3be1-4358-8399-d712806e8205",
     "showTitle": false,
     "title": ""
    }
   },
   "source": [
    "# Survival plot"
   ]
  },
  {
   "cell_type": "code",
   "execution_count": 0,
   "metadata": {
    "application/vnd.databricks.v1+cell": {
     "cellMetadata": {},
     "inputWidgets": {},
     "nuid": "09cbb17a-4fd7-458e-992c-1e2efe200b20",
     "showTitle": false,
     "title": ""
    }
   },
   "outputs": [],
   "source": [
    "def plot_sv(x_mat, sv_mat, t, title=\"TITLE\", save=False, dir=\".\", show=False):\n",
    "    dist_x, dist_idx = np.unique(x_mat, axis=0, return_index=True)\n",
    "    if type(t) == int:\n",
    "        print(\"here\")\n",
    "        tt = np.arange(t)\n",
    "    else:\n",
    "        tt = t\n",
    "\n",
    "    # print(tt)\n",
    "    try:\n",
    "        fig = plt.figure()\n",
    "        if len(sv_mat) != len(dist_idx):\n",
    "            for idx, i in enumerate(sv_mat[dist_idx]):\n",
    "                plt.plot(tt, i, label = str(dist_x[idx]))\n",
    "                plt.legend()\n",
    "                plt.title(title)\n",
    "        else:\n",
    "            for idx, i in enumerate(sv_mat):\n",
    "                # plt.step(i.x, i.y, label = str(dist_x[idx]))\n",
    "                plt.plot(tt, i, label = str(dist_x[idx]))\n",
    "                plt.legend()\n",
    "                plt.title(title)\n",
    "        if show:\n",
    "            plt.show()\n",
    "        if save:\n",
    "            plt.savefig(f\"{dir}/{title}.png\")\n",
    "    finally:\n",
    "        plt.close(fig)"
   ]
  },
  {
   "cell_type": "markdown",
   "metadata": {
    "application/vnd.databricks.v1+cell": {
     "cellMetadata": {},
     "inputWidgets": {},
     "nuid": "b3617d77-caa3-43d4-960b-13db35925a64",
     "showTitle": false,
     "title": ""
    }
   },
   "source": [
    "# Apply"
   ]
  },
  {
   "cell_type": "code",
   "execution_count": 0,
   "metadata": {
    "application/vnd.databricks.v1+cell": {
     "cellMetadata": {},
     "inputWidgets": {},
     "nuid": "1a282bf0-41f5-4742-9e5f-3b2c1fd8ab04",
     "showTitle": false,
     "title": ""
    }
   },
   "outputs": [],
   "source": [
    "# T = 50\n",
    "sv_mat, x_mat, lmbda, a, tlat, cens, t_event, status, T = sim_surv(\n",
    "                    N=1000, \n",
    "                    # T=T,\n",
    "                    x_vars=2,\n",
    "                    a = 2,\n",
    "                    alpha_f= \"1 + 2*x_mat[:,0]\",\n",
    "                    lambda_f = \"np.exp(2.3 + 0.5*(0.8 * x_mat[:,0] + 1.3 * x_mat[:,1]))\",\n",
    "                    cens_ind=False,\n",
    "                    cens_scale=40,\n",
    "                    err_ind = False)"
   ]
  },
  {
   "cell_type": "code",
   "execution_count": 0,
   "metadata": {
    "application/vnd.databricks.v1+cell": {
     "cellMetadata": {},
     "inputWidgets": {},
     "nuid": "be89b046-6e08-4c3e-bc82-6713b27f6656",
     "showTitle": false,
     "title": ""
    }
   },
   "outputs": [],
   "source": [
    "T"
   ]
  },
  {
   "cell_type": "code",
   "execution_count": 0,
   "metadata": {
    "application/vnd.databricks.v1+cell": {
     "cellMetadata": {},
     "inputWidgets": {},
     "nuid": "b89a0067-2f3e-431a-a02c-733d411e3d6f",
     "showTitle": false,
     "title": ""
    }
   },
   "outputs": [],
   "source": [
    "# check the outputs\n",
    "\n",
    "# print(lmbda)\n",
    "# print(a)\n",
    "# print(sv_mat)\n",
    "# print(tlat)\n",
    "# print(x_mat)\n",
    "# print(cens)\n",
    "# print(t_event)\n",
    "# print(status)"
   ]
  },
  {
   "cell_type": "code",
   "execution_count": 0,
   "metadata": {
    "application/vnd.databricks.v1+cell": {
     "cellMetadata": {},
     "inputWidgets": {},
     "nuid": "a351677e-e135-4066-af87-349ed5460bd1",
     "showTitle": false,
     "title": ""
    }
   },
   "outputs": [],
   "source": [
    "# apply\n",
    "x_out, x_idx, x_cnt = get_x_info(x_mat)\n",
    "t_mean, t_max = get_event_time_metric(t_event)\n",
    "train = get_train_matrix(x_mat, t_event, status)\n",
    "y = get_y_sklearn(status, t_event)\n",
    "perc = get_status_perc(status)"
   ]
  },
  {
   "cell_type": "code",
   "execution_count": 0,
   "metadata": {
    "application/vnd.databricks.v1+cell": {
     "cellMetadata": {},
     "inputWidgets": {},
     "nuid": "bceb233c-814a-4537-b16d-1b7f7c58bc45",
     "showTitle": false,
     "title": ""
    }
   },
   "outputs": [],
   "source": [
    "# print(x_out)\n",
    "# print(x_idx)\n",
    "# print(x_cnt)\n",
    "# y\n",
    "perc"
   ]
  },
  {
   "cell_type": "code",
   "execution_count": 0,
   "metadata": {
    "application/vnd.databricks.v1+cell": {
     "cellMetadata": {},
     "inputWidgets": {},
     "nuid": "5228ccf5-f593-46cc-b301-768c2d5d9fd7",
     "showTitle": false,
     "title": ""
    }
   },
   "outputs": [],
   "source": [
    "# plot survival true\n",
    "# - x_mat provides the x info \n",
    "# - sv_mat[x_idx] is the index for the unique sv of the differnt var combinations\n",
    "# - T is just the set time\n",
    "plot_sv(x_mat, sv_mat[x_idx], t=T, show=True)\n"
   ]
  },
  {
   "cell_type": "markdown",
   "metadata": {
    "application/vnd.databricks.v1+cell": {
     "cellMetadata": {},
     "inputWidgets": {},
     "nuid": "ca81d332-090d-4bb6-bdf7-5a5d28cf12ee",
     "showTitle": false,
     "title": ""
    }
   },
   "source": [
    "# CPH"
   ]
  },
  {
   "cell_type": "code",
   "execution_count": 0,
   "metadata": {
    "application/vnd.databricks.v1+cell": {
     "cellMetadata": {},
     "inputWidgets": {},
     "nuid": "b236893d-083e-4c34-b6a8-20442febf7e0",
     "showTitle": false,
     "title": ""
    }
   },
   "outputs": [],
   "source": [
    "cph = sks.linear_model.CoxPHSurvivalAnalysis()\n",
    "cph.fit(pd.DataFrame(x_mat), y)\n",
    "cph_surv = cph.predict_survival_function(pd.DataFrame(x_out))"
   ]
  },
  {
   "cell_type": "code",
   "execution_count": 0,
   "metadata": {
    "application/vnd.databricks.v1+cell": {
     "cellMetadata": {},
     "inputWidgets": {},
     "nuid": "2226f7c5-52bd-4191-9784-a7b7a0efb244",
     "showTitle": false,
     "title": ""
    }
   },
   "outputs": [],
   "source": [
    "# get time and probs\n",
    "cph_sv_t = cph_surv[0].x\n",
    "cph_sv_val = [sf(cph_sv_t) for sf in cph_surv]\n",
    "\n",
    "# add a time 0 with prob 1 \n",
    "cph_sv_t = np.concatenate([np.array([0]), cph_sv_t])\n",
    "cph_sv_val = [np.concatenate([np.array([1]), sv]) for sv in cph_sv_val]\n",
    "\n",
    "\n",
    "plot_sv(x_mat, cph_sv_val, t=cph_sv_t, show=True)"
   ]
  },
  {
   "cell_type": "markdown",
   "metadata": {
    "application/vnd.databricks.v1+cell": {
     "cellMetadata": {},
     "inputWidgets": {},
     "nuid": "8f091a1b-6f4a-4ab7-9b4b-830819a5f1ef",
     "showTitle": false,
     "title": ""
    }
   },
   "source": [
    "# RSF"
   ]
  },
  {
   "cell_type": "code",
   "execution_count": 0,
   "metadata": {
    "application/vnd.databricks.v1+cell": {
     "cellMetadata": {},
     "inputWidgets": {},
     "nuid": "f9a4e130-34e7-47bc-afdc-211eb859fe83",
     "showTitle": false,
     "title": ""
    }
   },
   "outputs": [],
   "source": [
    "rsf = sksurv.ensemble.RandomSurvivalForest(\n",
    "    n_estimators=1000, min_samples_split=100, min_samples_leaf=50, n_jobs=-1, random_state=20\n",
    ")\n",
    "rsf.fit(pd.DataFrame(x_mat), y)\n",
    "rsf_surv = rsf.predict_survival_function(pd.DataFrame(x_out))"
   ]
  },
  {
   "cell_type": "code",
   "execution_count": 0,
   "metadata": {
    "application/vnd.databricks.v1+cell": {
     "cellMetadata": {},
     "inputWidgets": {},
     "nuid": "36277f16-a150-4a23-aa8a-e0ece88ea860",
     "showTitle": false,
     "title": ""
    }
   },
   "outputs": [],
   "source": [
    "# adjust the prediction to include t0 w/ prob of 1\n",
    "rsf_sv_t = rsf_surv[0].x\n",
    "# rsf_sv_t = np.arange(rsf_surv[0].x.max())\n",
    "# get prediction vals\n",
    "rsf_sv_val = [sf(rsf_sv_t) for sf in rsf_surv]\n",
    "\n",
    "\n",
    "# rsf_sv_val = []\n",
    "# for sv in rsf_sv_val1:\n",
    "    # sv[0]=1\n",
    "    # rsf_sv_val.append(sv)\n",
    "\n",
    "# add a time 0 with prob 1 \n",
    "rsf_sv_t = np.concatenate([np.array([0]), rsf_sv_t])\n",
    "rsf_sv_val = [np.concatenate([np.array([1]), sv]) for sv in rsf_sv_val]\n",
    "\n",
    "# plot\n",
    "plot_sv(x_mat, rsf_sv_val, t = rsf_sv_t, show=True)"
   ]
  },
  {
   "cell_type": "markdown",
   "metadata": {
    "application/vnd.databricks.v1+cell": {
     "cellMetadata": {},
     "inputWidgets": {},
     "nuid": "9793264f-4ea4-4464-8d43-e2e99eeb2c3e",
     "showTitle": false,
     "title": ""
    }
   },
   "source": [
    "# BART"
   ]
  },
  {
   "cell_type": "code",
   "execution_count": 0,
   "metadata": {
    "application/vnd.databricks.v1+cell": {
     "cellMetadata": {},
     "inputWidgets": {},
     "nuid": "66c9ec21-2c05-4e19-8044-8a08ffeee0a4",
     "showTitle": false,
     "title": ""
    }
   },
   "outputs": [],
   "source": [
    "def surv_pre_train2(data_x_n, data_y, X_TIME=True):\n",
    "    # set up times\n",
    "    # t_sort = np.append([0], np.unique(data_y[\"Survival_in_days\"]))\n",
    "    t_sort = np.unique(data_y[\"Survival_in_days\"])\n",
    "    t_ind = np.arange(0,t_sort.shape[0])\n",
    "    t_dict = dict(zip(t_sort, t_ind))\n",
    "\n",
    "    # set up delta\n",
    "    delta = np.array(data_y[\"Status\"], dtype = \"int\")\n",
    "    \n",
    "    t_out = []\n",
    "    pat_x_out = []\n",
    "    delta_out = []\n",
    "    for idx, t in enumerate(data_y[\"Survival_in_days\"]):\n",
    "        # get the pat_time and use to get the array of times for the patient\n",
    "        p_t_ind = t_dict[t]\n",
    "        p_t_set = t_sort[0:p_t_ind+1]\n",
    "        t_out.append(p_t_set)\n",
    "        \n",
    "        size = p_t_set.shape[0]\n",
    "        # get patient array\n",
    "        pat_x = np.tile(data_x_n.iloc[idx].to_numpy(), (size, 1))\n",
    "        pat_x_out.append(pat_x)\n",
    "\n",
    "        # get delta\n",
    "        pat_delta = delta[idx]\n",
    "        delta_set = np.zeros(shape=size, dtype=int)\n",
    "        delta_set[-1] = pat_delta\n",
    "        delta_out.append(delta_set)\n",
    "    \n",
    "    \n",
    "    t_out, delta_out, pat_x_out = np.concatenate(t_out), np.concatenate(delta_out), np.concatenate(pat_x_out)\n",
    "    if X_TIME:\n",
    "        pat_x_out = np.array([np.concatenate([np.array([t_out[idx]]), i]) for idx, i in enumerate(pat_x_out)])\n",
    "    return t_out, delta_out, pat_x_out\n",
    "\n",
    "def get_bart_test(x_out, T):\n",
    "    s0 = x_out.shape[0]\n",
    "    s1 = x_out.shape[1]\n",
    "    # create time range\n",
    "    # d1 = np.arange(T+1)\n",
    "    d1 = T\n",
    "    # repeating time range\n",
    "    d2 = np.tile(d1,s0).reshape(d1.shape[0]*s0,1)\n",
    "    # repeat x_out and shape as long by nvar\n",
    "    d3 = np.tile(x_out, d1.shape[0]).reshape(s0*d1.shape[0], s1)\n",
    "    # holding matrix\n",
    "    d4 = np.matrix(np.zeros((d3.shape[0], d3.shape[1] + 1))) # always +1 because only adding on time col\n",
    "    # replace\n",
    "    d4[:,0] = d2\n",
    "    d4[:,1:(s1+1)] = d3\n",
    "    return d4\n",
    "\n",
    "# Did not make a difference to predict at all times\n",
    "def get_bart_test2(x_out, T):\n",
    "    s0 = x_out.shape[0]\n",
    "    s1 = x_out.shape[1]\n",
    "    # create time range\n",
    "    # d1 = np.arange(T+1)\n",
    "    # d1 = T\n",
    "    d1 = np.arange(1,T+1)\n",
    "    # repeating time range\n",
    "    d2 = np.tile(d1,s0).reshape(d1.shape[0]*s0,1)\n",
    "    # repeat x_out and shape as long by nvar\n",
    "    d3 = np.tile(x_out, d1.shape[0]).reshape(s0*d1.shape[0], s1)\n",
    "    # holding matrix\n",
    "    d4 = np.matrix(np.zeros((d3.shape[0], d3.shape[1] + 1))) # always +1 because only adding on time col\n",
    "    # replace\n",
    "    d4[:,0] = d2\n",
    "    d4[:,1:(s1+1)] = d3\n",
    "    return d4"
   ]
  },
  {
   "cell_type": "code",
   "execution_count": 0,
   "metadata": {
    "application/vnd.databricks.v1+cell": {
     "cellMetadata": {},
     "inputWidgets": {},
     "nuid": "f4fe206f-edb1-424c-a310-40b6a94d98c1",
     "showTitle": false,
     "title": ""
    }
   },
   "outputs": [],
   "source": [
    "# prep train data\n",
    "train_t, train_delta, train_x = surv_pre_train2(pd.DataFrame(x_mat), y)\n",
    "# offset required\n",
    "off = sp.norm.ppf(np.mean(train_delta))\n",
    "# prep test data\n",
    "test_x = get_bart_test(x_out, np.unique(train_t))\n",
    "test_x2 = get_bart_test2(x_out, T)"
   ]
  },
  {
   "cell_type": "code",
   "execution_count": 0,
   "metadata": {
    "application/vnd.databricks.v1+cell": {
     "cellMetadata": {},
     "inputWidgets": {},
     "nuid": "c91d4a7d-2ecb-4e71-8874-cbe1643eee09",
     "showTitle": false,
     "title": ""
    }
   },
   "outputs": [],
   "source": [
    "with pm.Model() as bart:\n",
    "    x_data = pm.MutableData(\"x\", train_x)\n",
    "    # off = pm.MutableData(\"off\", off2)\n",
    "    \n",
    "    # f = pmb.BART(\"f\", X = x_data, Y = train_d2, m=100)\n",
    "    # f = pmb.BART(\"f\", X = x_data, Y = train_delta, m=50, split_rules=[pmb.ContinuousSplitRule(), pmb.OneHotSplitRule(), pmb.OneHotSplitRule()])\n",
    "    f = pmb.BART(\"f\", X = x_data, Y = train_delta, m=100)\n",
    "    z = pm.Deterministic(\"z\", f + off)\n",
    "\n",
    "    mu = pm.Deterministic(\"mu\", pm.math.invprobit(z))\n",
    "    pm.Bernoulli(\"y_pred\", p=(mu), observed=train_delta, shape=x_data.shape[0])\n",
    "    bdata = pm.sample(random_seed=2, draws=200, tune = 200, cores=4)\n",
    "     "
   ]
  },
  {
   "cell_type": "code",
   "execution_count": 0,
   "metadata": {
    "application/vnd.databricks.v1+cell": {
     "cellMetadata": {},
     "inputWidgets": {},
     "nuid": "0383e2ed-79e2-4246-bfd2-ea25afd8ebe7",
     "showTitle": false,
     "title": ""
    }
   },
   "outputs": [],
   "source": [
    "with bart:\n",
    "    # pm.set_data({\"x\":pd.DataFrame(test_x), \"off\":off_test})\n",
    "    # pm.set_data({\"x\":pd.DataFrame(test_x2)})\n",
    "    pm.set_data({\"x\":pd.DataFrame(test_x)})\n",
    "    pp = pm.sample_posterior_predictive(bdata, var_names = [\"y_pred\", \"f\", \"z\", \"mu\"])"
   ]
  },
  {
   "cell_type": "code",
   "execution_count": 0,
   "metadata": {
    "application/vnd.databricks.v1+cell": {
     "cellMetadata": {},
     "inputWidgets": {},
     "nuid": "fb8849f7-41f3-42ba-b094-96d06aaec531",
     "showTitle": false,
     "title": ""
    }
   },
   "outputs": [],
   "source": [
    "pp"
   ]
  },
  {
   "cell_type": "code",
   "execution_count": 0,
   "metadata": {
    "application/vnd.databricks.v1+cell": {
     "cellMetadata": {},
     "inputWidgets": {},
     "nuid": "f42a84dc-a47d-4b02-90f0-d8c51772e5a9",
     "showTitle": false,
     "title": ""
    }
   },
   "outputs": [],
   "source": [
    "# get sv function\n",
    "def get_sv_fx(pp, x_out):\n",
    "    p0 = pp.posterior_predictive[\"mu\"].values.shape[0]\n",
    "    p1 = pp.posterior_predictive[\"mu\"].values.shape[1]\n",
    "    p2 = pp.posterior_predictive[\"mu\"].values.shape[2]\n",
    "    r0 = x_out.shape[0]\n",
    "    r1 = int(p2/r0)\n",
    "    pp_post = pp.posterior_predictive[\"mu\"].values.reshape(p0*p1, p2).mean(axis=0).reshape(r0, r1)\n",
    "    sv = (1-pp_post).cumprod(axis=1)\n",
    "    return sv"
   ]
  },
  {
   "cell_type": "code",
   "execution_count": 0,
   "metadata": {
    "application/vnd.databricks.v1+cell": {
     "cellMetadata": {},
     "inputWidgets": {},
     "nuid": "2882dec5-2f62-4433-b3f3-430d30f0bf3e",
     "showTitle": false,
     "title": ""
    }
   },
   "outputs": [],
   "source": [
    "bart_sv_fx = get_sv_fx(pp, x_out)"
   ]
  },
  {
   "cell_type": "code",
   "execution_count": 0,
   "metadata": {
    "application/vnd.databricks.v1+cell": {
     "cellMetadata": {},
     "inputWidgets": {},
     "nuid": "52801996-2493-44e1-bf5d-337497ec06a4",
     "showTitle": false,
     "title": ""
    }
   },
   "outputs": [],
   "source": [
    "bart_sv_fx"
   ]
  },
  {
   "cell_type": "code",
   "execution_count": 0,
   "metadata": {
    "application/vnd.databricks.v1+cell": {
     "cellMetadata": {},
     "inputWidgets": {},
     "nuid": "bf563ce5-9f5f-43ba-8427-4b18734cbf2c",
     "showTitle": false,
     "title": ""
    }
   },
   "outputs": [],
   "source": [
    "# bart_svt\n",
    "bart_sv_t = np.unique(train_t)\n",
    "# bart_sv_t = np.arange(1,T+1)\n",
    "\n",
    "# add a time 0 with prob 1 \n",
    "bart_sv_t = np.concatenate([np.array([0]), bart_sv_t])\n",
    "bart_sv_val = [np.concatenate([np.array([1]), sv]) for sv in bart_sv_fx]"
   ]
  },
  {
   "cell_type": "code",
   "execution_count": 0,
   "metadata": {
    "application/vnd.databricks.v1+cell": {
     "cellMetadata": {},
     "inputWidgets": {},
     "nuid": "90d19c48-abd7-4916-8046-8fbba3999541",
     "showTitle": false,
     "title": ""
    }
   },
   "outputs": [],
   "source": [
    "plot_sv(x_mat, bart_sv_val, t = bart_sv_t, show=True)"
   ]
  },
  {
   "cell_type": "markdown",
   "metadata": {
    "application/vnd.databricks.v1+cell": {
     "cellMetadata": {},
     "inputWidgets": {},
     "nuid": "d0f00779-d09d-4f3a-aa1f-76442c50fb5d",
     "showTitle": false,
     "title": ""
    }
   },
   "source": [
    "# Metrics"
   ]
  },
  {
   "cell_type": "code",
   "execution_count": 0,
   "metadata": {
    "application/vnd.databricks.v1+cell": {
     "cellMetadata": {},
     "inputWidgets": {},
     "nuid": "549ed534-1d60-41c7-a934-0ff9f8f9601b",
     "showTitle": false,
     "title": ""
    }
   },
   "outputs": [],
   "source": [
    "def get_metrics(f_t, f, T, quants = np.array([0.1, 0.25, 0.5, 0.75, 0.9])):\n",
    "    # t_quant = np.array(np.ceil(np.quantile(np.arange(T), quants)), dtype=\"int\")\n",
    "    # t_quant = np.array(np.ceil(np.quantile(T, quants)), dtype=\"int\")\n",
    "    q1 = int(np.ceil(T.shape[0]/4))\n",
    "    q2 = q1 * 2\n",
    "    q3 = q1 * 3\n",
    "    t_quant = [2,q1,q2,q3,-2]\n",
    "    \n",
    "    \n",
    "    t_out = T[t_quant]\n",
    "    # print(t_out)\n",
    "    # f_t = np.matrix(rsf_fx)[:,t_quant]\n",
    "    f_t = np.matrix(f_t)[:,t_quant]\n",
    "    f = np.matrix(f)[:, t_quant]\n",
    "    # f = np.matrix(sv_mat[dist_idx])[:, t_quant]\n",
    "\n",
    "    rmse = np.round(np.sqrt(np.mean(np.power(f_t - f, 2), axis=0)), 4)\n",
    "    bias = np.round(np.mean(f_t - f, axis = 0), 4)\n",
    "    \n",
    "    return rmse, bias, t_out"
   ]
  },
  {
   "cell_type": "code",
   "execution_count": 0,
   "metadata": {
    "application/vnd.databricks.v1+cell": {
     "cellMetadata": {},
     "inputWidgets": {},
     "nuid": "76455da5-ae68-4995-9bf2-61720c7368a5",
     "showTitle": false,
     "title": ""
    }
   },
   "outputs": [],
   "source": [
    "rsf_rmse, rsf_bias, t_quant = get_metrics( f_t = rsf_sv_val, f = sv_mat[x_idx], T = rsf_sv_t[rsf_sv_t <T])\n",
    "\n",
    "cph_rmse, cph_bias, t_quant = get_metrics( f_t = cph_sv_val, f = sv_mat[x_idx], T = cph_sv_t[cph_sv_t < T])\n",
    "\n",
    "bart_rmse, bart_bias, t_quant = get_metrics(f_t = bart_sv_val, f = sv_mat[x_idx], T = bart_sv_t[bart_sv_t < T])\n",
    "print(\"rsf\", rsf_rmse)\n",
    "print(\"rsf\", rsf_bias)\n",
    "print(\"cph\", cph_rmse)\n",
    "print(\"cph\", cph_bias)\n",
    "print(\"bart\", bart_rmse)\n",
    "print(\"bart\", bart_bias)"
   ]
  },
  {
   "cell_type": "code",
   "execution_count": 0,
   "metadata": {
    "application/vnd.databricks.v1+cell": {
     "cellMetadata": {},
     "inputWidgets": {},
     "nuid": "14fc7e20-2df1-41be-a67f-a9c00f93c1e0",
     "showTitle": false,
     "title": ""
    }
   },
   "outputs": [],
   "source": [
    "fig = plt.figure()\n",
    "plt.plot(t_quant, rsf_rmse[0], label=\"rsf\")\n",
    "plt.plot(t_quant, cph_rmse[0], label = \"cph\")\n",
    "plt.plot(t_quant, bart_rmse[0], label = \"bart\")\n",
    "plt.xticks(np.arange(0,T,4))\n",
    "plt.legend()\n",
    "plt.show()\n",
    "plt.close(fig)"
   ]
  },
  {
   "cell_type": "code",
   "execution_count": 0,
   "metadata": {
    "application/vnd.databricks.v1+cell": {
     "cellMetadata": {},
     "inputWidgets": {},
     "nuid": "70cf7b0a-ce1f-4ea6-b2ba-652a3aac1468",
     "showTitle": false,
     "title": ""
    }
   },
   "outputs": [],
   "source": [
    "fig = plt.figure()\n",
    "plt.plot(t_quant, rsf_bias[0], label=\"rsf\")\n",
    "plt.plot(t_quant, cph_bias[0], label = \"cph\")\n",
    "plt.plot(t_quant, bart_bias[0], label = \"bart\")\n",
    "plt.legend()\n",
    "plt.show()\n",
    "plt.close(fig)"
   ]
  },
  {
   "cell_type": "code",
   "execution_count": 0,
   "metadata": {
    "application/vnd.databricks.v1+cell": {
     "cellMetadata": {},
     "inputWidgets": {},
     "nuid": "069e2a6b-9805-456b-8e31-35b6cd4304ce",
     "showTitle": false,
     "title": ""
    }
   },
   "outputs": [],
   "source": [
    "train_x\n",
    "train_delta\n",
    "test_x\n",
    "x_mat\n",
    "y[\"Survival_in_days\"].max()"
   ]
  }
 ],
 "metadata": {
  "application/vnd.databricks.v1+notebook": {
   "dashboards": [],
   "language": "python",
   "notebookMetadata": {
    "pythonIndentUnit": 4
   },
   "notebookName": "surv_sim_0",
   "widgets": {}
  },
  "kernelspec": {
   "display_name": "Python 3.10.6 64-bit",
   "language": "python",
   "name": "python3"
  },
  "language_info": {
   "codemirror_mode": {
    "name": "ipython",
    "version": 3
   },
   "file_extension": ".py",
   "mimetype": "text/x-python",
   "name": "python",
   "nbconvert_exporter": "python",
   "pygments_lexer": "ipython3",
   "version": "3.10.6"
  },
  "orig_nbformat": 4,
  "vscode": {
   "interpreter": {
    "hash": "916dbcbb3f70747c44a77c7bcd40155683ae19c65e1c03b4aa3499c5328201f1"
   }
  }
 },
 "nbformat": 4,
 "nbformat_minor": 0
}

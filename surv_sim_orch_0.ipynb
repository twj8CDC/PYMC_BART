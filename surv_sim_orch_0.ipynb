{
 "cells": [
  {
   "cell_type": "markdown",
   "metadata": {
    "application/vnd.databricks.v1+cell": {
     "cellMetadata": {},
     "inputWidgets": {},
     "nuid": "82cd3f1b-2920-4b82-8922-30d8eb883b52",
     "showTitle": false,
     "title": ""
    }
   },
   "source": [
    "Creae the orchestration script for the different models to run"
   ]
  },
  {
   "cell_type": "code",
   "execution_count": null,
   "metadata": {
    "application/vnd.databricks.v1+cell": {
     "cellMetadata": {},
     "inputWidgets": {},
     "nuid": "3d4f6613-5489-4ab0-a3e3-326d259c522e",
     "showTitle": false,
     "title": ""
    }
   },
   "outputs": [],
   "source": [
    "# Proportional basic\n",
    "#C1\n",
    "# No Cens\n",
    "ALPHA = 3\n",
    "LAMBDA = \"np.exp(2 + 0.4*(x_mat[:,0] + x_mat[:,1]))\"\n",
    "CENS_IND = False\n",
    "X_VARS = 2\n",
    "\n",
    "#C2\n",
    "# Cens 20\n",
    "ALPHA = 3\n",
    "LAMBDA = \"np.exp(2 + 0.4*(x_mat[:,0] + x_mat[:,1]))\"\n",
    "X_VARS = 2\n",
    "CENS_IND = True\n",
    "CENS_SCALSE = 40\n",
    "\n",
    "#C3\n",
    "# Cens 80\n",
    "ALPHA = 3\n",
    "LAMBDA = \"np.exp(2 + 0.4*(x_mat[:,0] + x_mat[:,1]))\"\n",
    "X_VARS = 2\n",
    "CENS_IND = True\n",
    "CENS_SCALSE = 5\n",
    "\n",
    "\n",
    "\n",
    "# Proprotional complex\n",
    "# SKIPPPPPPPPPPPPPPPPPPPPPPPPPPPPPP\n",
    "# No Cens\n",
    "ALPHA = 2\n",
    "LAMBDA = \"np.exp(2 + .3*(x_mat[:,0] + x_mat[:,1] + x_mat[:,2] + 2* x_mat[:,3]))\"\n",
    "X_VARS = 4\n",
    "CENS_IND = False\n",
    "# Cens 20\n",
    "ALPHA = 2\n",
    "LAMBDA = \"np.exp(2 + .3*(x_mat[:,0] + x_mat[:,1] + x_mat[:,2] + 2* x_mat[:,3]))\"\n",
    "X_VARS = 4\n",
    "CENS_IND = True\n",
    "CENS_SCALE = 50\n",
    "# Cens 80\n",
    "ALPHA = 2\n",
    "LAMBDA = \"np.exp(2 + .3*(x_mat[:,0] + x_mat[:,1] + x_mat[:,2] + 2* x_mat[:,3]))\"\n",
    "X_VARS = 4\n",
    "CENS_IND = True\n",
    "CENS_SCALE = 7\n",
    "\n",
    "\n",
    "# Nonproportional\n",
    "# Basic\n",
    "# No Cens\n",
    "#C4\n",
    "ALPHA_F = \"1 + 2 * x_mat[:,0]\"\n",
    "LAMBDA = \"np.exp(2 + .4*(3 * x_mat[:,0] +  x_mat[:,1]))\"\n",
    "X_VARS = 2\n",
    "CENS_IND = False\n",
    "\n",
    "#C5\n",
    "# Cens 20\n",
    "ALPHA_F = \"1 + 2 * x_mat[:,0]\"\n",
    "LAMBDA = \"np.exp(2 + .4*(3 * x_mat[:,0] +  x_mat[:,1]))\"\n",
    "X_VARS = 2\n",
    "CENS_IND = True\n",
    "CENS_SCALE = 60\n",
    "\n",
    "#C6\n",
    "# Cens 80\n",
    "ALPHA_F = \"1 + 2 * x_mat[:,0]\"\n",
    "LAMBDA = \"np.exp(2 + .4*(3 * x_mat[:,0] +  x_mat[:,1]))\"\n",
    "X_VARS = 2\n",
    "CENS_IND = True\n",
    "CENS_SCALE = 5\n",
    "\n",
    "# Complex\n",
    "# No Cens\n",
    "#C7\n",
    "ALPHA_F = \"1 + (1.5 * x_mat[:,0]) + x_mat[:,1]\"\n",
    "LAMBDA = \"np.exp(2 + .2*(3 * x_mat[:,0] - 1.2*x_mat[:,1] + 2*x_mat[:,2]))\"\n",
    "X_VARS = 3\n",
    "CENS_IND = False\n",
    "\n",
    "{\n",
    "  \"alpha\": \"3\",\n",
    "  \"n\": \"300\",\n",
    "  \"x_vars\": \"3\",\n",
    "  \"lambda\": \"np.exp(2 + .2*(3 * x_mat[:,0] - 1.2*x_mat[:,1] + 2*x_mat[:,2]))\",\n",
    "  \"cens_ind\": \"False\",\n",
    "  \"run_name\": \"c6\",\n",
    "  \"alpha_f\": \"1 + (1.5 * x_mat[:,0]) + x_mat[:,1]\",\n",
    "  \"experiment_id\": \"3515860168460300\",\n",
    "  \"cens_scale\": \"5\"\n",
    "}\n",
    "\n",
    "# Cens 20\n",
    "#C8\n",
    "ALPHA_F = \"1 + (1.5 * x_mat[:,0]) + x_mat[:,1]\"\n",
    "LAMBDA = \"np.exp(2 + .2*(3 * x_mat[:,0] - 1.2*x_mat[:,1] + 2*x_mat[:,2]))\"\n",
    "X_VARS = 3\n",
    "CENS_IND = True\n",
    "CENS_SCALE = 40\n",
    "\n",
    "{\n",
    "  \"alpha\": \"3\",\n",
    "  \"n\": \"300\",\n",
    "  \"x_vars\": \"3\",\n",
    "  \"lambda\": \"np.exp(2 + .2*(3 * x_mat[:,0] - 1.2*x_mat[:,1] + 2*x_mat[:,2]))\",\n",
    "  \"cens_ind\": \"True\",\n",
    "  \"run_name\": \"c8\",\n",
    "  \"alpha_f\": \"1 + (1.5 * x_mat[:,0]) + x_mat[:,1]\",\n",
    "  \"experiment_id\": \"3515860168460300\",\n",
    "  \"cens_scale\": \"40\"\n",
    "}\n",
    "\n",
    "# Cens 80\n",
    "#C9\n",
    "ALPHA_F = \"1 + (1.5 * x_mat[:,0]) + x_mat[:,1]\"\n",
    "LAMBDA = \"np.exp(2 + .2*(3 * x_mat[:,0] - 1.2*x_mat[:,1] + 2*x_mat[:,2]))\"\n",
    "X_VARS = 3\n",
    "CENS_IND = True\n",
    "CENS_SCALE = 4\n",
    "\n",
    "{\n",
    "  \"alpha\": \"3\",\n",
    "  \"n\": \"300\",\n",
    "  \"x_vars\": \"3\",\n",
    "  \"lambda\": \"np.exp(2 + .2*(3 * x_mat[:,0] - 1.2*x_mat[:,1] + 2*x_mat[:,2]))\",\n",
    "  \"cens_ind\": \"True\",\n",
    "  \"run_name\": \"c9\",\n",
    "  \"alpha_f\": \"1 + (1.5 * x_mat[:,0]) + x_mat[:,1]\",\n",
    "  \"experiment_id\": \"3515860168460300\",\n",
    "  \"cens_scale\": \"4\"\n",
    "}\n",
    "\n",
    "\n",
    "# Non Linear Complex, Non proportional, Extra Vars\n",
    "#C10\n",
    "ALPHA = 2  \n",
    "ALPHA_F = \"1 + (1.5 * x_mat[:,0]) + x_mat[:,1]\"\n",
    "LAMBDA = \"np.exp(1 + .2*x_mat[:,0] + .3*x_mat[:,1] + 0.8*np.sin(x_mat[:,0] * x_mat[:,1]) + np.power((x_mat[:,2] - 0.5),2))\"\n",
    "TRAIN_CSV = \"outputs/train.csv\"\n",
    "RBART_CSV = \"outputs/rbart_surv.csv\"\n",
    "N = 100\n",
    "# T = 30\n",
    "X_VARS = 5 # with 2 extra vars\n",
    "CENS_IND = False\n",
    "\n",
    "{\n",
    "  \"alpha\": \"3\",\n",
    "  \"n\": \"1000\",\n",
    "  \"x_vars\": \"7\",\n",
    "  \"lambda\": \"np.exp(1 + .2*x_mat[:,0] + .3*x_mat[:,1] + 0.8*np.sin(x_mat[:,0] * x_mat[:,1]) + np.power((x_mat[:,2] - 0.5),2))\",\n",
    "  \"cens_ind\": \"False\",\n",
    "  \"run_name\": \"c10\",\n",
    "  \"alpha_f\": \"1 + (1.5 * x_mat[:,0]) + x_mat[:,1]\",\n",
    "  \"experiment_id\": \"3515860168460300\",\n",
    "  \"cens_scale\": \"5\"\n",
    "}"
   ]
  },
  {
   "cell_type": "code",
   "execution_count": 1,
   "metadata": {
    "application/vnd.databricks.v1+cell": {
     "cellMetadata": {},
     "inputWidgets": {},
     "nuid": "fb25fb43-9358-45a0-b242-57a2c5064467",
     "showTitle": false,
     "title": ""
    }
   },
   "outputs": [
    {
     "data": {
      "text/plain": [
       "1"
      ]
     },
     "execution_count": 1,
     "metadata": {},
     "output_type": "execute_result"
    }
   ],
   "source": [
    "x = 1\n",
    "x"
   ]
  }
 ],
 "metadata": {
  "application/vnd.databricks.v1+notebook": {
   "dashboards": [],
   "language": "python",
   "notebookMetadata": {},
   "notebookName": "surv_sim_orch_0",
   "widgets": {}
  },
  "kernelspec": {
   "display_name": "Python 3 (ipykernel)",
   "language": "python",
   "name": "python3"
  },
  "language_info": {
   "name": "python",
   "version": "3.10.6"
  },
  "orig_nbformat": 4,
  "vscode": {
   "interpreter": {
    "hash": "916dbcbb3f70747c44a77c7bcd40155683ae19c65e1c03b4aa3499c5328201f1"
   }
  }
 },
 "nbformat": 4,
 "nbformat_minor": 0
}

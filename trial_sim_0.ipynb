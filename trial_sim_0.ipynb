{
 "cells": [
  {
   "cell_type": "markdown",
   "metadata": {
    "application/vnd.databricks.v1+cell": {
     "cellMetadata": {},
     "inputWidgets": {},
     "nuid": "af69f344-c71a-450d-a726-14407b76c3af",
     "showTitle": false,
     "title": ""
    }
   },
   "source": [
    "Identify 2 proprotional, 2 non proportional and 2 complex models to test"
   ]
  },
  {
   "cell_type": "code",
   "execution_count": 0,
   "metadata": {
    "application/vnd.databricks.v1+cell": {
     "cellMetadata": {},
     "inputWidgets": {},
     "nuid": "36da335b-e484-47ea-aa9c-390b893fee8f",
     "showTitle": false,
     "title": ""
    }
   },
   "outputs": [],
   "source": [
    "import sksurv as sks\n",
    "import sksurv.preprocessing\n",
    "import sksurv.metrics\n",
    "import sksurv.datasets\n",
    "import sksurv.linear_model\n",
    "import sksurv.ensemble\n",
    "\n",
    "from pathlib import Path\n",
    "import arviz as az\n",
    "import matplotlib.pyplot as plt\n",
    "import numpy as np\n",
    "import pandas as pd\n",
    "import numpy as np\n",
    "import sklearn as skl\n",
    "import scipy.stats as sp\n",
    "\n",
    "import pymc as pm\n",
    "import pymc_bart as pmb\n",
    "import pandas as pd\n",
    "\n",
    "import importlib\n",
    "import mlflow as ml\n",
    "import simsurv_func as ssf\n",
    "import subprocess"
   ]
  },
  {
   "cell_type": "code",
   "execution_count": 0,
   "metadata": {
    "application/vnd.databricks.v1+cell": {
     "cellMetadata": {},
     "inputWidgets": {},
     "nuid": "1cab4ab4-a2ab-427a-8e37-fb253cf2fd23",
     "showTitle": false,
     "title": ""
    }
   },
   "outputs": [],
   "source": [
    "plt.ioff()\n",
    "np.random.seed(99)"
   ]
  },
  {
   "cell_type": "markdown",
   "metadata": {
    "application/vnd.databricks.v1+cell": {
     "cellMetadata": {},
     "inputWidgets": {},
     "nuid": "c5faac1c-06c6-49c4-b98e-d2b266b8a552",
     "showTitle": false,
     "title": ""
    }
   },
   "source": [
    "# Proprotional"
   ]
  },
  {
   "cell_type": "code",
   "execution_count": 0,
   "metadata": {
    "application/vnd.databricks.v1+cell": {
     "cellMetadata": {},
     "inputWidgets": {},
     "nuid": "9f6a7531-a06f-4e82-94f0-513e0c12bae9",
     "showTitle": false,
     "title": ""
    }
   },
   "outputs": [],
   "source": [
    "OUTPUTS = \"outputs\"\n",
    "ALPHA = 3\n",
    "LAMBDA = \"np.exp(2 + 0.4*(x_mat[:,0] + x_mat[:,1]))\"\n",
    "TRAIN_CSV = \"outputs/train.csv\"\n",
    "RBART_CSV = \"outputs/rbart_surv.csv\"\n",
    "N = 100\n",
    "# T = 30\n",
    "X_VARS = 2\n",
    "CENS_SCALE = 5 # 40\n",
    "CENS_IND = True\n",
    "\n",
    "sv_mat, x_mat, lmbda, a, tlat, cens, t_event, status, T = ssf.sim_surv(\n",
    "                N=N, \n",
    "                # T=T,\n",
    "                x_vars=X_VARS,\n",
    "                a = ALPHA,\n",
    "                lambda_f = LAMBDA,\n",
    "                cens_scale=CENS_SCALE,\n",
    "                cens_ind = True,\n",
    "                err_ind = False)\n",
    "\n",
    "\n",
    "x_out, x_idx, x_cnt = ssf.get_x_info(x_mat)\n",
    "event_calc, cens_calc = ssf.get_status_perc(status)\n",
    "t_mean, t_max = ssf.get_event_time_metric(t_event)\n",
    "train = ssf.get_train_matrix(x_mat, t_event, status)\n",
    "title = \"actual_survival\"\n",
    "ssf.plot_sv(x_mat, sv_mat, T, title=title, save = False, show=True, dir=OUTPUTS)\n",
    "\n",
    "print(f\"cens_calc: {cens_calc} \\\n",
    "    \\nt_mean: {t_mean} \\\n",
    "    \\nt_max: {t_max}\")\n"
   ]
  },
  {
   "cell_type": "code",
   "execution_count": 0,
   "metadata": {
    "application/vnd.databricks.v1+cell": {
     "cellMetadata": {},
     "inputWidgets": {},
     "nuid": "b6daf39b-d089-4839-9b68-cebf1015336a",
     "showTitle": false,
     "title": ""
    }
   },
   "outputs": [],
   "source": [
    "OUTPUTS = \"outputs\"\n",
    "ALPHA = 2\n",
    "LAMBDA = \"np.exp(2 + .3*(x_mat[:,0] + x_mat[:,1] + x_mat[:,2] + 2* x_mat[:,3]))\"\n",
    "TRAIN_CSV = \"outputs/train.csv\"\n",
    "RBART_CSV = \"outputs/rbart_surv.csv\"\n",
    "N = 100\n",
    "# T = 30\n",
    "X_VARS = 4\n",
    "CENS_SCALE = 7\n",
    "CENS_IND = True\n",
    "\n",
    "sv_mat, x_mat, lmbda, a, tlat, cens, t_event, status, T = ssf.sim_surv(\n",
    "                N=N, \n",
    "                # T=T,\n",
    "                x_vars=X_VARS,\n",
    "                a = ALPHA,\n",
    "                lambda_f = LAMBDA,\n",
    "                cens_scale=CENS_SCALE,\n",
    "                cens_ind = CENS_IND,\n",
    "                err_ind = False)\n",
    "\n",
    "\n",
    "x_out, x_idx, x_cnt = ssf.get_x_info(x_mat)\n",
    "event_calc, cens_calc = ssf.get_status_perc(status)\n",
    "t_mean, t_max = ssf.get_event_time_metric(t_event)\n",
    "train = ssf.get_train_matrix(x_mat, t_event, status)\n",
    "title = \"actual_survival\"\n",
    "ssf.plot_sv(x_mat, sv_mat, T, title=title, save = False, show=True, dir=OUTPUTS)\n",
    "\n",
    "print(f\"cens_calc: {cens_calc} \\\n",
    "    \\nt_mean: {t_mean} \\\n",
    "    \\nt_max: {t_max}\")"
   ]
  },
  {
   "cell_type": "markdown",
   "metadata": {
    "application/vnd.databricks.v1+cell": {
     "cellMetadata": {},
     "inputWidgets": {},
     "nuid": "85b8a146-a54f-4f89-9b31-202f8ab51712",
     "showTitle": false,
     "title": ""
    }
   },
   "source": [
    "# notes on alpha and lambda metrics\n",
    "## Alpha\n",
    "- alpha increase pulls the middle of each curve up and to the right.\n",
    "- low alpha means quick drop\n",
    "- high alpha means long wait for drop\n",
    "\n",
    "## Lambda\n",
    "- controls the rate of the curve\n",
    "- high alpha is a long c curv down\n",
    "- 3 components exp({base} + {cov_base_mult} ({coeff}*{cov})\n",
    "- cov_vase_mult     controls generally the covariate effect [0,1]\n",
    "- base              controls time out (bigger = longer)\n",
    "- coef              controls specific covariate effects\n",
    "- bigger lambda raises the curve"
   ]
  },
  {
   "cell_type": "markdown",
   "metadata": {
    "application/vnd.databricks.v1+cell": {
     "cellMetadata": {},
     "inputWidgets": {},
     "nuid": "4003cfb3-8eaa-49df-b37b-e07ef1bb1c04",
     "showTitle": false,
     "title": ""
    }
   },
   "source": [
    "# Non-proprtional"
   ]
  },
  {
   "cell_type": "code",
   "execution_count": 0,
   "metadata": {
    "application/vnd.databricks.v1+cell": {
     "cellMetadata": {},
     "inputWidgets": {},
     "nuid": "3ffc557a-550c-4578-9c35-5ba6c0c585b8",
     "showTitle": false,
     "title": ""
    }
   },
   "outputs": [],
   "source": [
    "OUTPUTS = \"outputs\"\n",
    "ALPHA = 2\n",
    "ALPHA_F = \"1 + 2 * x_mat[:,0]\"\n",
    "LAMBDA = \"np.exp(2 + .4*(3 * x_mat[:,0] +  x_mat[:,1]))\"\n",
    "TRAIN_CSV = \"outputs/train.csv\"\n",
    "RBART_CSV = \"outputs/rbart_surv.csv\"\n",
    "N = 100\n",
    "X_VARS = 2\n",
    "CENS_SCALE = 5\n",
    "CENS_IND = True\n",
    "\n",
    "sv_mat, x_mat, lmbda, a, tlat, cens, t_event, status, T = ssf.sim_surv(\n",
    "                N=N, \n",
    "                # T=T,\n",
    "                x_vars=X_VARS,\n",
    "                a = ALPHA,\n",
    "                alpha_f = ALPHA_F,\n",
    "                lambda_f = LAMBDA,\n",
    "                cens_scale=CENS_SCALE,\n",
    "                cens_ind = CENS_IND,\n",
    "                err_ind = False)\n",
    "\n",
    "\n",
    "x_out, x_idx, x_cnt = ssf.get_x_info(x_mat)\n",
    "event_calc, cens_calc = ssf.get_status_perc(status)\n",
    "t_mean, t_max = ssf.get_event_time_metric(t_event)\n",
    "train = ssf.get_train_matrix(x_mat, t_event, status)\n",
    "title = \"actual_survival\"\n",
    "ssf.plot_sv(x_mat, sv_mat, T, title=title, save = False, show=True, dir=OUTPUTS)\n",
    "\n",
    "print(f\"cens_calc: {cens_calc} \\\n",
    "    \\nt_mean: {t_mean} \\\n",
    "    \\nt_max: {t_max}\")"
   ]
  },
  {
   "cell_type": "code",
   "execution_count": 0,
   "metadata": {
    "application/vnd.databricks.v1+cell": {
     "cellMetadata": {},
     "inputWidgets": {},
     "nuid": "8f4f456d-4162-4e23-9dfe-221a12fbf81e",
     "showTitle": false,
     "title": ""
    }
   },
   "outputs": [],
   "source": [
    "OUTPUTS = \"outputs\"\n",
    "ALPHA = 2\n",
    "ALPHA_F = \"1 + (1.5 * x_mat[:,0]) + x_mat[:,1]\"\n",
    "# LAMBDA = \"np.exp(3 + 0.4*(x_mat[:,0] + 0.5*x_mat[:,1] + 1.2*x_mat[:,2] + 0.8*x_mat[:,3]))\"\n",
    "LAMBDA = \"np.exp(2 + .2*(3 * x_mat[:,0] - 1.2*x_mat[:,1] + 2*x_mat[:,2]))\"\n",
    "# LAMBDA = \"np.exp(2 + .4*(3 * x_mat[:,0] +  x_mat[:,1]))\"\n",
    "TRAIN_CSV = \"outputs/train.csv\"\n",
    "RBART_CSV = \"outputs/rbart_surv.csv\"\n",
    "N = 100\n",
    "# T = 30\n",
    "X_VARS = 3\n",
    "CENS_SCALE = 4\n",
    "CENS_IND = True\n",
    "\n",
    "sv_mat, x_mat, lmbda, a, tlat, cens, t_event, status, T = ssf.sim_surv(\n",
    "                N=N, \n",
    "                # T=T,\n",
    "                x_vars=X_VARS,\n",
    "                a = ALPHA,\n",
    "                alpha_f = ALPHA_F,\n",
    "                lambda_f = LAMBDA,\n",
    "                cens_scale=CENS_SCALE,\n",
    "                cens_ind = CENS_IND,\n",
    "                err_ind = False)\n",
    "\n",
    "\n",
    "x_out, x_idx, x_cnt = ssf.get_x_info(x_mat)\n",
    "event_calc, cens_calc = ssf.get_status_perc(status)\n",
    "t_mean, t_max = ssf.get_event_time_metric(t_event)\n",
    "train = ssf.get_train_matrix(x_mat, t_event, status)\n",
    "title = \"actual_survival\"\n",
    "ssf.plot_sv(x_mat, sv_mat, T, title=title, save = False, show=True, dir=OUTPUTS)\n",
    "\n",
    "print(f\"cens_calc: {cens_calc} \\\n",
    "    \\nt_mean: {t_mean} \\\n",
    "    \\nt_max: {t_max}\")"
   ]
  },
  {
   "cell_type": "code",
   "execution_count": 0,
   "metadata": {
    "application/vnd.databricks.v1+cell": {
     "cellMetadata": {},
     "inputWidgets": {},
     "nuid": "53287e62-e277-4c5f-aeb5-eb3974db76e1",
     "showTitle": false,
     "title": ""
    }
   },
   "outputs": [],
   "source": [
    "# Non Linear\n",
    "OUTPUTS = \"outputs\"\n",
    "ALPHA = 2\n",
    "ALPHA_F = \"1 + (1.5 * x_mat[:,0]) + x_mat[:,1]\"\n",
    "LAMBDA = \"np.exp(1 + .2*x_mat[:,0] + .3*x_mat[:,1] + 0.8*np.sin(x_mat[:,0] * x_mat[:,1]) + np.power((x_mat[:,2] - 0.5),2))\"\n",
    "TRAIN_CSV = \"outputs/train.csv\"\n",
    "RBART_CSV = \"outputs/rbart_surv.csv\"\n",
    "N = 100\n",
    "# T = 30\n",
    "X_VARS = 5\n",
    "CENS_SCALE = 5\n",
    "CENS_IND = False\n",
    "\n",
    "sv_mat, x_mat, lmbda, a, tlat, cens, t_event, status, T = ssf.sim_surv(\n",
    "                N=N, \n",
    "                # T=T,\n",
    "                x_vars=X_VARS,\n",
    "                a = ALPHA,\n",
    "                alpha_f = ALPHA_F,\n",
    "                lambda_f = LAMBDA,\n",
    "                cens_scale=CENS_SCALE,\n",
    "                cens_ind = CENS_IND,\n",
    "                err_ind = False)\n",
    "\n",
    "\n",
    "x_out, x_idx, x_cnt = ssf.get_x_info(x_mat)\n",
    "event_calc, cens_calc = ssf.get_status_perc(status)\n",
    "t_mean, t_max = ssf.get_event_time_metric(t_event)\n",
    "train = ssf.get_train_matrix(x_mat, t_event, status)\n",
    "title = \"actual_survival\"\n",
    "ssf.plot_sv(x_mat, sv_mat, T, title=title, save = False, show=True, dir=OUTPUTS)\n",
    "\n",
    "print(f\"cens_calc: {cens_calc} \\\n",
    "    \\nt_mean: {t_mean} \\\n",
    "    \\nt_max: {t_max}\")"
   ]
  },
  {
   "cell_type": "code",
   "execution_count": 0,
   "metadata": {
    "application/vnd.databricks.v1+cell": {
     "cellMetadata": {},
     "inputWidgets": {},
     "nuid": "8884dade-78a4-49b1-825f-fdebca719eff",
     "showTitle": false,
     "title": ""
    }
   },
   "outputs": [],
   "source": []
  }
 ],
 "metadata": {
  "application/vnd.databricks.v1+notebook": {
   "dashboards": [],
   "language": "python",
   "notebookMetadata": {},
   "notebookName": "trial_sim_0",
   "widgets": {}
  },
  "kernelspec": {
   "display_name": "Python 3.10.6 64-bit",
   "language": "python",
   "name": "python3"
  },
  "language_info": {
   "codemirror_mode": {
    "name": "ipython",
    "version": 3
   },
   "file_extension": ".py",
   "mimetype": "text/x-python",
   "name": "python",
   "nbconvert_exporter": "python",
   "pygments_lexer": "ipython3",
   "version": "3.10.6"
  },
  "orig_nbformat": 4,
  "vscode": {
   "interpreter": {
    "hash": "916dbcbb3f70747c44a77c7bcd40155683ae19c65e1c03b4aa3499c5328201f1"
   }
  }
 },
 "nbformat": 4,
 "nbformat_minor": 0
}

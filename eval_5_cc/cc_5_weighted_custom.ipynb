{
 "cells": [
  {
   "cell_type": "code",
   "execution_count": 2,
   "metadata": {},
   "outputs": [],
   "source": [
    "import sksurv as sks\n",
    "import sksurv.preprocessing\n",
    "import sksurv.metrics\n",
    "import sksurv.datasets\n",
    "import sksurv.linear_model\n",
    "import sksurv.ensemble\n",
    "\n",
    "from pathlib import Path\n",
    "import arviz as az\n",
    "import matplotlib.pyplot as plt\n",
    "import numpy as np\n",
    "import pandas as pd\n",
    "import numpy as np\n",
    "import sklearn as skl\n",
    "import scipy.stats as sp\n",
    "\n",
    "import pymc as pm\n",
    "import pymc_bart as pmb\n",
    "import pandas as pd\n",
    "\n",
    "import importlib\n",
    "\n",
    "import mlflow as ml\n",
    "import simsurv_func as ssf\n",
    "import subprocess\n",
    "import lifelines\n",
    "import pytensor.tensor as tt\n",
    "import subprocess\n",
    "\n",
    "import pytensor.tensor as pt"
   ]
  },
  {
   "cell_type": "markdown",
   "metadata": {},
   "source": [
    "# Case Cohort - Simple Bernoulli"
   ]
  },
  {
   "cell_type": "markdown",
   "metadata": {},
   "source": [
    "## DTST Generator"
   ]
  },
  {
   "cell_type": "code",
   "execution_count": 686,
   "metadata": {},
   "outputs": [],
   "source": [
    "np.random.seed(11)\n",
    "N = 2000\n",
    "x1 = np.concatenate([np.zeros(int(N*3/4)),np.ones(int(N*1/4))]) # 0,1 var (our condition)\n",
    "x2 = np.random.normal(0,1, N) # continuous var\n",
    "x = np.matrix([x1,x2]).T\n",
    "# when x1 = 1 and x2 increases, the risk increases\n",
    "z0 = -1 +2*x[:,0] + .5*x[:,1]\n",
    "z0 = z0.reshape(N,1)\n",
    "mu0 = sp.norm.cdf(z0).reshape(N,)\n",
    "\n",
    "# get y\n",
    "# y0 = np.random.binomial(1, p=mu0, size=N)\n",
    "y0 = sp.bernoulli.rvs(p=mu0, size=N)\n",
    "w = np.ones(N) # weights all 1\n",
    "\n",
    "full = np.concatenate(\n",
    "    [y0.reshape(y0.shape[0],1), \n",
    "    x,\n",
    "    z0.reshape(z0.shape[0],1),\n",
    "    mu0.reshape(mu0.shape[0],1)\n",
    "    ], axis=1)"
   ]
  },
  {
   "cell_type": "code",
   "execution_count": 687,
   "metadata": {},
   "outputs": [],
   "source": [
    "full = np.concatenate(\n",
    "    [y0.reshape(y0.shape[0],1), \n",
    "    x,\n",
    "    z0.reshape(z0.shape[0],1),\n",
    "    mu0.reshape(mu0.shape[0],1)\n",
    "    ], axis=1)"
   ]
  },
  {
   "cell_type": "markdown",
   "metadata": {},
   "source": [
    "## Full Run"
   ]
  },
  {
   "cell_type": "code",
   "execution_count": 688,
   "metadata": {},
   "outputs": [
    {
     "name": "stderr",
     "output_type": "stream",
     "text": [
      "Auto-assigning NUTS sampler...\n",
      "Initializing NUTS using jitter+adapt_diag...\n",
      "Multiprocess sampling (4 chains in 4 jobs)\n",
      "NUTS: [alpha, beta]\n"
     ]
    },
    {
     "data": {
      "text/html": [
       "\n",
       "<style>\n",
       "    /* Turns off some styling */\n",
       "    progress {\n",
       "        /* gets rid of default border in Firefox and Opera. */\n",
       "        border: none;\n",
       "        /* Needs to be in here for Safari polyfill so background images work as expected. */\n",
       "        background-size: auto;\n",
       "    }\n",
       "    progress:not([value]), progress:not([value])::-webkit-progress-bar {\n",
       "        background: repeating-linear-gradient(45deg, #7e7e7e, #7e7e7e 10px, #5c5c5c 10px, #5c5c5c 20px);\n",
       "    }\n",
       "    .progress-bar-interrupted, .progress-bar-interrupted::-webkit-progress-bar {\n",
       "        background: #F44336;\n",
       "    }\n",
       "</style>\n"
      ],
      "text/plain": [
       "<IPython.core.display.HTML object>"
      ]
     },
     "metadata": {},
     "output_type": "display_data"
    },
    {
     "data": {
      "text/html": [
       "\n",
       "    <div>\n",
       "      <progress value='8000' class='' max='8000' style='width:300px; height:20px; vertical-align: middle;'></progress>\n",
       "      100.00% [8000/8000 00:06&lt;00:00 Sampling 4 chains, 0 divergences]\n",
       "    </div>\n",
       "    "
      ],
      "text/plain": [
       "<IPython.core.display.HTML object>"
      ]
     },
     "metadata": {},
     "output_type": "display_data"
    },
    {
     "name": "stderr",
     "output_type": "stream",
     "text": [
      "Sampling 4 chains for 1_000 tune and 1_000 draw iterations (4_000 + 4_000 draws total) took 7 seconds.\n",
      "Sampling: []\n"
     ]
    },
    {
     "data": {
      "text/html": [
       "\n",
       "<style>\n",
       "    /* Turns off some styling */\n",
       "    progress {\n",
       "        /* gets rid of default border in Firefox and Opera. */\n",
       "        border: none;\n",
       "        /* Needs to be in here for Safari polyfill so background images work as expected. */\n",
       "        background-size: auto;\n",
       "    }\n",
       "    progress:not([value]), progress:not([value])::-webkit-progress-bar {\n",
       "        background: repeating-linear-gradient(45deg, #7e7e7e, #7e7e7e 10px, #5c5c5c 10px, #5c5c5c 20px);\n",
       "    }\n",
       "    .progress-bar-interrupted, .progress-bar-interrupted::-webkit-progress-bar {\n",
       "        background: #F44336;\n",
       "    }\n",
       "</style>\n"
      ],
      "text/plain": [
       "<IPython.core.display.HTML object>"
      ]
     },
     "metadata": {},
     "output_type": "display_data"
    },
    {
     "data": {
      "text/html": [
       "\n",
       "    <div>\n",
       "      <progress value='4000' class='' max='4000' style='width:300px; height:20px; vertical-align: middle;'></progress>\n",
       "      100.00% [4000/4000 00:00&lt;00:00]\n",
       "    </div>\n",
       "    "
      ],
      "text/plain": [
       "<IPython.core.display.HTML object>"
      ]
     },
     "metadata": {},
     "output_type": "display_data"
    },
    {
     "name": "stdout",
     "output_type": "stream",
     "text": [
      "<xarray.DataArray 'alpha' ()>\n",
      "array(-1.0225357)\n",
      "[-1.10567135 -0.94026855]\n",
      "[2.02092147 0.51598426]\n",
      "[[1.85985623 0.44276324]\n",
      " [2.18599772 0.59346329]]\n"
     ]
    },
    {
     "data": {
      "image/png": "[encoded data removed]",
      "text/plain": [
       "<Figure size 640x480 with 1 Axes>"
      ]
     },
     "metadata": {},
     "output_type": "display_data"
    }
   ],
   "source": [
    "X = full[:,[1,2]]\n",
    "Y = np.array(full[:,0]).flatten()\n",
    "# W = np.array(full[:,5]).flatten()\n",
    "W = np.array(np.ones(full.shape[0])).flatten()\n",
    "# W = np.ones(cohrt_y.shape[0])\n",
    "\n",
    "\n",
    "# custom logp\n",
    "def logp_bern(value, mu, weight):\n",
    "    return weight * pm.logp(pm.Bernoulli.dist(mu), value)\n",
    "# extension of the bernoulli, the distribution is used as normal\n",
    "def dist_bern(mu, weight, size):\n",
    "    return pm.Bernoulli.dist(mu, size=size)\n",
    "\n",
    "with pm.Model() as model1:\n",
    "    x_data = pm.MutableData(\"x\", X)\n",
    "    # weights added hear\n",
    "    weight = pm.MutableData(\"w\", W)\n",
    "    alpha = pm.Normal(\"alpha\", mu=0, sigma=1)\n",
    "    beta = pm.Normal(\"beta\", mu=0, sigma=1, shape = x_data.shape[1])\n",
    "    z = pm.Deterministic(\"z\", alpha + beta[0]*x_data[:,0] + beta[1]*x_data[:,1])\n",
    "    mu = pm.Deterministic(\"mu\", pm.math.invprobit(z))\n",
    "    pm.CustomDist(\"bern\", mu, weight, dist=dist_bern, logp=logp_bern, observed=Y)\n",
    "    m11 = pm.sample(1000)\n",
    "    \n",
    "with model1:\n",
    "    # weight = pm.set_data({\"w\":np.ones(W)})\n",
    "    m11.extend(pm.sample_posterior_predictive(m11, var_names=[\"z\",\"mu\"]))\n",
    "\n",
    "# Plots\n",
    "z1 = m11.posterior_predictive[\"z\"].values.mean((0,1))\n",
    "mu1 = m11.posterior_predictive[\"mu\"].values.mean((0,1))\n",
    "\n",
    "fig, ax = plt.subplots(1)\n",
    "ax.plot(full[:,4], mu1, \"bo\")\n",
    "ax.grid(visible=True)\n",
    "ax.axis(xmin=0,xmax=1,ymin=0,ymax=1)\n",
    "\n",
    "\n",
    "print(m11.posterior[\"alpha\"].mean())\n",
    "print(m11.posterior[\"alpha\"].quantile((0.025,0.975), dim=(\"chain\", \"draw\")).values)\n",
    "print(m11.posterior[\"beta\"].values.mean((0,1)))\n",
    "print(m11.posterior[\"beta\"].quantile((0.025,0.975), dim=(\"chain\",\"draw\")).values)"
   ]
  },
  {
   "cell_type": "markdown",
   "metadata": {},
   "source": [
    "Retrun of alpha and Betas are appropriate"
   ]
  },
  {
   "cell_type": "markdown",
   "metadata": {},
   "source": [
    "## Create a case-cohort dtst"
   ]
  },
  {
   "cell_type": "code",
   "execution_count": 669,
   "metadata": {},
   "outputs": [],
   "source": [
    "np.random.seed(10)\n",
    "PRCNT = .1\n",
    "PRCNT_N = int(N*PRCNT)\n",
    "\n",
    "case_msk = np.array(full[:,0]==1).reshape(full.shape[0],)\n",
    "\n",
    "cntrl_msk = np.random.choice(N, size=PRCNT_N, replace=False)\n",
    "case = full[case_msk,:]\n",
    "cntrl = full[cntrl_msk,:]\n",
    "\n",
    "chrt = np.vstack([case,cntrl])\n",
    "wt_msk = np.array(chrt[:,0]==0).flatten()\n",
    "wt = np.ones(chrt.shape[0])\n",
    "wt[wt_msk] = 1/PRCNT\n",
    "wt = wt.reshape(wt.shape[0],1)\n",
    "chrt = np.concatenate([chrt,wt],1)"
   ]
  },
  {
   "cell_type": "markdown",
   "metadata": {},
   "source": [
    "### Sample with weights"
   ]
  },
  {
   "cell_type": "code",
   "execution_count": 692,
   "metadata": {},
   "outputs": [
    {
     "name": "stderr",
     "output_type": "stream",
     "text": [
      "Auto-assigning NUTS sampler...\n",
      "Initializing NUTS using jitter+adapt_diag...\n",
      "Multiprocess sampling (4 chains in 4 jobs)\n",
      "NUTS: [alpha, beta]\n"
     ]
    },
    {
     "data": {
      "text/html": [
       "\n",
       "<style>\n",
       "    /* Turns off some styling */\n",
       "    progress {\n",
       "        /* gets rid of default border in Firefox and Opera. */\n",
       "        border: none;\n",
       "        /* Needs to be in here for Safari polyfill so background images work as expected. */\n",
       "        background-size: auto;\n",
       "    }\n",
       "    progress:not([value]), progress:not([value])::-webkit-progress-bar {\n",
       "        background: repeating-linear-gradient(45deg, #7e7e7e, #7e7e7e 10px, #5c5c5c 10px, #5c5c5c 20px);\n",
       "    }\n",
       "    .progress-bar-interrupted, .progress-bar-interrupted::-webkit-progress-bar {\n",
       "        background: #F44336;\n",
       "    }\n",
       "</style>\n"
      ],
      "text/plain": [
       "<IPython.core.display.HTML object>"
      ]
     },
     "metadata": {},
     "output_type": "display_data"
    },
    {
     "data": {
      "text/html": [
       "\n",
       "    <div>\n",
       "      <progress value='8000' class='' max='8000' style='width:300px; height:20px; vertical-align: middle;'></progress>\n",
       "      100.00% [8000/8000 00:04&lt;00:00 Sampling 4 chains, 0 divergences]\n",
       "    </div>\n",
       "    "
      ],
      "text/plain": [
       "<IPython.core.display.HTML object>"
      ]
     },
     "metadata": {},
     "output_type": "display_data"
    },
    {
     "name": "stderr",
     "output_type": "stream",
     "text": [
      "Sampling 4 chains for 1_000 tune and 1_000 draw iterations (4_000 + 4_000 draws total) took 5 seconds.\n",
      "Sampling: []\n"
     ]
    },
    {
     "data": {
      "text/html": [
       "\n",
       "<style>\n",
       "    /* Turns off some styling */\n",
       "    progress {\n",
       "        /* gets rid of default border in Firefox and Opera. */\n",
       "        border: none;\n",
       "        /* Needs to be in here for Safari polyfill so background images work as expected. */\n",
       "        background-size: auto;\n",
       "    }\n",
       "    progress:not([value]), progress:not([value])::-webkit-progress-bar {\n",
       "        background: repeating-linear-gradient(45deg, #7e7e7e, #7e7e7e 10px, #5c5c5c 10px, #5c5c5c 20px);\n",
       "    }\n",
       "    .progress-bar-interrupted, .progress-bar-interrupted::-webkit-progress-bar {\n",
       "        background: #F44336;\n",
       "    }\n",
       "</style>\n"
      ],
      "text/plain": [
       "<IPython.core.display.HTML object>"
      ]
     },
     "metadata": {},
     "output_type": "display_data"
    },
    {
     "data": {
      "text/html": [
       "\n",
       "    <div>\n",
       "      <progress value='4000' class='' max='4000' style='width:300px; height:20px; vertical-align: middle;'></progress>\n",
       "      100.00% [4000/4000 00:00&lt;00:00]\n",
       "    </div>\n",
       "    "
      ],
      "text/plain": [
       "<IPython.core.display.HTML object>"
      ]
     },
     "metadata": {},
     "output_type": "display_data"
    },
    {
     "name": "stdout",
     "output_type": "stream",
     "text": [
      "<xarray.DataArray 'alpha' ()>\n",
      "array(-0.91325375)\n",
      "[-0.99247018 -0.82991432]\n",
      "[2.0765784  0.57197204]\n",
      "[[1.90761526 0.49724917]\n",
      " [2.24963404 0.64754217]]\n"
     ]
    },
    {
     "data": {
      "image/png": "[encoded data removed]",
      "text/plain": [
       "<Figure size 640x480 with 1 Axes>"
      ]
     },
     "metadata": {},
     "output_type": "display_data"
    }
   ],
   "source": [
    "X = chrt[:,[1,2]]\n",
    "Y = np.array(chrt[:,0]).flatten()\n",
    "W = np.array(chrt[:,5]).flatten()\n",
    "# W[W!=1] = W[W!=1]*1.2\n",
    "\n",
    "# custom logp\n",
    "def logp_bern(value, mu, weight):\n",
    "    return weight * pm.logp(pm.Bernoulli.dist(mu), value)\n",
    "# extension of the bernoulli, the distribution is used as normal\n",
    "def dist_bern(mu, weight, size):\n",
    "    return pm.Bernoulli.dist(mu, size=size)\n",
    "\n",
    "with pm.Model() as model1:\n",
    "    x_data = pm.MutableData(\"x\", X)\n",
    "    # weights added hear\n",
    "    weight = pm.MutableData(\"w\", W)\n",
    "    alpha = pm.Normal(\"alpha\", mu=0, sigma=1)\n",
    "    beta = pm.Normal(\"beta\", mu=0, sigma=1, shape = x_data.shape[1])\n",
    "    z = pm.Deterministic(\"z\", alpha + beta[0]*x_data[:,0] + beta[1]*x_data[:,1])\n",
    "    mu = pm.Deterministic(\"mu\", pm.math.invprobit(z))\n",
    "    pm.CustomDist(\"bern\", mu, weight, dist=dist_bern, logp=logp_bern, observed=Y)\n",
    "    m11 = pm.sample(1000)\n",
    "    \n",
    "with model1:\n",
    "    weight = pm.set_data({\"w\":np.ones(W.shape[0])})\n",
    "    m11.extend(pm.sample_posterior_predictive(m11, var_names=[\"z\",\"mu\"]))\n",
    "\n",
    "z1 = m11.posterior_predictive[\"z\"].values.mean((0,1))\n",
    "mu1 = m11.posterior_predictive[\"mu\"].values.mean((0,1))\n",
    "\n",
    "fig, ax = plt.subplots(1)\n",
    "ax.plot(chrt[:,4], mu1, \"bo\")\n",
    "ax.grid(visible=True)\n",
    "ax.axis(xmin=0,xmax=1,ymin=0,ymax=1)\n",
    "\n",
    "\n",
    "print(m11.posterior[\"alpha\"].mean())\n",
    "print(m11.posterior[\"alpha\"].quantile((0.025,0.975), dim=(\"chain\", \"draw\")).values)\n",
    "print(m11.posterior[\"beta\"].values.mean((0,1)))\n",
    "print(m11.posterior[\"beta\"].quantile((0.025,0.975), dim=(\"chain\",\"draw\")).values)"
   ]
  },
  {
   "cell_type": "markdown",
   "metadata": {},
   "source": [
    "Returns fairly good estimates, with some bias. \n",
    "\n",
    "The bias most likely is because of the minority ourcome (y=1) is actually overrepresented in the sample dataset"
   ]
  },
  {
   "cell_type": "markdown",
   "metadata": {},
   "source": [
    "### Sample Run no weights"
   ]
  },
  {
   "cell_type": "code",
   "execution_count": 690,
   "metadata": {},
   "outputs": [
    {
     "name": "stderr",
     "output_type": "stream",
     "text": [
      "Auto-assigning NUTS sampler...\n",
      "Initializing NUTS using jitter+adapt_diag...\n",
      "Multiprocess sampling (4 chains in 4 jobs)\n",
      "NUTS: [alpha, beta]\n"
     ]
    },
    {
     "data": {
      "text/html": [
       "\n",
       "<style>\n",
       "    /* Turns off some styling */\n",
       "    progress {\n",
       "        /* gets rid of default border in Firefox and Opera. */\n",
       "        border: none;\n",
       "        /* Needs to be in here for Safari polyfill so background images work as expected. */\n",
       "        background-size: auto;\n",
       "    }\n",
       "    progress:not([value]), progress:not([value])::-webkit-progress-bar {\n",
       "        background: repeating-linear-gradient(45deg, #7e7e7e, #7e7e7e 10px, #5c5c5c 10px, #5c5c5c 20px);\n",
       "    }\n",
       "    .progress-bar-interrupted, .progress-bar-interrupted::-webkit-progress-bar {\n",
       "        background: #F44336;\n",
       "    }\n",
       "</style>\n"
      ],
      "text/plain": [
       "<IPython.core.display.HTML object>"
      ]
     },
     "metadata": {},
     "output_type": "display_data"
    },
    {
     "data": {
      "text/html": [
       "\n",
       "    <div>\n",
       "      <progress value='8000' class='' max='8000' style='width:300px; height:20px; vertical-align: middle;'></progress>\n",
       "      100.00% [8000/8000 00:02&lt;00:00 Sampling 4 chains, 0 divergences]\n",
       "    </div>\n",
       "    "
      ],
      "text/plain": [
       "<IPython.core.display.HTML object>"
      ]
     },
     "metadata": {},
     "output_type": "display_data"
    },
    {
     "name": "stderr",
     "output_type": "stream",
     "text": [
      "Sampling 4 chains for 1_000 tune and 1_000 draw iterations (4_000 + 4_000 draws total) took 3 seconds.\n",
      "Sampling: []\n"
     ]
    },
    {
     "data": {
      "text/html": [
       "\n",
       "<style>\n",
       "    /* Turns off some styling */\n",
       "    progress {\n",
       "        /* gets rid of default border in Firefox and Opera. */\n",
       "        border: none;\n",
       "        /* Needs to be in here for Safari polyfill so background images work as expected. */\n",
       "        background-size: auto;\n",
       "    }\n",
       "    progress:not([value]), progress:not([value])::-webkit-progress-bar {\n",
       "        background: repeating-linear-gradient(45deg, #7e7e7e, #7e7e7e 10px, #5c5c5c 10px, #5c5c5c 20px);\n",
       "    }\n",
       "    .progress-bar-interrupted, .progress-bar-interrupted::-webkit-progress-bar {\n",
       "        background: #F44336;\n",
       "    }\n",
       "</style>\n"
      ],
      "text/plain": [
       "<IPython.core.display.HTML object>"
      ]
     },
     "metadata": {},
     "output_type": "display_data"
    },
    {
     "data": {
      "text/html": [
       "\n",
       "    <div>\n",
       "      <progress value='4000' class='' max='4000' style='width:300px; height:20px; vertical-align: middle;'></progress>\n",
       "      100.00% [4000/4000 00:00&lt;00:00]\n",
       "    </div>\n",
       "    "
      ],
      "text/plain": [
       "<IPython.core.display.HTML object>"
      ]
     },
     "metadata": {},
     "output_type": "display_data"
    },
    {
     "name": "stdout",
     "output_type": "stream",
     "text": [
      "<xarray.DataArray 'alpha' ()>\n",
      "array(0.45412142)\n",
      "[0.31679218 0.5931785 ]\n",
      "[1.81485447 0.57399664]\n",
      "[[1.47591222 0.43780085]\n",
      " [2.15857487 0.71420558]]\n"
     ]
    },
    {
     "data": {
      "image/png": "[encoded data removed]",
      "text/plain": [
       "<Figure size 640x480 with 1 Axes>"
      ]
     },
     "metadata": {},
     "output_type": "display_data"
    }
   ],
   "source": [
    "X = chrt[:,[1,2]]\n",
    "Y = np.array(chrt[:,0]).flatten()\n",
    "# W = np.array(chrt[:,5]).flatten()\n",
    "# W[W!=1] = W[W!=1]*1.2\n",
    "W = np.array(np.ones(chrt.shape[0])).flatten()\n",
    "\n",
    "\n",
    "# custom logp\n",
    "def logp_bern(value, mu, weight):\n",
    "    return weight * pm.logp(pm.Bernoulli.dist(mu), value)\n",
    "# extension of the bernoulli, the distribution is used as normal\n",
    "def dist_bern(mu, weight, size):\n",
    "    return pm.Bernoulli.dist(mu, size=size)\n",
    "\n",
    "with pm.Model() as model1:\n",
    "    x_data = pm.MutableData(\"x\", X)\n",
    "    # weights added hear\n",
    "    weight = pm.MutableData(\"w\", W)\n",
    "    alpha = pm.Normal(\"alpha\", mu=0, sigma=1)\n",
    "    beta = pm.Normal(\"beta\", mu=0, sigma=1, shape = x_data.shape[1])\n",
    "    z = pm.Deterministic(\"z\", alpha + beta[0]*x_data[:,0] + beta[1]*x_data[:,1])\n",
    "    mu = pm.Deterministic(\"mu\", pm.math.invprobit(z))\n",
    "    pm.CustomDist(\"bern\", mu, weight, dist=dist_bern, logp=logp_bern, observed=Y)\n",
    "    m11 = pm.sample(1000)\n",
    "    \n",
    "with model1:\n",
    "    # weight = pm.set_data({\"w\":np.ones(W)})\n",
    "    m11.extend(pm.sample_posterior_predictive(m11, var_names=[\"z\",\"mu\"]))\n",
    "\n",
    "z1 = m11.posterior_predictive[\"z\"].values.mean((0,1))\n",
    "mu1 = m11.posterior_predictive[\"mu\"].values.mean((0,1))\n",
    "\n",
    "fig, ax = plt.subplots(1)\n",
    "ax.plot(chrt[:,4], mu1, \"bo\")\n",
    "ax.grid(visible=True)\n",
    "ax.axis(xmin=0,xmax=1,ymin=0,ymax=1)\n",
    "\n",
    "\n",
    "print(m11.posterior[\"alpha\"].mean())\n",
    "print(m11.posterior[\"alpha\"].quantile((0.025,0.975), dim=(\"chain\", \"draw\")).values)\n",
    "print(m11.posterior[\"beta\"].values.mean((0,1)))\n",
    "print(m11.posterior[\"beta\"].quantile((0.025,0.975), dim=(\"chain\",\"draw\")).values)"
   ]
  },
  {
   "cell_type": "markdown",
   "metadata": {},
   "source": [
    "Heavily biased when the logp is not weighted. "
   ]
  },
  {
   "cell_type": "markdown",
   "metadata": {},
   "source": [
    "### Weights with a minor adjustment"
   ]
  },
  {
   "cell_type": "code",
   "execution_count": 693,
   "metadata": {},
   "outputs": [
    {
     "name": "stderr",
     "output_type": "stream",
     "text": [
      "Auto-assigning NUTS sampler...\n",
      "Initializing NUTS using jitter+adapt_diag...\n",
      "Multiprocess sampling (4 chains in 4 jobs)\n",
      "NUTS: [alpha, beta]\n"
     ]
    },
    {
     "data": {
      "text/html": [
       "\n",
       "<style>\n",
       "    /* Turns off some styling */\n",
       "    progress {\n",
       "        /* gets rid of default border in Firefox and Opera. */\n",
       "        border: none;\n",
       "        /* Needs to be in here for Safari polyfill so background images work as expected. */\n",
       "        background-size: auto;\n",
       "    }\n",
       "    progress:not([value]), progress:not([value])::-webkit-progress-bar {\n",
       "        background: repeating-linear-gradient(45deg, #7e7e7e, #7e7e7e 10px, #5c5c5c 10px, #5c5c5c 20px);\n",
       "    }\n",
       "    .progress-bar-interrupted, .progress-bar-interrupted::-webkit-progress-bar {\n",
       "        background: #F44336;\n",
       "    }\n",
       "</style>\n"
      ],
      "text/plain": [
       "<IPython.core.display.HTML object>"
      ]
     },
     "metadata": {},
     "output_type": "display_data"
    },
    {
     "data": {
      "text/html": [
       "\n",
       "    <div>\n",
       "      <progress value='8000' class='' max='8000' style='width:300px; height:20px; vertical-align: middle;'></progress>\n",
       "      100.00% [8000/8000 00:03&lt;00:00 Sampling 4 chains, 0 divergences]\n",
       "    </div>\n",
       "    "
      ],
      "text/plain": [
       "<IPython.core.display.HTML object>"
      ]
     },
     "metadata": {},
     "output_type": "display_data"
    },
    {
     "name": "stderr",
     "output_type": "stream",
     "text": [
      "Sampling 4 chains for 1_000 tune and 1_000 draw iterations (4_000 + 4_000 draws total) took 4 seconds.\n",
      "Sampling: []\n"
     ]
    },
    {
     "data": {
      "text/html": [
       "\n",
       "<style>\n",
       "    /* Turns off some styling */\n",
       "    progress {\n",
       "        /* gets rid of default border in Firefox and Opera. */\n",
       "        border: none;\n",
       "        /* Needs to be in here for Safari polyfill so background images work as expected. */\n",
       "        background-size: auto;\n",
       "    }\n",
       "    progress:not([value]), progress:not([value])::-webkit-progress-bar {\n",
       "        background: repeating-linear-gradient(45deg, #7e7e7e, #7e7e7e 10px, #5c5c5c 10px, #5c5c5c 20px);\n",
       "    }\n",
       "    .progress-bar-interrupted, .progress-bar-interrupted::-webkit-progress-bar {\n",
       "        background: #F44336;\n",
       "    }\n",
       "</style>\n"
      ],
      "text/plain": [
       "<IPython.core.display.HTML object>"
      ]
     },
     "metadata": {},
     "output_type": "display_data"
    },
    {
     "data": {
      "text/html": [
       "\n",
       "    <div>\n",
       "      <progress value='4000' class='' max='4000' style='width:300px; height:20px; vertical-align: middle;'></progress>\n",
       "      100.00% [4000/4000 00:00&lt;00:00]\n",
       "    </div>\n",
       "    "
      ],
      "text/plain": [
       "<IPython.core.display.HTML object>"
      ]
     },
     "metadata": {},
     "output_type": "display_data"
    },
    {
     "name": "stdout",
     "output_type": "stream",
     "text": [
      "<xarray.DataArray 'alpha' ()>\n",
      "array(-1.01798958)\n",
      "[-1.09454497 -0.94165661]\n",
      "[2.08269688 0.56819127]\n",
      "[[1.92600478 0.49308248]\n",
      " [2.24129273 0.64103553]]\n"
     ]
    },
    {
     "data": {
      "image/png": "[encoded data removed]",
      "text/plain": [
       "<Figure size 640x480 with 1 Axes>"
      ]
     },
     "metadata": {},
     "output_type": "display_data"
    }
   ],
   "source": [
    "X = chrt[:,[1,2]]\n",
    "Y = np.array(chrt[:,0]).flatten()\n",
    "W = np.array(chrt[:,5]).flatten()\n",
    "W[W!=1] = W[W!=1]*1.2 #################################### the 1.2 multiplier was found by trial/error\n",
    "\n",
    "# custom logp\n",
    "def logp_bern(value, mu, weight):\n",
    "    return weight * pm.logp(pm.Bernoulli.dist(mu), value)\n",
    "# extension of the bernoulli, the distribution is used as normal\n",
    "def dist_bern(mu, weight, size):\n",
    "    return pm.Bernoulli.dist(mu, size=size)\n",
    "\n",
    "with pm.Model() as model1:\n",
    "    x_data = pm.MutableData(\"x\", X)\n",
    "    # weights added hear\n",
    "    weight = pm.MutableData(\"w\", W)\n",
    "    alpha = pm.Normal(\"alpha\", mu=0, sigma=1)\n",
    "    beta = pm.Normal(\"beta\", mu=0, sigma=1, shape = x_data.shape[1])\n",
    "    z = pm.Deterministic(\"z\", alpha + beta[0]*x_data[:,0] + beta[1]*x_data[:,1])\n",
    "    mu = pm.Deterministic(\"mu\", pm.math.invprobit(z))\n",
    "    pm.CustomDist(\"bern\", mu, weight, dist=dist_bern, logp=logp_bern, observed=Y)\n",
    "    m11 = pm.sample(1000)\n",
    "    \n",
    "with model1:\n",
    "    # weight = pm.set_data({\"w\":np.ones(W.shape[0])})\n",
    "    m11.extend(pm.sample_posterior_predictive(m11, var_names=[\"z\",\"mu\"]))\n",
    "\n",
    "z1 = m11.posterior_predictive[\"z\"].values.mean((0,1))\n",
    "mu1 = m11.posterior_predictive[\"mu\"].values.mean((0,1))\n",
    "\n",
    "fig, ax = plt.subplots(1)\n",
    "ax.plot(chrt[:,4], mu1, \"bo\")\n",
    "ax.grid(visible=True)\n",
    "ax.axis(xmin=0,xmax=1,ymin=0,ymax=1)\n",
    "\n",
    "\n",
    "print(m11.posterior[\"alpha\"].mean())\n",
    "print(m11.posterior[\"alpha\"].quantile((0.025,0.975), dim=(\"chain\", \"draw\")).values)\n",
    "print(m11.posterior[\"beta\"].values.mean((0,1)))\n",
    "print(m11.posterior[\"beta\"].quantile((0.025,0.975), dim=(\"chain\",\"draw\")).values)"
   ]
  },
  {
   "cell_type": "markdown",
   "metadata": {},
   "source": [
    "Adjusting the logp weight to a slight increase returns the most accurate model. There is probably a systematic way to calculate these weights. I believe this would be in the relationship between number of Y==0 and Y==1. In this case-cohort sample the number of Y=1 is greater than Y=0 since Y=1 wasn't incredibly rare in the baseline cohort."
   ]
  },
  {
   "cell_type": "markdown",
   "metadata": {},
   "source": [
    "## Test how a random sample performs"
   ]
  },
  {
   "cell_type": "code",
   "execution_count": 704,
   "metadata": {},
   "outputs": [],
   "source": [
    "smpl_msk = np.random.choice(full.shape[0], chrt.shape[0],replace=False)\n",
    "smpl_chrt = full[smpl_msk,:]"
   ]
  },
  {
   "cell_type": "code",
   "execution_count": 705,
   "metadata": {},
   "outputs": [
    {
     "name": "stderr",
     "output_type": "stream",
     "text": [
      "Auto-assigning NUTS sampler...\n",
      "Initializing NUTS using jitter+adapt_diag...\n",
      "Multiprocess sampling (4 chains in 4 jobs)\n",
      "NUTS: [alpha, beta]\n"
     ]
    },
    {
     "data": {
      "text/html": [
       "\n",
       "<style>\n",
       "    /* Turns off some styling */\n",
       "    progress {\n",
       "        /* gets rid of default border in Firefox and Opera. */\n",
       "        border: none;\n",
       "        /* Needs to be in here for Safari polyfill so background images work as expected. */\n",
       "        background-size: auto;\n",
       "    }\n",
       "    progress:not([value]), progress:not([value])::-webkit-progress-bar {\n",
       "        background: repeating-linear-gradient(45deg, #7e7e7e, #7e7e7e 10px, #5c5c5c 10px, #5c5c5c 20px);\n",
       "    }\n",
       "    .progress-bar-interrupted, .progress-bar-interrupted::-webkit-progress-bar {\n",
       "        background: #F44336;\n",
       "    }\n",
       "</style>\n"
      ],
      "text/plain": [
       "<IPython.core.display.HTML object>"
      ]
     },
     "metadata": {},
     "output_type": "display_data"
    },
    {
     "data": {
      "text/html": [
       "\n",
       "    <div>\n",
       "      <progress value='8000' class='' max='8000' style='width:300px; height:20px; vertical-align: middle;'></progress>\n",
       "      100.00% [8000/8000 00:04&lt;00:00 Sampling 4 chains, 0 divergences]\n",
       "    </div>\n",
       "    "
      ],
      "text/plain": [
       "<IPython.core.display.HTML object>"
      ]
     },
     "metadata": {},
     "output_type": "display_data"
    },
    {
     "name": "stderr",
     "output_type": "stream",
     "text": [
      "Sampling 4 chains for 1_000 tune and 1_000 draw iterations (4_000 + 4_000 draws total) took 5 seconds.\n",
      "Sampling: []\n"
     ]
    },
    {
     "data": {
      "text/html": [
       "\n",
       "<style>\n",
       "    /* Turns off some styling */\n",
       "    progress {\n",
       "        /* gets rid of default border in Firefox and Opera. */\n",
       "        border: none;\n",
       "        /* Needs to be in here for Safari polyfill so background images work as expected. */\n",
       "        background-size: auto;\n",
       "    }\n",
       "    progress:not([value]), progress:not([value])::-webkit-progress-bar {\n",
       "        background: repeating-linear-gradient(45deg, #7e7e7e, #7e7e7e 10px, #5c5c5c 10px, #5c5c5c 20px);\n",
       "    }\n",
       "    .progress-bar-interrupted, .progress-bar-interrupted::-webkit-progress-bar {\n",
       "        background: #F44336;\n",
       "    }\n",
       "</style>\n"
      ],
      "text/plain": [
       "<IPython.core.display.HTML object>"
      ]
     },
     "metadata": {},
     "output_type": "display_data"
    },
    {
     "data": {
      "text/html": [
       "\n",
       "    <div>\n",
       "      <progress value='4000' class='' max='4000' style='width:300px; height:20px; vertical-align: middle;'></progress>\n",
       "      100.00% [4000/4000 00:00&lt;00:00]\n",
       "    </div>\n",
       "    "
      ],
      "text/plain": [
       "<IPython.core.display.HTML object>"
      ]
     },
     "metadata": {},
     "output_type": "display_data"
    },
    {
     "name": "stdout",
     "output_type": "stream",
     "text": [
      "<xarray.DataArray 'alpha' ()>\n",
      "array(-1.05193174)\n",
      "[-1.18540617 -0.92037202]\n",
      "[2.00607267 0.54333155]\n",
      "[[1.7665159  0.43323163]\n",
      " [2.2460502  0.65630471]]\n"
     ]
    },
    {
     "data": {
      "image/png": "[encoded data removed]",
      "text/plain": [
       "<Figure size 640x480 with 1 Axes>"
      ]
     },
     "metadata": {},
     "output_type": "display_data"
    }
   ],
   "source": [
    "X = smpl_chrt[:,[1,2]]\n",
    "Y = np.array(smpl_chrt[:,0]).flatten()\n",
    "W = np.array(np.ones(smpl_chrt.shape[0])).flatten()\n",
    "\n",
    "\n",
    "# custom logp\n",
    "def logp_bern(value, mu, weight):\n",
    "    return weight * pm.logp(pm.Bernoulli.dist(mu), value)\n",
    "# extension of the bernoulli, the distribution is used as normal\n",
    "def dist_bern(mu, weight, size):\n",
    "    return pm.Bernoulli.dist(mu, size=size)\n",
    "\n",
    "with pm.Model() as model1:\n",
    "    x_data = pm.MutableData(\"x\", X)\n",
    "    # weights added hear\n",
    "    weight = pm.MutableData(\"w\", W)\n",
    "    alpha = pm.Normal(\"alpha\", mu=0, sigma=1)\n",
    "    beta = pm.Normal(\"beta\", mu=0, sigma=1, shape = x_data.shape[1])\n",
    "    z = pm.Deterministic(\"z\", alpha + beta[0]*x_data[:,0] + beta[1]*x_data[:,1])\n",
    "    mu = pm.Deterministic(\"mu\", pm.math.invprobit(z))\n",
    "    pm.CustomDist(\"bern\", mu, weight, dist=dist_bern, logp=logp_bern, observed=Y)\n",
    "    m11 = pm.sample(1000)\n",
    "    \n",
    "with model1:\n",
    "    # weight = pm.set_data({\"w\":np.ones(W.shape[0])})\n",
    "    m11.extend(pm.sample_posterior_predictive(m11, var_names=[\"z\",\"mu\"]))\n",
    "\n",
    "z1 = m11.posterior_predictive[\"z\"].values.mean((0,1))\n",
    "mu1 = m11.posterior_predictive[\"mu\"].values.mean((0,1))\n",
    "\n",
    "fig, ax = plt.subplots(1)\n",
    "ax.plot(smpl_chrt[:,4], mu1, \"bo\")\n",
    "ax.grid(visible=True)\n",
    "ax.axis(xmin=0,xmax=1,ymin=0,ymax=1)\n",
    "\n",
    "\n",
    "print(m11.posterior[\"alpha\"].mean())\n",
    "print(m11.posterior[\"alpha\"].quantile((0.025,0.975), dim=(\"chain\", \"draw\")).values)\n",
    "print(m11.posterior[\"beta\"].values.mean((0,1)))\n",
    "print(m11.posterior[\"beta\"].quantile((0.025,0.975), dim=(\"chain\",\"draw\")).values)"
   ]
  },
  {
   "cell_type": "markdown",
   "metadata": {},
   "source": [
    "The sampel cohort to the same size as the case-cohrt returns good results. However, notably the model is biased lower in the Y=1 subset. This tracks as this sample will have fewer Y=1 represented to train the model.\n",
    "\n",
    "This model performs slightly better than the initial weighted case-cohort, but the adj. weighted case-cohort performs the best. "
   ]
  }
 ],
 "metadata": {
  "kernelspec": {
   "display_name": "Python 3.10.6 64-bit",
   "language": "python",
   "name": "python3"
  },
  "language_info": {
   "codemirror_mode": {
    "name": "ipython",
    "version": 3
   },
   "file_extension": ".py",
   "mimetype": "text/x-python",
   "name": "python",
   "nbconvert_exporter": "python",
   "pygments_lexer": "ipython3",
   "version": "3.10.6"
  },
  "orig_nbformat": 4,
  "vscode": {
   "interpreter": {
    "hash": "31f2aee4e71d21fbe5cf8b01ff0e069b9275f58929596ceb00d14d90e3e16cd6"
   }
  }
 },
 "nbformat": 4,
 "nbformat_minor": 2
}

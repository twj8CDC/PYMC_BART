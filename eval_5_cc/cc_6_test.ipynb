{
 "cells": [
  {
   "cell_type": "code",
   "execution_count": 1,
   "metadata": {},
   "outputs": [],
   "source": [
    "import cloudpickle as cpkl\n",
    "from pathlib import Path\n",
    "\n",
    "import arviz as az\n",
    "import matplotlib.pyplot as plt\n",
    "import numpy as np\n",
    "import pandas as pd\n",
    "import pymc as pm\n",
    "import pymc_bart as pmb\n",
    "\n",
    "from sklearn.model_selection import train_test_split\n",
    "import dill\n",
    "\n",
    "%config InlineBackend.figure_format = \"retina\""
   ]
  },
  {
   "cell_type": "code",
   "execution_count": 5,
   "metadata": {},
   "outputs": [
    {
     "ename": "AuthenticationError",
     "evalue": "digest sent was rejected",
     "output_type": "error",
     "traceback": [
      "\u001b[0;31m---------------------------------------------------------------------------\u001b[0m",
      "\u001b[0;31mAuthenticationError\u001b[0m                       Traceback (most recent call last)",
      "Cell \u001b[0;32mIn[5], line 3\u001b[0m\n\u001b[1;32m      1\u001b[0m \u001b[39m# with open('test2.pkl', mode='rb') as file:\u001b[39;00m\n\u001b[1;32m      2\u001b[0m     \u001b[39m# model = dill.load_session(file)\u001b[39;00m\n\u001b[0;32m----> 3\u001b[0m dill\u001b[39m.\u001b[39;49mload_session(\u001b[39m\"\u001b[39;49m\u001b[39mtest2.pkl\u001b[39;49m\u001b[39m\"\u001b[39;49m)\n",
      "File \u001b[0;32m~/.local/lib/python3.10/site-packages/dill/session.py:512\u001b[0m, in \u001b[0;36mload_session\u001b[0;34m(filename, main, **kwds)\u001b[0m\n\u001b[1;32m    510\u001b[0m \u001b[39mdef\u001b[39;00m \u001b[39mload_session\u001b[39m(filename\u001b[39m=\u001b[39m\u001b[39mNone\u001b[39;00m, main\u001b[39m=\u001b[39m\u001b[39mNone\u001b[39;00m, \u001b[39m*\u001b[39m\u001b[39m*\u001b[39mkwds):\n\u001b[1;32m    511\u001b[0m     warnings\u001b[39m.\u001b[39mwarn(\u001b[39m\"\u001b[39m\u001b[39mload_session() has been renamed load_module().\u001b[39m\u001b[39m\"\u001b[39m, \u001b[39mPendingDeprecationWarning\u001b[39;00m)\n\u001b[0;32m--> 512\u001b[0m     load_module(filename, module\u001b[39m=\u001b[39;49mmain, \u001b[39m*\u001b[39;49m\u001b[39m*\u001b[39;49mkwds)\n",
      "File \u001b[0;32m~/.local/lib/python3.10/site-packages/dill/session.py:494\u001b[0m, in \u001b[0;36mload_module\u001b[0;34m(filename, module, **kwds)\u001b[0m\n\u001b[1;32m    491\u001b[0m         runtime_main \u001b[39m=\u001b[39m \u001b[39m'\u001b[39m\u001b[39m__runtime__.\u001b[39m\u001b[39m%s\u001b[39;00m\u001b[39m'\u001b[39m \u001b[39m%\u001b[39m main\u001b[39m.\u001b[39m\u001b[39m__name__\u001b[39m\n\u001b[1;32m    492\u001b[0m         sys\u001b[39m.\u001b[39mmodules[runtime_main] \u001b[39m=\u001b[39m main\n\u001b[0;32m--> 494\u001b[0m     loaded \u001b[39m=\u001b[39m unpickler\u001b[39m.\u001b[39;49mload()\n\u001b[1;32m    495\u001b[0m \u001b[39mfinally\u001b[39;00m:\n\u001b[1;32m    496\u001b[0m     \u001b[39mif\u001b[39;00m \u001b[39mnot\u001b[39;00m \u001b[39mhasattr\u001b[39m(filename, \u001b[39m'\u001b[39m\u001b[39mread\u001b[39m\u001b[39m'\u001b[39m):  \u001b[39m# if newly opened file\u001b[39;00m\n",
      "File \u001b[0;32m~/.local/lib/python3.10/site-packages/dill/_dill.py:442\u001b[0m, in \u001b[0;36mUnpickler.load\u001b[0;34m(self)\u001b[0m\n\u001b[1;32m    441\u001b[0m \u001b[39mdef\u001b[39;00m \u001b[39mload\u001b[39m(\u001b[39mself\u001b[39m): \u001b[39m#NOTE: if settings change, need to update attributes\u001b[39;00m\n\u001b[0;32m--> 442\u001b[0m     obj \u001b[39m=\u001b[39m StockUnpickler\u001b[39m.\u001b[39;49mload(\u001b[39mself\u001b[39;49m)\n\u001b[1;32m    443\u001b[0m     \u001b[39mif\u001b[39;00m \u001b[39mtype\u001b[39m(obj)\u001b[39m.\u001b[39m\u001b[39m__module__\u001b[39m \u001b[39m==\u001b[39m \u001b[39mgetattr\u001b[39m(_main_module, \u001b[39m'\u001b[39m\u001b[39m__name__\u001b[39m\u001b[39m'\u001b[39m, \u001b[39m'\u001b[39m\u001b[39m__main__\u001b[39m\u001b[39m'\u001b[39m):\n\u001b[1;32m    444\u001b[0m         \u001b[39mif\u001b[39;00m \u001b[39mnot\u001b[39;00m \u001b[39mself\u001b[39m\u001b[39m.\u001b[39m_ignore:\n\u001b[1;32m    445\u001b[0m             \u001b[39m# point obj class to main\u001b[39;00m\n",
      "File \u001b[0;32m/usr/lib/python3.10/multiprocessing/managers.py:942\u001b[0m, in \u001b[0;36mRebuildProxy\u001b[0;34m(func, token, serializer, kwds)\u001b[0m\n\u001b[1;32m    936\u001b[0m         server\u001b[39m.\u001b[39mid_to_local_proxy_obj[token\u001b[39m.\u001b[39mid] \u001b[39m=\u001b[39m \\\n\u001b[1;32m    937\u001b[0m             server\u001b[39m.\u001b[39mid_to_obj[token\u001b[39m.\u001b[39mid]\n\u001b[1;32m    938\u001b[0m incref \u001b[39m=\u001b[39m (\n\u001b[1;32m    939\u001b[0m     kwds\u001b[39m.\u001b[39mpop(\u001b[39m'\u001b[39m\u001b[39mincref\u001b[39m\u001b[39m'\u001b[39m, \u001b[39mTrue\u001b[39;00m) \u001b[39mand\u001b[39;00m\n\u001b[1;32m    940\u001b[0m     \u001b[39mnot\u001b[39;00m \u001b[39mgetattr\u001b[39m(process\u001b[39m.\u001b[39mcurrent_process(), \u001b[39m'\u001b[39m\u001b[39m_inheriting\u001b[39m\u001b[39m'\u001b[39m, \u001b[39mFalse\u001b[39;00m)\n\u001b[1;32m    941\u001b[0m     )\n\u001b[0;32m--> 942\u001b[0m \u001b[39mreturn\u001b[39;00m func(token, serializer, incref\u001b[39m=\u001b[39;49mincref, \u001b[39m*\u001b[39;49m\u001b[39m*\u001b[39;49mkwds)\n",
      "File \u001b[0;32m/usr/lib/python3.10/multiprocessing/managers.py:792\u001b[0m, in \u001b[0;36mBaseProxy.__init__\u001b[0;34m(self, token, serializer, manager, authkey, exposed, incref, manager_owned)\u001b[0m\n\u001b[1;32m    789\u001b[0m     \u001b[39mself\u001b[39m\u001b[39m.\u001b[39m_authkey \u001b[39m=\u001b[39m process\u001b[39m.\u001b[39mcurrent_process()\u001b[39m.\u001b[39mauthkey\n\u001b[1;32m    791\u001b[0m \u001b[39mif\u001b[39;00m incref:\n\u001b[0;32m--> 792\u001b[0m     \u001b[39mself\u001b[39;49m\u001b[39m.\u001b[39;49m_incref()\n\u001b[1;32m    794\u001b[0m util\u001b[39m.\u001b[39mregister_after_fork(\u001b[39mself\u001b[39m, BaseProxy\u001b[39m.\u001b[39m_after_fork)\n",
      "File \u001b[0;32m/usr/lib/python3.10/multiprocessing/managers.py:846\u001b[0m, in \u001b[0;36mBaseProxy._incref\u001b[0;34m(self)\u001b[0m\n\u001b[1;32m    843\u001b[0m     util\u001b[39m.\u001b[39mdebug(\u001b[39m'\u001b[39m\u001b[39mowned_by_manager skipped INCREF of \u001b[39m\u001b[39m%r\u001b[39;00m\u001b[39m'\u001b[39m, \u001b[39mself\u001b[39m\u001b[39m.\u001b[39m_token\u001b[39m.\u001b[39mid)\n\u001b[1;32m    844\u001b[0m     \u001b[39mreturn\u001b[39;00m\n\u001b[0;32m--> 846\u001b[0m conn \u001b[39m=\u001b[39m \u001b[39mself\u001b[39;49m\u001b[39m.\u001b[39;49m_Client(\u001b[39mself\u001b[39;49m\u001b[39m.\u001b[39;49m_token\u001b[39m.\u001b[39;49maddress, authkey\u001b[39m=\u001b[39;49m\u001b[39mself\u001b[39;49m\u001b[39m.\u001b[39;49m_authkey)\n\u001b[1;32m    847\u001b[0m dispatch(conn, \u001b[39mNone\u001b[39;00m, \u001b[39m'\u001b[39m\u001b[39mincref\u001b[39m\u001b[39m'\u001b[39m, (\u001b[39mself\u001b[39m\u001b[39m.\u001b[39m_id,))\n\u001b[1;32m    848\u001b[0m util\u001b[39m.\u001b[39mdebug(\u001b[39m'\u001b[39m\u001b[39mINCREF \u001b[39m\u001b[39m%r\u001b[39;00m\u001b[39m'\u001b[39m, \u001b[39mself\u001b[39m\u001b[39m.\u001b[39m_token\u001b[39m.\u001b[39mid)\n",
      "File \u001b[0;32m/usr/lib/python3.10/multiprocessing/connection.py:508\u001b[0m, in \u001b[0;36mClient\u001b[0;34m(address, family, authkey)\u001b[0m\n\u001b[1;32m    505\u001b[0m     \u001b[39mraise\u001b[39;00m \u001b[39mTypeError\u001b[39;00m(\u001b[39m'\u001b[39m\u001b[39mauthkey should be a byte string\u001b[39m\u001b[39m'\u001b[39m)\n\u001b[1;32m    507\u001b[0m \u001b[39mif\u001b[39;00m authkey \u001b[39mis\u001b[39;00m \u001b[39mnot\u001b[39;00m \u001b[39mNone\u001b[39;00m:\n\u001b[0;32m--> 508\u001b[0m     answer_challenge(c, authkey)\n\u001b[1;32m    509\u001b[0m     deliver_challenge(c, authkey)\n\u001b[1;32m    511\u001b[0m \u001b[39mreturn\u001b[39;00m c\n",
      "File \u001b[0;32m/usr/lib/python3.10/multiprocessing/connection.py:759\u001b[0m, in \u001b[0;36manswer_challenge\u001b[0;34m(connection, authkey)\u001b[0m\n\u001b[1;32m    757\u001b[0m response \u001b[39m=\u001b[39m connection\u001b[39m.\u001b[39mrecv_bytes(\u001b[39m256\u001b[39m)        \u001b[39m# reject large message\u001b[39;00m\n\u001b[1;32m    758\u001b[0m \u001b[39mif\u001b[39;00m response \u001b[39m!=\u001b[39m WELCOME:\n\u001b[0;32m--> 759\u001b[0m     \u001b[39mraise\u001b[39;00m AuthenticationError(\u001b[39m'\u001b[39m\u001b[39mdigest sent was rejected\u001b[39m\u001b[39m'\u001b[39m)\n",
      "\u001b[0;31mAuthenticationError\u001b[0m: digest sent was rejected"
     ]
    }
   ],
   "source": [
    "# with open('test2.pkl', mode='rb') as file:\n",
    "    # model = dill.load_session(file)\n",
    "dill.load_session(\"test2.pkl\")"
   ]
  },
  {
   "cell_type": "code",
   "execution_count": 8,
   "metadata": {},
   "outputs": [],
   "source": [
    "try:\n",
    "    bikes = pd.read_csv(Path(\"..\", \"data\", \"bikes.csv\"))\n",
    "except FileNotFoundError:\n",
    "    bikes = pd.read_csv(pm.get_data(\"bikes.csv\"))\n",
    "\n",
    "features = [\"hour\", \"temperature\", \"humidity\", \"workingday\"]\n",
    "\n",
    "X = bikes[features]\n",
    "Y = bikes[\"count\"]\n"
   ]
  },
  {
   "cell_type": "code",
   "execution_count": 13,
   "metadata": {},
   "outputs": [],
   "source": [
    "xt = X[0:10]\n",
    "yt = Y[0:10]"
   ]
  },
  {
   "cell_type": "code",
   "execution_count": 24,
   "metadata": {},
   "outputs": [
    {
     "ename": "AuthenticationError",
     "evalue": "digest sent was rejected",
     "output_type": "error",
     "traceback": [
      "\u001b[0;31m---------------------------------------------------------------------------\u001b[0m",
      "\u001b[0;31mAuthenticationError\u001b[0m                       Traceback (most recent call last)",
      "Cell \u001b[0;32mIn[24], line 2\u001b[0m\n\u001b[1;32m      1\u001b[0m \u001b[39mwith\u001b[39;00m \u001b[39mopen\u001b[39m(\u001b[39m\"\u001b[39m\u001b[39mtest_mu1.pkl\u001b[39m\u001b[39m\"\u001b[39m, mode\u001b[39m=\u001b[39m\u001b[39m\"\u001b[39m\u001b[39mrb\u001b[39m\u001b[39m\"\u001b[39m) \u001b[39mas\u001b[39;00m file:\n\u001b[0;32m----> 2\u001b[0m     mu \u001b[39m=\u001b[39m cpkl\u001b[39m.\u001b[39;49mload(file)\n",
      "File \u001b[0;32m/usr/lib/python3.10/multiprocessing/managers.py:942\u001b[0m, in \u001b[0;36mRebuildProxy\u001b[0;34m(func, token, serializer, kwds)\u001b[0m\n\u001b[1;32m    936\u001b[0m         server\u001b[39m.\u001b[39mid_to_local_proxy_obj[token\u001b[39m.\u001b[39mid] \u001b[39m=\u001b[39m \\\n\u001b[1;32m    937\u001b[0m             server\u001b[39m.\u001b[39mid_to_obj[token\u001b[39m.\u001b[39mid]\n\u001b[1;32m    938\u001b[0m incref \u001b[39m=\u001b[39m (\n\u001b[1;32m    939\u001b[0m     kwds\u001b[39m.\u001b[39mpop(\u001b[39m'\u001b[39m\u001b[39mincref\u001b[39m\u001b[39m'\u001b[39m, \u001b[39mTrue\u001b[39;00m) \u001b[39mand\u001b[39;00m\n\u001b[1;32m    940\u001b[0m     \u001b[39mnot\u001b[39;00m \u001b[39mgetattr\u001b[39m(process\u001b[39m.\u001b[39mcurrent_process(), \u001b[39m'\u001b[39m\u001b[39m_inheriting\u001b[39m\u001b[39m'\u001b[39m, \u001b[39mFalse\u001b[39;00m)\n\u001b[1;32m    941\u001b[0m     )\n\u001b[0;32m--> 942\u001b[0m \u001b[39mreturn\u001b[39;00m func(token, serializer, incref\u001b[39m=\u001b[39;49mincref, \u001b[39m*\u001b[39;49m\u001b[39m*\u001b[39;49mkwds)\n",
      "File \u001b[0;32m/usr/lib/python3.10/multiprocessing/managers.py:792\u001b[0m, in \u001b[0;36mBaseProxy.__init__\u001b[0;34m(self, token, serializer, manager, authkey, exposed, incref, manager_owned)\u001b[0m\n\u001b[1;32m    789\u001b[0m     \u001b[39mself\u001b[39m\u001b[39m.\u001b[39m_authkey \u001b[39m=\u001b[39m process\u001b[39m.\u001b[39mcurrent_process()\u001b[39m.\u001b[39mauthkey\n\u001b[1;32m    791\u001b[0m \u001b[39mif\u001b[39;00m incref:\n\u001b[0;32m--> 792\u001b[0m     \u001b[39mself\u001b[39;49m\u001b[39m.\u001b[39;49m_incref()\n\u001b[1;32m    794\u001b[0m util\u001b[39m.\u001b[39mregister_after_fork(\u001b[39mself\u001b[39m, BaseProxy\u001b[39m.\u001b[39m_after_fork)\n",
      "File \u001b[0;32m/usr/lib/python3.10/multiprocessing/managers.py:846\u001b[0m, in \u001b[0;36mBaseProxy._incref\u001b[0;34m(self)\u001b[0m\n\u001b[1;32m    843\u001b[0m     util\u001b[39m.\u001b[39mdebug(\u001b[39m'\u001b[39m\u001b[39mowned_by_manager skipped INCREF of \u001b[39m\u001b[39m%r\u001b[39;00m\u001b[39m'\u001b[39m, \u001b[39mself\u001b[39m\u001b[39m.\u001b[39m_token\u001b[39m.\u001b[39mid)\n\u001b[1;32m    844\u001b[0m     \u001b[39mreturn\u001b[39;00m\n\u001b[0;32m--> 846\u001b[0m conn \u001b[39m=\u001b[39m \u001b[39mself\u001b[39;49m\u001b[39m.\u001b[39;49m_Client(\u001b[39mself\u001b[39;49m\u001b[39m.\u001b[39;49m_token\u001b[39m.\u001b[39;49maddress, authkey\u001b[39m=\u001b[39;49m\u001b[39mself\u001b[39;49m\u001b[39m.\u001b[39;49m_authkey)\n\u001b[1;32m    847\u001b[0m dispatch(conn, \u001b[39mNone\u001b[39;00m, \u001b[39m'\u001b[39m\u001b[39mincref\u001b[39m\u001b[39m'\u001b[39m, (\u001b[39mself\u001b[39m\u001b[39m.\u001b[39m_id,))\n\u001b[1;32m    848\u001b[0m util\u001b[39m.\u001b[39mdebug(\u001b[39m'\u001b[39m\u001b[39mINCREF \u001b[39m\u001b[39m%r\u001b[39;00m\u001b[39m'\u001b[39m, \u001b[39mself\u001b[39m\u001b[39m.\u001b[39m_token\u001b[39m.\u001b[39mid)\n",
      "File \u001b[0;32m/usr/lib/python3.10/multiprocessing/connection.py:508\u001b[0m, in \u001b[0;36mClient\u001b[0;34m(address, family, authkey)\u001b[0m\n\u001b[1;32m    505\u001b[0m     \u001b[39mraise\u001b[39;00m \u001b[39mTypeError\u001b[39;00m(\u001b[39m'\u001b[39m\u001b[39mauthkey should be a byte string\u001b[39m\u001b[39m'\u001b[39m)\n\u001b[1;32m    507\u001b[0m \u001b[39mif\u001b[39;00m authkey \u001b[39mis\u001b[39;00m \u001b[39mnot\u001b[39;00m \u001b[39mNone\u001b[39;00m:\n\u001b[0;32m--> 508\u001b[0m     answer_challenge(c, authkey)\n\u001b[1;32m    509\u001b[0m     deliver_challenge(c, authkey)\n\u001b[1;32m    511\u001b[0m \u001b[39mreturn\u001b[39;00m c\n",
      "File \u001b[0;32m/usr/lib/python3.10/multiprocessing/connection.py:759\u001b[0m, in \u001b[0;36manswer_challenge\u001b[0;34m(connection, authkey)\u001b[0m\n\u001b[1;32m    757\u001b[0m response \u001b[39m=\u001b[39m connection\u001b[39m.\u001b[39mrecv_bytes(\u001b[39m256\u001b[39m)        \u001b[39m# reject large message\u001b[39;00m\n\u001b[1;32m    758\u001b[0m \u001b[39mif\u001b[39;00m response \u001b[39m!=\u001b[39m WELCOME:\n\u001b[0;32m--> 759\u001b[0m     \u001b[39mraise\u001b[39;00m AuthenticationError(\u001b[39m'\u001b[39m\u001b[39mdigest sent was rejected\u001b[39m\u001b[39m'\u001b[39m)\n",
      "\u001b[0;31mAuthenticationError\u001b[0m: digest sent was rejected"
     ]
    }
   ],
   "source": [
    "with open(\"test_mu1.pkl\", mode=\"rb\") as file:\n",
    "    mu = cpkl.load(file)"
   ]
  },
  {
   "cell_type": "code",
   "execution_count": 9,
   "metadata": {},
   "outputs": [],
   "source": [
    "with pm.Model() as model_bikes:\n",
    "    xdata = pm.MutableData(\"xdata\", X)\n",
    "    a = pm.Exponential(\"a\", 1)\n",
    "    mu = pmb.BART(\"mu\", xdata, np.log(Y), m=50)\n",
    "    y = pm.NegativeBinomial(\"y\", mu=pm.math.exp(mu), alpha=a, observed=Y, shape=xdata.shape[0])\n",
    "    # idata_bikes = pm.sample(compute_convergence_checks=False, random_seed=99)\n",
    "    # idata_bikes = pm.sample(random_seed=99, draws=100, tune=100, compute_convergence_checks=False)"
   ]
  },
  {
   "cell_type": "code",
   "execution_count": 12,
   "metadata": {},
   "outputs": [],
   "source": [
    "idata = az.from_netcdf(\"test3.nc\")\n",
    "    "
   ]
  },
  {
   "cell_type": "code",
   "execution_count": 20,
   "metadata": {},
   "outputs": [
    {
     "data": {
      "text/plain": [
       "(10, 4)"
      ]
     },
     "execution_count": 20,
     "metadata": {},
     "output_type": "execute_result"
    }
   ],
   "source": [
    "xt.shape"
   ]
  },
  {
   "cell_type": "code",
   "execution_count": 22,
   "metadata": {},
   "outputs": [
    {
     "name": "stderr",
     "output_type": "stream",
     "text": [
      "Sampling: [mu, y]\n"
     ]
    },
    {
     "data": {
      "text/html": [
       "\n",
       "<style>\n",
       "    /* Turns off some styling */\n",
       "    progress {\n",
       "        /* gets rid of default border in Firefox and Opera. */\n",
       "        border: none;\n",
       "        /* Needs to be in here for Safari polyfill so background images work as expected. */\n",
       "        background-size: auto;\n",
       "    }\n",
       "    progress:not([value]), progress:not([value])::-webkit-progress-bar {\n",
       "        background: repeating-linear-gradient(45deg, #7e7e7e, #7e7e7e 10px, #5c5c5c 10px, #5c5c5c 20px);\n",
       "    }\n",
       "    .progress-bar-interrupted, .progress-bar-interrupted::-webkit-progress-bar {\n",
       "        background: #F44336;\n",
       "    }\n",
       "</style>\n"
      ],
      "text/plain": [
       "<IPython.core.display.HTML object>"
      ]
     },
     "metadata": {},
     "output_type": "display_data"
    },
    {
     "data": {
      "text/html": [
       "\n",
       "    <div>\n",
       "      <progress value='0' class='' max='400' style='width:300px; height:20px; vertical-align: middle;'></progress>\n",
       "      0.00% [0/400 00:00&lt;?]\n",
       "    </div>\n",
       "    "
      ],
      "text/plain": [
       "<IPython.core.display.HTML object>"
      ]
     },
     "metadata": {},
     "output_type": "display_data"
    },
    {
     "ename": "ValueError",
     "evalue": "size does not match the broadcast shape of the parameters. (10,), (10,), (348,)\nApply node that caused the error: nbinom_rv{0, (0, 0), int64, True}(RandomGeneratorSharedVariable(<Generator(PCG64) at 0x7F1C413057E0>), MakeVector{dtype='int64'}.0, 4, a, Composite{(i1 / (exp(i0) + i1))}.0)\nToposort index: 5\nInputs types: [RandomGeneratorType, TensorType(int64, shape=(1,)), TensorType(int64, shape=()), TensorType(float64, shape=()), TensorType(float64, shape=(None,))]\nInputs shapes: ['No shapes', (1,), (), (), (348,)]\nInputs strides: ['No strides', (8,), (), (), (8,)]\nInputs values: [Generator(PCG64) at 0x7F1C413057E0, array([10]), array(4), array(2.10533087), 'not shown']\nOutputs clients: [['output'], ['output']]\n\nHINT: Re-running with most PyTensor optimizations disabled could provide a back-trace showing when this node was created. This can be done by setting the PyTensor flag 'optimizer=fast_compile'. If that does not work, PyTensor optimizations can be disabled with 'optimizer=None'.\nHINT: Use the PyTensor flag `exception_verbosity=high` for a debug print-out and storage map footprint of this Apply node.",
     "output_type": "error",
     "traceback": [
      "\u001b[0;31m---------------------------------------------------------------------------\u001b[0m",
      "\u001b[0;31mValueError\u001b[0m                                Traceback (most recent call last)",
      "File \u001b[0;32m~/.local/lib/python3.10/site-packages/pytensor/compile/function/types.py:970\u001b[0m, in \u001b[0;36mFunction.__call__\u001b[0;34m(self, *args, **kwargs)\u001b[0m\n\u001b[1;32m    968\u001b[0m \u001b[39mtry\u001b[39;00m:\n\u001b[1;32m    969\u001b[0m     outputs \u001b[39m=\u001b[39m (\n\u001b[0;32m--> 970\u001b[0m         \u001b[39mself\u001b[39;49m\u001b[39m.\u001b[39;49mvm()\n\u001b[1;32m    971\u001b[0m         \u001b[39mif\u001b[39;00m output_subset \u001b[39mis\u001b[39;00m \u001b[39mNone\u001b[39;00m\n\u001b[1;32m    972\u001b[0m         \u001b[39melse\u001b[39;00m \u001b[39mself\u001b[39m\u001b[39m.\u001b[39mvm(output_subset\u001b[39m=\u001b[39moutput_subset)\n\u001b[1;32m    973\u001b[0m     )\n\u001b[1;32m    974\u001b[0m \u001b[39mexcept\u001b[39;00m \u001b[39mException\u001b[39;00m:\n",
      "File \u001b[0;32m~/.local/lib/python3.10/site-packages/pytensor/graph/op.py:552\u001b[0m, in \u001b[0;36mOp.make_py_thunk.<locals>.rval\u001b[0;34m(p, i, o, n, params)\u001b[0m\n\u001b[1;32m    548\u001b[0m \u001b[39m@is_thunk_type\u001b[39m\n\u001b[1;32m    549\u001b[0m \u001b[39mdef\u001b[39;00m \u001b[39mrval\u001b[39m(\n\u001b[1;32m    550\u001b[0m     p\u001b[39m=\u001b[39mp, i\u001b[39m=\u001b[39mnode_input_storage, o\u001b[39m=\u001b[39mnode_output_storage, n\u001b[39m=\u001b[39mnode, params\u001b[39m=\u001b[39m\u001b[39mNone\u001b[39;00m\n\u001b[1;32m    551\u001b[0m ):\n\u001b[0;32m--> 552\u001b[0m     r \u001b[39m=\u001b[39m p(n, [x[\u001b[39m0\u001b[39;49m] \u001b[39mfor\u001b[39;49;00m x \u001b[39min\u001b[39;49;00m i], o)\n\u001b[1;32m    553\u001b[0m     \u001b[39mfor\u001b[39;00m o \u001b[39min\u001b[39;00m node\u001b[39m.\u001b[39moutputs:\n",
      "File \u001b[0;32m~/.local/lib/python3.10/site-packages/pytensor/tensor/random/op.py:339\u001b[0m, in \u001b[0;36mRandomVariable.perform\u001b[0;34m(self, node, inputs, outputs)\u001b[0m\n\u001b[1;32m    337\u001b[0m rng_var_out[\u001b[39m0\u001b[39m] \u001b[39m=\u001b[39m rng\n\u001b[0;32m--> 339\u001b[0m smpl_val \u001b[39m=\u001b[39m \u001b[39mself\u001b[39;49m\u001b[39m.\u001b[39;49mrng_fn(rng, \u001b[39m*\u001b[39;49m(args \u001b[39m+\u001b[39;49m [size]))\n\u001b[1;32m    341\u001b[0m \u001b[39mif\u001b[39;00m (\n\u001b[1;32m    342\u001b[0m     \u001b[39mnot\u001b[39;00m \u001b[39misinstance\u001b[39m(smpl_val, np\u001b[39m.\u001b[39mndarray)\n\u001b[1;32m    343\u001b[0m     \u001b[39mor\u001b[39;00m \u001b[39mstr\u001b[39m(smpl_val\u001b[39m.\u001b[39mdtype) \u001b[39m!=\u001b[39m out_var\u001b[39m.\u001b[39mtype\u001b[39m.\u001b[39mdtype\n\u001b[1;32m    344\u001b[0m ):\n",
      "File \u001b[0;32m~/.local/lib/python3.10/site-packages/pytensor/tensor/random/basic.py:59\u001b[0m, in \u001b[0;36mScipyRandomVariable.rng_fn\u001b[0;34m(cls, *args, **kwargs)\u001b[0m\n\u001b[1;32m     58\u001b[0m size \u001b[39m=\u001b[39m args[\u001b[39m-\u001b[39m\u001b[39m1\u001b[39m]\n\u001b[0;32m---> 59\u001b[0m res \u001b[39m=\u001b[39m \u001b[39mcls\u001b[39;49m\u001b[39m.\u001b[39;49mrng_fn_scipy(\u001b[39m*\u001b[39;49margs, \u001b[39m*\u001b[39;49m\u001b[39m*\u001b[39;49mkwargs)\n\u001b[1;32m     61\u001b[0m \u001b[39mif\u001b[39;00m np\u001b[39m.\u001b[39mndim(res) \u001b[39m==\u001b[39m \u001b[39m0\u001b[39m:\n\u001b[1;32m     62\u001b[0m     \u001b[39m# The sample is an `np.number`, and is not writeable, or non-NumPy\u001b[39;00m\n\u001b[1;32m     63\u001b[0m     \u001b[39m# type, so we need to clone/create a usable NumPy result\u001b[39;00m\n",
      "File \u001b[0;32m~/.local/lib/python3.10/site-packages/pytensor/tensor/random/basic.py:1644\u001b[0m, in \u001b[0;36mNegBinomialRV.rng_fn_scipy\u001b[0;34m(cls, rng, n, p, size)\u001b[0m\n\u001b[1;32m   1642\u001b[0m \u001b[39m@classmethod\u001b[39m\n\u001b[1;32m   1643\u001b[0m \u001b[39mdef\u001b[39;00m \u001b[39mrng_fn_scipy\u001b[39m(\u001b[39mcls\u001b[39m, rng, n, p, size):\n\u001b[0;32m-> 1644\u001b[0m     \u001b[39mreturn\u001b[39;00m stats\u001b[39m.\u001b[39;49mnbinom\u001b[39m.\u001b[39;49mrvs(n, p, size\u001b[39m=\u001b[39;49msize, random_state\u001b[39m=\u001b[39;49mrng)\n",
      "File \u001b[0;32m~/.local/lib/python3.10/site-packages/scipy/stats/_distn_infrastructure.py:3343\u001b[0m, in \u001b[0;36mrv_discrete.rvs\u001b[0;34m(self, *args, **kwargs)\u001b[0m\n\u001b[1;32m   3342\u001b[0m kwargs[\u001b[39m'\u001b[39m\u001b[39mdiscrete\u001b[39m\u001b[39m'\u001b[39m] \u001b[39m=\u001b[39m \u001b[39mTrue\u001b[39;00m\n\u001b[0;32m-> 3343\u001b[0m \u001b[39mreturn\u001b[39;00m \u001b[39msuper\u001b[39;49m()\u001b[39m.\u001b[39;49mrvs(\u001b[39m*\u001b[39;49margs, \u001b[39m*\u001b[39;49m\u001b[39m*\u001b[39;49mkwargs)\n",
      "File \u001b[0;32m~/.local/lib/python3.10/site-packages/scipy/stats/_distn_infrastructure.py:1047\u001b[0m, in \u001b[0;36mrv_generic.rvs\u001b[0;34m(self, *args, **kwds)\u001b[0m\n\u001b[1;32m   1046\u001b[0m rndm \u001b[39m=\u001b[39m kwds\u001b[39m.\u001b[39mpop(\u001b[39m'\u001b[39m\u001b[39mrandom_state\u001b[39m\u001b[39m'\u001b[39m, \u001b[39mNone\u001b[39;00m)\n\u001b[0;32m-> 1047\u001b[0m args, loc, scale, size \u001b[39m=\u001b[39m \u001b[39mself\u001b[39;49m\u001b[39m.\u001b[39;49m_parse_args_rvs(\u001b[39m*\u001b[39;49margs, \u001b[39m*\u001b[39;49m\u001b[39m*\u001b[39;49mkwds)\n\u001b[1;32m   1048\u001b[0m cond \u001b[39m=\u001b[39m logical_and(\u001b[39mself\u001b[39m\u001b[39m.\u001b[39m_argcheck(\u001b[39m*\u001b[39margs), (scale \u001b[39m>\u001b[39m\u001b[39m=\u001b[39m \u001b[39m0\u001b[39m))\n",
      "File \u001b[0;32m<string>:6\u001b[0m, in \u001b[0;36m_parse_args_rvs\u001b[0;34m(self, n, p, loc, size)\u001b[0m\n",
      "File \u001b[0;32m~/.local/lib/python3.10/site-packages/scipy/stats/_distn_infrastructure.py:929\u001b[0m, in \u001b[0;36mrv_generic._argcheck_rvs\u001b[0;34m(self, *args, **kwargs)\u001b[0m\n\u001b[1;32m    928\u001b[0m \u001b[39mif\u001b[39;00m \u001b[39mnot\u001b[39;00m ok:\n\u001b[0;32m--> 929\u001b[0m     \u001b[39mraise\u001b[39;00m \u001b[39mValueError\u001b[39;00m(\u001b[39m\"\u001b[39m\u001b[39msize does not match the broadcast shape of \u001b[39m\u001b[39m\"\u001b[39m\n\u001b[1;32m    930\u001b[0m                      \u001b[39mf\u001b[39m\u001b[39m\"\u001b[39m\u001b[39mthe parameters. \u001b[39m\u001b[39m{\u001b[39;00msize\u001b[39m}\u001b[39;00m\u001b[39m, \u001b[39m\u001b[39m{\u001b[39;00msize_\u001b[39m}\u001b[39;00m\u001b[39m, \u001b[39m\u001b[39m{\u001b[39;00mbcast_shape\u001b[39m}\u001b[39;00m\u001b[39m\"\u001b[39m)\n\u001b[1;32m    932\u001b[0m param_bcast \u001b[39m=\u001b[39m all_bcast[:\u001b[39m-\u001b[39m\u001b[39m2\u001b[39m]\n",
      "\u001b[0;31mValueError\u001b[0m: size does not match the broadcast shape of the parameters. (10,), (10,), (348,)",
      "\nDuring handling of the above exception, another exception occurred:\n",
      "\u001b[0;31mValueError\u001b[0m                                Traceback (most recent call last)",
      "Cell \u001b[0;32mIn[22], line 3\u001b[0m\n\u001b[1;32m      1\u001b[0m \u001b[39mwith\u001b[39;00m model_bikes:\n\u001b[1;32m      2\u001b[0m     pm\u001b[39m.\u001b[39mset_data({\u001b[39m\"\u001b[39m\u001b[39mxdata\u001b[39m\u001b[39m\"\u001b[39m:xt}, coords \u001b[39m=\u001b[39m {\u001b[39m\"\u001b[39m\u001b[39mobs\u001b[39m\u001b[39m\"\u001b[39m:np\u001b[39m.\u001b[39marange(\u001b[39m0\u001b[39m,xt\u001b[39m.\u001b[39mshape[\u001b[39m0\u001b[39m])})\n\u001b[0;32m----> 3\u001b[0m     post \u001b[39m=\u001b[39m pm\u001b[39m.\u001b[39;49msample_posterior_predictive(idata, var_names\u001b[39m=\u001b[39;49m[\u001b[39m\"\u001b[39;49m\u001b[39mmu\u001b[39;49m\u001b[39m\"\u001b[39;49m,\u001b[39m\"\u001b[39;49m\u001b[39my\u001b[39;49m\u001b[39m\"\u001b[39;49m])\n\u001b[1;32m      4\u001b[0m post\n",
      "File \u001b[0;32m~/.local/lib/python3.10/site-packages/pymc/sampling/forward.py:644\u001b[0m, in \u001b[0;36msample_posterior_predictive\u001b[0;34m(trace, model, var_names, sample_dims, random_seed, progressbar, return_inferencedata, extend_inferencedata, predictions, idata_kwargs, compile_kwargs)\u001b[0m\n\u001b[1;32m    639\u001b[0m \u001b[39m# there's only a single chain, but the index might hit it multiple times if\u001b[39;00m\n\u001b[1;32m    640\u001b[0m \u001b[39m# the number of indices is greater than the length of the trace.\u001b[39;00m\n\u001b[1;32m    641\u001b[0m \u001b[39melse\u001b[39;00m:\n\u001b[1;32m    642\u001b[0m     param \u001b[39m=\u001b[39m _trace[idx \u001b[39m%\u001b[39m len_trace]\n\u001b[0;32m--> 644\u001b[0m values \u001b[39m=\u001b[39m sampler_fn(\u001b[39m*\u001b[39;49m\u001b[39m*\u001b[39;49mparam)\n\u001b[1;32m    646\u001b[0m \u001b[39mfor\u001b[39;00m k, v \u001b[39min\u001b[39;00m \u001b[39mzip\u001b[39m(vars_, values):\n\u001b[1;32m    647\u001b[0m     ppc_trace_t\u001b[39m.\u001b[39minsert(k\u001b[39m.\u001b[39mname, v, idx)\n",
      "File \u001b[0;32m~/.local/lib/python3.10/site-packages/pymc/util.py:391\u001b[0m, in \u001b[0;36mpoint_wrapper.<locals>.wrapped\u001b[0;34m(**kwargs)\u001b[0m\n\u001b[1;32m    389\u001b[0m \u001b[39mdef\u001b[39;00m \u001b[39mwrapped\u001b[39m(\u001b[39m*\u001b[39m\u001b[39m*\u001b[39mkwargs):\n\u001b[1;32m    390\u001b[0m     input_point \u001b[39m=\u001b[39m {k: v \u001b[39mfor\u001b[39;00m k, v \u001b[39min\u001b[39;00m kwargs\u001b[39m.\u001b[39mitems() \u001b[39mif\u001b[39;00m k \u001b[39min\u001b[39;00m ins}\n\u001b[0;32m--> 391\u001b[0m     \u001b[39mreturn\u001b[39;00m core_function(\u001b[39m*\u001b[39;49m\u001b[39m*\u001b[39;49minput_point)\n",
      "File \u001b[0;32m~/.local/lib/python3.10/site-packages/pytensor/compile/function/types.py:983\u001b[0m, in \u001b[0;36mFunction.__call__\u001b[0;34m(self, *args, **kwargs)\u001b[0m\n\u001b[1;32m    981\u001b[0m     \u001b[39mif\u001b[39;00m \u001b[39mhasattr\u001b[39m(\u001b[39mself\u001b[39m\u001b[39m.\u001b[39mvm, \u001b[39m\"\u001b[39m\u001b[39mthunks\u001b[39m\u001b[39m\"\u001b[39m):\n\u001b[1;32m    982\u001b[0m         thunk \u001b[39m=\u001b[39m \u001b[39mself\u001b[39m\u001b[39m.\u001b[39mvm\u001b[39m.\u001b[39mthunks[\u001b[39mself\u001b[39m\u001b[39m.\u001b[39mvm\u001b[39m.\u001b[39mposition_of_error]\n\u001b[0;32m--> 983\u001b[0m     raise_with_op(\n\u001b[1;32m    984\u001b[0m         \u001b[39mself\u001b[39;49m\u001b[39m.\u001b[39;49mmaker\u001b[39m.\u001b[39;49mfgraph,\n\u001b[1;32m    985\u001b[0m         node\u001b[39m=\u001b[39;49m\u001b[39mself\u001b[39;49m\u001b[39m.\u001b[39;49mvm\u001b[39m.\u001b[39;49mnodes[\u001b[39mself\u001b[39;49m\u001b[39m.\u001b[39;49mvm\u001b[39m.\u001b[39;49mposition_of_error],\n\u001b[1;32m    986\u001b[0m         thunk\u001b[39m=\u001b[39;49mthunk,\n\u001b[1;32m    987\u001b[0m         storage_map\u001b[39m=\u001b[39;49m\u001b[39mgetattr\u001b[39;49m(\u001b[39mself\u001b[39;49m\u001b[39m.\u001b[39;49mvm, \u001b[39m\"\u001b[39;49m\u001b[39mstorage_map\u001b[39;49m\u001b[39m\"\u001b[39;49m, \u001b[39mNone\u001b[39;49;00m),\n\u001b[1;32m    988\u001b[0m     )\n\u001b[1;32m    989\u001b[0m \u001b[39melse\u001b[39;00m:\n\u001b[1;32m    990\u001b[0m     \u001b[39m# old-style linkers raise their own exceptions\u001b[39;00m\n\u001b[1;32m    991\u001b[0m     \u001b[39mraise\u001b[39;00m\n",
      "File \u001b[0;32m~/.local/lib/python3.10/site-packages/pytensor/link/utils.py:535\u001b[0m, in \u001b[0;36mraise_with_op\u001b[0;34m(fgraph, node, thunk, exc_info, storage_map)\u001b[0m\n\u001b[1;32m    530\u001b[0m     warnings\u001b[39m.\u001b[39mwarn(\n\u001b[1;32m    531\u001b[0m         \u001b[39mf\u001b[39m\u001b[39m\"\u001b[39m\u001b[39m{\u001b[39;00mexc_type\u001b[39m}\u001b[39;00m\u001b[39m error does not allow us to add an extra error message\u001b[39m\u001b[39m\"\u001b[39m\n\u001b[1;32m    532\u001b[0m     )\n\u001b[1;32m    533\u001b[0m     \u001b[39m# Some exception need extra parameter in inputs. So forget the\u001b[39;00m\n\u001b[1;32m    534\u001b[0m     \u001b[39m# extra long error message in that case.\u001b[39;00m\n\u001b[0;32m--> 535\u001b[0m \u001b[39mraise\u001b[39;00m exc_value\u001b[39m.\u001b[39mwith_traceback(exc_trace)\n",
      "File \u001b[0;32m~/.local/lib/python3.10/site-packages/pytensor/compile/function/types.py:970\u001b[0m, in \u001b[0;36mFunction.__call__\u001b[0;34m(self, *args, **kwargs)\u001b[0m\n\u001b[1;32m    967\u001b[0m t0_fn \u001b[39m=\u001b[39m time\u001b[39m.\u001b[39mperf_counter()\n\u001b[1;32m    968\u001b[0m \u001b[39mtry\u001b[39;00m:\n\u001b[1;32m    969\u001b[0m     outputs \u001b[39m=\u001b[39m (\n\u001b[0;32m--> 970\u001b[0m         \u001b[39mself\u001b[39;49m\u001b[39m.\u001b[39;49mvm()\n\u001b[1;32m    971\u001b[0m         \u001b[39mif\u001b[39;00m output_subset \u001b[39mis\u001b[39;00m \u001b[39mNone\u001b[39;00m\n\u001b[1;32m    972\u001b[0m         \u001b[39melse\u001b[39;00m \u001b[39mself\u001b[39m\u001b[39m.\u001b[39mvm(output_subset\u001b[39m=\u001b[39moutput_subset)\n\u001b[1;32m    973\u001b[0m     )\n\u001b[1;32m    974\u001b[0m \u001b[39mexcept\u001b[39;00m \u001b[39mException\u001b[39;00m:\n\u001b[1;32m    975\u001b[0m     restore_defaults()\n",
      "File \u001b[0;32m~/.local/lib/python3.10/site-packages/pytensor/graph/op.py:552\u001b[0m, in \u001b[0;36mOp.make_py_thunk.<locals>.rval\u001b[0;34m(p, i, o, n, params)\u001b[0m\n\u001b[1;32m    548\u001b[0m \u001b[39m@is_thunk_type\u001b[39m\n\u001b[1;32m    549\u001b[0m \u001b[39mdef\u001b[39;00m \u001b[39mrval\u001b[39m(\n\u001b[1;32m    550\u001b[0m     p\u001b[39m=\u001b[39mp, i\u001b[39m=\u001b[39mnode_input_storage, o\u001b[39m=\u001b[39mnode_output_storage, n\u001b[39m=\u001b[39mnode, params\u001b[39m=\u001b[39m\u001b[39mNone\u001b[39;00m\n\u001b[1;32m    551\u001b[0m ):\n\u001b[0;32m--> 552\u001b[0m     r \u001b[39m=\u001b[39m p(n, [x[\u001b[39m0\u001b[39;49m] \u001b[39mfor\u001b[39;49;00m x \u001b[39min\u001b[39;49;00m i], o)\n\u001b[1;32m    553\u001b[0m     \u001b[39mfor\u001b[39;00m o \u001b[39min\u001b[39;00m node\u001b[39m.\u001b[39moutputs:\n\u001b[1;32m    554\u001b[0m         compute_map[o][\u001b[39m0\u001b[39m] \u001b[39m=\u001b[39m \u001b[39mTrue\u001b[39;00m\n",
      "File \u001b[0;32m~/.local/lib/python3.10/site-packages/pytensor/tensor/random/op.py:339\u001b[0m, in \u001b[0;36mRandomVariable.perform\u001b[0;34m(self, node, inputs, outputs)\u001b[0m\n\u001b[1;32m    335\u001b[0m     rng \u001b[39m=\u001b[39m copy(rng)\n\u001b[1;32m    337\u001b[0m rng_var_out[\u001b[39m0\u001b[39m] \u001b[39m=\u001b[39m rng\n\u001b[0;32m--> 339\u001b[0m smpl_val \u001b[39m=\u001b[39m \u001b[39mself\u001b[39;49m\u001b[39m.\u001b[39;49mrng_fn(rng, \u001b[39m*\u001b[39;49m(args \u001b[39m+\u001b[39;49m [size]))\n\u001b[1;32m    341\u001b[0m \u001b[39mif\u001b[39;00m (\n\u001b[1;32m    342\u001b[0m     \u001b[39mnot\u001b[39;00m \u001b[39misinstance\u001b[39m(smpl_val, np\u001b[39m.\u001b[39mndarray)\n\u001b[1;32m    343\u001b[0m     \u001b[39mor\u001b[39;00m \u001b[39mstr\u001b[39m(smpl_val\u001b[39m.\u001b[39mdtype) \u001b[39m!=\u001b[39m out_var\u001b[39m.\u001b[39mtype\u001b[39m.\u001b[39mdtype\n\u001b[1;32m    344\u001b[0m ):\n\u001b[1;32m    345\u001b[0m     smpl_val \u001b[39m=\u001b[39m _asarray(smpl_val, dtype\u001b[39m=\u001b[39mout_var\u001b[39m.\u001b[39mtype\u001b[39m.\u001b[39mdtype)\n",
      "File \u001b[0;32m~/.local/lib/python3.10/site-packages/pytensor/tensor/random/basic.py:59\u001b[0m, in \u001b[0;36mScipyRandomVariable.rng_fn\u001b[0;34m(cls, *args, **kwargs)\u001b[0m\n\u001b[1;32m     56\u001b[0m \u001b[39m@classmethod\u001b[39m\n\u001b[1;32m     57\u001b[0m \u001b[39mdef\u001b[39;00m \u001b[39mrng_fn\u001b[39m(\u001b[39mcls\u001b[39m, \u001b[39m*\u001b[39margs, \u001b[39m*\u001b[39m\u001b[39m*\u001b[39mkwargs):\n\u001b[1;32m     58\u001b[0m     size \u001b[39m=\u001b[39m args[\u001b[39m-\u001b[39m\u001b[39m1\u001b[39m]\n\u001b[0;32m---> 59\u001b[0m     res \u001b[39m=\u001b[39m \u001b[39mcls\u001b[39;49m\u001b[39m.\u001b[39;49mrng_fn_scipy(\u001b[39m*\u001b[39;49margs, \u001b[39m*\u001b[39;49m\u001b[39m*\u001b[39;49mkwargs)\n\u001b[1;32m     61\u001b[0m     \u001b[39mif\u001b[39;00m np\u001b[39m.\u001b[39mndim(res) \u001b[39m==\u001b[39m \u001b[39m0\u001b[39m:\n\u001b[1;32m     62\u001b[0m         \u001b[39m# The sample is an `np.number`, and is not writeable, or non-NumPy\u001b[39;00m\n\u001b[1;32m     63\u001b[0m         \u001b[39m# type, so we need to clone/create a usable NumPy result\u001b[39;00m\n\u001b[1;32m     64\u001b[0m         res \u001b[39m=\u001b[39m np\u001b[39m.\u001b[39masarray(res)\n",
      "File \u001b[0;32m~/.local/lib/python3.10/site-packages/pytensor/tensor/random/basic.py:1644\u001b[0m, in \u001b[0;36mNegBinomialRV.rng_fn_scipy\u001b[0;34m(cls, rng, n, p, size)\u001b[0m\n\u001b[1;32m   1642\u001b[0m \u001b[39m@classmethod\u001b[39m\n\u001b[1;32m   1643\u001b[0m \u001b[39mdef\u001b[39;00m \u001b[39mrng_fn_scipy\u001b[39m(\u001b[39mcls\u001b[39m, rng, n, p, size):\n\u001b[0;32m-> 1644\u001b[0m     \u001b[39mreturn\u001b[39;00m stats\u001b[39m.\u001b[39;49mnbinom\u001b[39m.\u001b[39;49mrvs(n, p, size\u001b[39m=\u001b[39;49msize, random_state\u001b[39m=\u001b[39;49mrng)\n",
      "File \u001b[0;32m~/.local/lib/python3.10/site-packages/scipy/stats/_distn_infrastructure.py:3343\u001b[0m, in \u001b[0;36mrv_discrete.rvs\u001b[0;34m(self, *args, **kwargs)\u001b[0m\n\u001b[1;32m   3314\u001b[0m \u001b[39m\u001b[39m\u001b[39m\"\"\"Random variates of given type.\u001b[39;00m\n\u001b[1;32m   3315\u001b[0m \n\u001b[1;32m   3316\u001b[0m \u001b[39mParameters\u001b[39;00m\n\u001b[0;32m   (...)\u001b[0m\n\u001b[1;32m   3340\u001b[0m \n\u001b[1;32m   3341\u001b[0m \u001b[39m\"\"\"\u001b[39;00m\n\u001b[1;32m   3342\u001b[0m kwargs[\u001b[39m'\u001b[39m\u001b[39mdiscrete\u001b[39m\u001b[39m'\u001b[39m] \u001b[39m=\u001b[39m \u001b[39mTrue\u001b[39;00m\n\u001b[0;32m-> 3343\u001b[0m \u001b[39mreturn\u001b[39;00m \u001b[39msuper\u001b[39;49m()\u001b[39m.\u001b[39;49mrvs(\u001b[39m*\u001b[39;49margs, \u001b[39m*\u001b[39;49m\u001b[39m*\u001b[39;49mkwargs)\n",
      "File \u001b[0;32m~/.local/lib/python3.10/site-packages/scipy/stats/_distn_infrastructure.py:1047\u001b[0m, in \u001b[0;36mrv_generic.rvs\u001b[0;34m(self, *args, **kwds)\u001b[0m\n\u001b[1;32m   1045\u001b[0m discrete \u001b[39m=\u001b[39m kwds\u001b[39m.\u001b[39mpop(\u001b[39m'\u001b[39m\u001b[39mdiscrete\u001b[39m\u001b[39m'\u001b[39m, \u001b[39mNone\u001b[39;00m)\n\u001b[1;32m   1046\u001b[0m rndm \u001b[39m=\u001b[39m kwds\u001b[39m.\u001b[39mpop(\u001b[39m'\u001b[39m\u001b[39mrandom_state\u001b[39m\u001b[39m'\u001b[39m, \u001b[39mNone\u001b[39;00m)\n\u001b[0;32m-> 1047\u001b[0m args, loc, scale, size \u001b[39m=\u001b[39m \u001b[39mself\u001b[39;49m\u001b[39m.\u001b[39;49m_parse_args_rvs(\u001b[39m*\u001b[39;49margs, \u001b[39m*\u001b[39;49m\u001b[39m*\u001b[39;49mkwds)\n\u001b[1;32m   1048\u001b[0m cond \u001b[39m=\u001b[39m logical_and(\u001b[39mself\u001b[39m\u001b[39m.\u001b[39m_argcheck(\u001b[39m*\u001b[39margs), (scale \u001b[39m>\u001b[39m\u001b[39m=\u001b[39m \u001b[39m0\u001b[39m))\n\u001b[1;32m   1049\u001b[0m \u001b[39mif\u001b[39;00m \u001b[39mnot\u001b[39;00m np\u001b[39m.\u001b[39mall(cond):\n",
      "File \u001b[0;32m<string>:6\u001b[0m, in \u001b[0;36m_parse_args_rvs\u001b[0;34m(self, n, p, loc, size)\u001b[0m\n",
      "File \u001b[0;32m~/.local/lib/python3.10/site-packages/scipy/stats/_distn_infrastructure.py:929\u001b[0m, in \u001b[0;36mrv_generic._argcheck_rvs\u001b[0;34m(self, *args, **kwargs)\u001b[0m\n\u001b[1;32m    926\u001b[0m ok \u001b[39m=\u001b[39m \u001b[39mall\u001b[39m([bcdim \u001b[39m==\u001b[39m \u001b[39m1\u001b[39m \u001b[39mor\u001b[39;00m bcdim \u001b[39m==\u001b[39m szdim\n\u001b[1;32m    927\u001b[0m           \u001b[39mfor\u001b[39;00m (bcdim, szdim) \u001b[39min\u001b[39;00m \u001b[39mzip\u001b[39m(bcast_shape, size_)])\n\u001b[1;32m    928\u001b[0m \u001b[39mif\u001b[39;00m \u001b[39mnot\u001b[39;00m ok:\n\u001b[0;32m--> 929\u001b[0m     \u001b[39mraise\u001b[39;00m \u001b[39mValueError\u001b[39;00m(\u001b[39m\"\u001b[39m\u001b[39msize does not match the broadcast shape of \u001b[39m\u001b[39m\"\u001b[39m\n\u001b[1;32m    930\u001b[0m                      \u001b[39mf\u001b[39m\u001b[39m\"\u001b[39m\u001b[39mthe parameters. \u001b[39m\u001b[39m{\u001b[39;00msize\u001b[39m}\u001b[39;00m\u001b[39m, \u001b[39m\u001b[39m{\u001b[39;00msize_\u001b[39m}\u001b[39;00m\u001b[39m, \u001b[39m\u001b[39m{\u001b[39;00mbcast_shape\u001b[39m}\u001b[39;00m\u001b[39m\"\u001b[39m)\n\u001b[1;32m    932\u001b[0m param_bcast \u001b[39m=\u001b[39m all_bcast[:\u001b[39m-\u001b[39m\u001b[39m2\u001b[39m]\n\u001b[1;32m    933\u001b[0m loc_bcast \u001b[39m=\u001b[39m all_bcast[\u001b[39m-\u001b[39m\u001b[39m2\u001b[39m]\n",
      "\u001b[0;31mValueError\u001b[0m: size does not match the broadcast shape of the parameters. (10,), (10,), (348,)\nApply node that caused the error: nbinom_rv{0, (0, 0), int64, True}(RandomGeneratorSharedVariable(<Generator(PCG64) at 0x7F1C413057E0>), MakeVector{dtype='int64'}.0, 4, a, Composite{(i1 / (exp(i0) + i1))}.0)\nToposort index: 5\nInputs types: [RandomGeneratorType, TensorType(int64, shape=(1,)), TensorType(int64, shape=()), TensorType(float64, shape=()), TensorType(float64, shape=(None,))]\nInputs shapes: ['No shapes', (1,), (), (), (348,)]\nInputs strides: ['No strides', (8,), (), (), (8,)]\nInputs values: [Generator(PCG64) at 0x7F1C413057E0, array([10]), array(4), array(2.10533087), 'not shown']\nOutputs clients: [['output'], ['output']]\n\nHINT: Re-running with most PyTensor optimizations disabled could provide a back-trace showing when this node was created. This can be done by setting the PyTensor flag 'optimizer=fast_compile'. If that does not work, PyTensor optimizations can be disabled with 'optimizer=None'.\nHINT: Use the PyTensor flag `exception_verbosity=high` for a debug print-out and storage map footprint of this Apply node."
     ]
    }
   ],
   "source": [
    "with model_bikes:\n",
    "    pm.set_data({\"xdata\":xt}, coords = {\"obs\":np.arange(0,xt.shape[0])})\n",
    "    post = pm.sample_posterior_predictive(idata, var_names=[\"mu\",\"y\"])\n",
    "post"
   ]
  },
  {
   "cell_type": "code",
   "execution_count": 23,
   "metadata": {},
   "outputs": [
    {
     "ename": "AttributeError",
     "evalue": "'InferenceData' object has no attribute 'predict'",
     "output_type": "error",
     "traceback": [
      "\u001b[0;31m---------------------------------------------------------------------------\u001b[0m",
      "\u001b[0;31mAttributeError\u001b[0m                            Traceback (most recent call last)",
      "Cell \u001b[0;32mIn[23], line 1\u001b[0m\n\u001b[0;32m----> 1\u001b[0m idata\u001b[39m.\u001b[39;49mpredict()\n",
      "\u001b[0;31mAttributeError\u001b[0m: 'InferenceData' object has no attribute 'predict'"
     ]
    }
   ],
   "source": []
  },
  {
   "cell_type": "code",
   "execution_count": 10,
   "metadata": {},
   "outputs": [
    {
     "ename": "AuthenticationError",
     "evalue": "digest sent was rejected",
     "output_type": "error",
     "traceback": [
      "\u001b[0;31m---------------------------------------------------------------------------\u001b[0m",
      "\u001b[0;31mAuthenticationError\u001b[0m                       Traceback (most recent call last)",
      "Cell \u001b[0;32mIn[10], line 5\u001b[0m\n\u001b[1;32m      1\u001b[0m \u001b[39m# with open('test1.pkl', mode='rb') as file:\u001b[39;00m\n\u001b[1;32m      2\u001b[0m \u001b[39m#    model4 = cpkl.load(file)\u001b[39;00m\n\u001b[1;32m      4\u001b[0m \u001b[39mwith\u001b[39;00m \u001b[39mopen\u001b[39m(\u001b[39m'\u001b[39m\u001b[39mtest1.pkl\u001b[39m\u001b[39m'\u001b[39m, mode\u001b[39m=\u001b[39m\u001b[39m'\u001b[39m\u001b[39mrb\u001b[39m\u001b[39m'\u001b[39m) \u001b[39mas\u001b[39;00m file:\n\u001b[0;32m----> 5\u001b[0m    model4 \u001b[39m=\u001b[39m cpkl\u001b[39m.\u001b[39;49mload(file)\n",
      "File \u001b[0;32m/usr/lib/python3.10/multiprocessing/managers.py:942\u001b[0m, in \u001b[0;36mRebuildProxy\u001b[0;34m(func, token, serializer, kwds)\u001b[0m\n\u001b[1;32m    936\u001b[0m         server\u001b[39m.\u001b[39mid_to_local_proxy_obj[token\u001b[39m.\u001b[39mid] \u001b[39m=\u001b[39m \\\n\u001b[1;32m    937\u001b[0m             server\u001b[39m.\u001b[39mid_to_obj[token\u001b[39m.\u001b[39mid]\n\u001b[1;32m    938\u001b[0m incref \u001b[39m=\u001b[39m (\n\u001b[1;32m    939\u001b[0m     kwds\u001b[39m.\u001b[39mpop(\u001b[39m'\u001b[39m\u001b[39mincref\u001b[39m\u001b[39m'\u001b[39m, \u001b[39mTrue\u001b[39;00m) \u001b[39mand\u001b[39;00m\n\u001b[1;32m    940\u001b[0m     \u001b[39mnot\u001b[39;00m \u001b[39mgetattr\u001b[39m(process\u001b[39m.\u001b[39mcurrent_process(), \u001b[39m'\u001b[39m\u001b[39m_inheriting\u001b[39m\u001b[39m'\u001b[39m, \u001b[39mFalse\u001b[39;00m)\n\u001b[1;32m    941\u001b[0m     )\n\u001b[0;32m--> 942\u001b[0m \u001b[39mreturn\u001b[39;00m func(token, serializer, incref\u001b[39m=\u001b[39;49mincref, \u001b[39m*\u001b[39;49m\u001b[39m*\u001b[39;49mkwds)\n",
      "File \u001b[0;32m/usr/lib/python3.10/multiprocessing/managers.py:792\u001b[0m, in \u001b[0;36mBaseProxy.__init__\u001b[0;34m(self, token, serializer, manager, authkey, exposed, incref, manager_owned)\u001b[0m\n\u001b[1;32m    789\u001b[0m     \u001b[39mself\u001b[39m\u001b[39m.\u001b[39m_authkey \u001b[39m=\u001b[39m process\u001b[39m.\u001b[39mcurrent_process()\u001b[39m.\u001b[39mauthkey\n\u001b[1;32m    791\u001b[0m \u001b[39mif\u001b[39;00m incref:\n\u001b[0;32m--> 792\u001b[0m     \u001b[39mself\u001b[39;49m\u001b[39m.\u001b[39;49m_incref()\n\u001b[1;32m    794\u001b[0m util\u001b[39m.\u001b[39mregister_after_fork(\u001b[39mself\u001b[39m, BaseProxy\u001b[39m.\u001b[39m_after_fork)\n",
      "File \u001b[0;32m/usr/lib/python3.10/multiprocessing/managers.py:846\u001b[0m, in \u001b[0;36mBaseProxy._incref\u001b[0;34m(self)\u001b[0m\n\u001b[1;32m    843\u001b[0m     util\u001b[39m.\u001b[39mdebug(\u001b[39m'\u001b[39m\u001b[39mowned_by_manager skipped INCREF of \u001b[39m\u001b[39m%r\u001b[39;00m\u001b[39m'\u001b[39m, \u001b[39mself\u001b[39m\u001b[39m.\u001b[39m_token\u001b[39m.\u001b[39mid)\n\u001b[1;32m    844\u001b[0m     \u001b[39mreturn\u001b[39;00m\n\u001b[0;32m--> 846\u001b[0m conn \u001b[39m=\u001b[39m \u001b[39mself\u001b[39;49m\u001b[39m.\u001b[39;49m_Client(\u001b[39mself\u001b[39;49m\u001b[39m.\u001b[39;49m_token\u001b[39m.\u001b[39;49maddress, authkey\u001b[39m=\u001b[39;49m\u001b[39mself\u001b[39;49m\u001b[39m.\u001b[39;49m_authkey)\n\u001b[1;32m    847\u001b[0m dispatch(conn, \u001b[39mNone\u001b[39;00m, \u001b[39m'\u001b[39m\u001b[39mincref\u001b[39m\u001b[39m'\u001b[39m, (\u001b[39mself\u001b[39m\u001b[39m.\u001b[39m_id,))\n\u001b[1;32m    848\u001b[0m util\u001b[39m.\u001b[39mdebug(\u001b[39m'\u001b[39m\u001b[39mINCREF \u001b[39m\u001b[39m%r\u001b[39;00m\u001b[39m'\u001b[39m, \u001b[39mself\u001b[39m\u001b[39m.\u001b[39m_token\u001b[39m.\u001b[39mid)\n",
      "File \u001b[0;32m/usr/lib/python3.10/multiprocessing/connection.py:508\u001b[0m, in \u001b[0;36mClient\u001b[0;34m(address, family, authkey)\u001b[0m\n\u001b[1;32m    505\u001b[0m     \u001b[39mraise\u001b[39;00m \u001b[39mTypeError\u001b[39;00m(\u001b[39m'\u001b[39m\u001b[39mauthkey should be a byte string\u001b[39m\u001b[39m'\u001b[39m)\n\u001b[1;32m    507\u001b[0m \u001b[39mif\u001b[39;00m authkey \u001b[39mis\u001b[39;00m \u001b[39mnot\u001b[39;00m \u001b[39mNone\u001b[39;00m:\n\u001b[0;32m--> 508\u001b[0m     answer_challenge(c, authkey)\n\u001b[1;32m    509\u001b[0m     deliver_challenge(c, authkey)\n\u001b[1;32m    511\u001b[0m \u001b[39mreturn\u001b[39;00m c\n",
      "File \u001b[0;32m/usr/lib/python3.10/multiprocessing/connection.py:759\u001b[0m, in \u001b[0;36manswer_challenge\u001b[0;34m(connection, authkey)\u001b[0m\n\u001b[1;32m    757\u001b[0m response \u001b[39m=\u001b[39m connection\u001b[39m.\u001b[39mrecv_bytes(\u001b[39m256\u001b[39m)        \u001b[39m# reject large message\u001b[39;00m\n\u001b[1;32m    758\u001b[0m \u001b[39mif\u001b[39;00m response \u001b[39m!=\u001b[39m WELCOME:\n\u001b[0;32m--> 759\u001b[0m     \u001b[39mraise\u001b[39;00m AuthenticationError(\u001b[39m'\u001b[39m\u001b[39mdigest sent was rejected\u001b[39m\u001b[39m'\u001b[39m)\n",
      "\u001b[0;31mAuthenticationError\u001b[0m: digest sent was rejected"
     ]
    }
   ],
   "source": [
    "# with open('test1.pkl', mode='rb') as file:\n",
    "#    model4 = cpkl.load(file)\n",
    "\n",
    "with open('test1.pkl', mode='rb') as file:\n",
    "   model4 = cpkl.load(file)"
   ]
  }
 ],
 "metadata": {
  "kernelspec": {
   "display_name": "Python 3.10.6 64-bit",
   "language": "python",
   "name": "python3"
  },
  "language_info": {
   "codemirror_mode": {
    "name": "ipython",
    "version": 3
   },
   "file_extension": ".py",
   "mimetype": "text/x-python",
   "name": "python",
   "nbconvert_exporter": "python",
   "pygments_lexer": "ipython3",
   "version": "3.10.6"
  },
  "orig_nbformat": 4,
  "vscode": {
   "interpreter": {
    "hash": "31f2aee4e71d21fbe5cf8b01ff0e069b9275f58929596ceb00d14d90e3e16cd6"
   }
  }
 },
 "nbformat": 4,
 "nbformat_minor": 2
}
